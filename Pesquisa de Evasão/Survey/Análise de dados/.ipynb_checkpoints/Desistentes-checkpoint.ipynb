{
 "cells": [
  {
   "cell_type": "code",
   "execution_count": 2,
   "metadata": {},
   "outputs": [],
   "source": [
    "import numpy as np\n",
    "import pandas as pd"
   ]
  },
  {
   "cell_type": "markdown",
   "metadata": {},
   "source": [
    "------\n",
    "## Simplificando as perguntas\n",
    "--------"
   ]
  },
  {
   "cell_type": "code",
   "execution_count": 75,
   "metadata": {},
   "outputs": [],
   "source": [
    "des = pd.read_csv('DESISTENTES.csv')\\\n",
    "    .dropna(axis=1, how='all')\\\n",
    "    .dropna(axis=0, how='all')\\\n",
    "    .drop('Você é ou já foi aluno do curso de Ciência da Computação ou Engenharia da Computação?', 1)\\\n",
    "    .drop('Unnamed: 0', axis=1)\\\n",
    "    .fillna('')"
   ]
  },
  {
   "cell_type": "markdown",
   "metadata": {},
   "source": [
    "------\n",
    "## Funções Utilizadas\n",
    "--------"
   ]
  },
  {
   "cell_type": "markdown",
   "metadata": {},
   "source": [
    "Neste notebook, foram utilizadas as seguintes funções para a contagem das categorias e suas cross-relações:\n",
    "- cross table\n",
    "- cross table com dados relativos (%)\n",
    "\n",
    "Abaixo estão outras funções auxiliares"
   ]
  },
  {
   "cell_type": "markdown",
   "metadata": {},
   "source": [
    "#### IMPORTANTE: por favor, inicialize as variáveis antes de usar as funções"
   ]
  },
  {
   "cell_type": "code",
   "execution_count": 127,
   "metadata": {},
   "outputs": [],
   "source": [
    "# df.corr(method ='pearson')  # correlação de pearson para variaveis quantitativas\n",
    "# pd.crosstab(df['col1'], df['col2']) # matriz de confusão do python\n",
    "\n",
    "# the same as split\n",
    "def separate(s, sep):\n",
    "    return str(s).split(sep)\n",
    "\n",
    "\n",
    "\n",
    "# stacks two lists in vertical - must have the same columns size\n",
    "def append(list1, list2):\n",
    "    res = list1.copy()\n",
    "    for l in list2:\n",
    "        res.append(l)\n",
    "    return res\n",
    "\n",
    "\n",
    "\n",
    "# stacks two pandas DataFrame in vertical - must have the same columns size. The columns names are passed by argument\n",
    "def appendDataFrames(df1, df2, columns):\n",
    "    l1 = df1.values.tolist()\n",
    "    l2 = df2.values.tolist()\n",
    "    \n",
    "    return pd.DataFrame(append(l1,l2), columns=columns)\n",
    "\n",
    "\n",
    "\n",
    "# splits categories jointed by ''/''\n",
    "def disjoint(df, col, separator):\n",
    "    res = []\n",
    "    indexes = [separator not in i for i in df[col]]\n",
    "    newDF = df.loc[indexes]\n",
    "    \n",
    "    for index, row in df.iterrows():\n",
    "        if(separator in row[col]):\n",
    "            for r in row[col].split(separator):\n",
    "                newRow = row.copy()\n",
    "                newRow[col] = r\n",
    "                \n",
    "                res.append(newRow)\n",
    "            \n",
    "    return appendDataFrames(newDF, pd.DataFrame(res, columns=newDF.columns, index=[len(df.values.tolist()) + i for i in range(0, len(res))]), columns=df.columns)\n",
    "\n",
    "\n",
    "\n",
    "\n",
    "\n",
    "# returns cross table - yet this already exists in python\n",
    "def countCols(table, col1, col2, separador):\n",
    "    # create dictionary\n",
    "    df = pd.DataFrame(table)\n",
    "    \n",
    "    # the counter dictionary\n",
    "    counts = {}\n",
    "    \n",
    "    for index, row in df.iterrows():\n",
    "        # separating, if needed\n",
    "        rowContents1 = separate(row[col1],separador)\n",
    "        rowContents2 = separate(row[col2], separador)\n",
    "        \n",
    "        for r1 in rowContents1:\n",
    "            for r2 in rowContents2:\n",
    "                # making the key\n",
    "                k = r1 + \"_\" + r2\n",
    "                \n",
    "                # test if the key already exists\n",
    "                if k not in counts:\n",
    "                    counts[k] = 0\n",
    "                counts[k] = int(counts[k] + 1)\n",
    "        \n",
    "    # count #rows and #cols\n",
    "    rows = []\n",
    "    cols = []\n",
    "    for key in counts.keys():\n",
    "        #separating row and col\n",
    "        [rowIndex, colIndex] = separate(key, \"_\")\n",
    "        \n",
    "        # testing if the indexes is not included yet\n",
    "        if(not np.isin([rowIndex], rows)[0]):\n",
    "            rows.append(rowIndex)\n",
    "        if(not np.isin([colIndex], cols)[0]):\n",
    "            cols.append(colIndex)\n",
    "    \n",
    "    # create new table\n",
    "    a = np.zeros(shape=(len(rows), len(cols)), dtype=int)\n",
    "    finalTable = pd.DataFrame(a,columns=cols, index=rows)\n",
    "    \n",
    "    # inserting into the final table\n",
    "    for key in counts.keys():\n",
    "        [rowIndex, colIndex] = separate(key, \"_\")\n",
    "        finalTable[colIndex][rowIndex] = int(counts[rowIndex + \"_\" + colIndex])\n",
    "        \n",
    "    return finalTable\n",
    "\n",
    "\n",
    "# replaces the category codes by their category names \n",
    "def switchBack(df, col):\n",
    "    # using the variable codesByCat defined below\n",
    "    res = []\n",
    "    for index, row in df.iterrows():\n",
    "        newRow1 = row.copy()\n",
    "        \n",
    "        # separating the categories, if so\n",
    "        if (\"/\" in row[col]):\n",
    "            [cat1, cat2] = row[col].split(\" / \")\n",
    "            \n",
    "            # removing possible whitespaces\n",
    "            cat1 = cat1.strip()\n",
    "            cat2 = cat2.strip()\n",
    "            \n",
    "            # testing if this is a valid code\n",
    "            if(cat1 not in codesByCat[col].keys() or cat2 not in codesByCat[col].keys()):\n",
    "                print(\"Removendo outlier:\", index, row[col], \"++++++++\")\n",
    "                continue\n",
    "            newRow1[col] = codesByCat[col][cat1] + \" / \" + codesByCat[col][cat2]\n",
    "        elif(row[col] != \"\"):\n",
    "            # testing if this is a valid code\n",
    "            if(row[col] not in codesByCat[col].keys()):\n",
    "                print(\"Removendo outlier:\", index, row[col], \"++++++++\")\n",
    "                continue\n",
    "\n",
    "            newRow1[col] = codesByCat[col][row[col].strip()]\n",
    "        \n",
    "        # putting the new row on the bottom of matrix\n",
    "        res.append(newRow1)\n",
    "    \n",
    "    return pd.DataFrame(res, columns=df.columns)\n"
   ]
  },
  {
   "cell_type": "markdown",
   "metadata": {},
   "source": [
    "--------\n",
    "## Mostrando a Tabela de VETERANOS\n",
    "--------"
   ]
  },
  {
   "cell_type": "markdown",
   "metadata": {},
   "source": [
    "-------\n",
    "## Tabela dos Veteranos - Dados Brutos\n",
    "-------"
   ]
  },
  {
   "cell_type": "markdown",
   "metadata": {},
   "source": [
    "Aqui, estão apresentados os dados com as categorias codificadas, tendo como base a análise de conteúdo realizada. "
   ]
  },
  {
   "cell_type": "code",
   "execution_count": 82,
   "metadata": {
    "scrolled": true
   },
   "outputs": [
    {
     "data": {
      "text/html": [
       "<div>\n",
       "<style scoped>\n",
       "    .dataframe tbody tr th:only-of-type {\n",
       "        vertical-align: middle;\n",
       "    }\n",
       "\n",
       "    .dataframe tbody tr th {\n",
       "        vertical-align: top;\n",
       "    }\n",
       "\n",
       "    .dataframe thead th {\n",
       "        text-align: right;\n",
       "    }\n",
       "</style>\n",
       "<table border=\"1\" class=\"dataframe\">\n",
       "  <thead>\n",
       "    <tr style=\"text-align: right;\">\n",
       "      <th></th>\n",
       "      <th>idade</th>\n",
       "      <th>gênero</th>\n",
       "      <th>curso</th>\n",
       "      <th>motivação para entrar</th>\n",
       "      <th>expectativas</th>\n",
       "      <th>mercado de trabalho</th>\n",
       "      <th>expectativas atendidas</th>\n",
       "      <th>dificuldades</th>\n",
       "      <th>Motivos de desistência</th>\n",
       "      <th>Em que ano e semestre você desistiu do curso?</th>\n",
       "      <th>uso de jogos impactaria na visão sobre o curso?</th>\n",
       "      <th>Em quanto jogos evitariam a desistência?</th>\n",
       "    </tr>\n",
       "  </thead>\n",
       "  <tbody>\n",
       "    <tr>\n",
       "      <th>0</th>\n",
       "      <td>24 a 27</td>\n",
       "      <td>Feminino</td>\n",
       "      <td>Ciência da Computação</td>\n",
       "      <td>Interesse por áreas do curso</td>\n",
       "      <td>Adquirir conhecimento e capacitação na área de...</td>\n",
       "      <td>Não sabia</td>\n",
       "      <td>3</td>\n",
       "      <td>Assuntos distantes do interesse pessoal; Profe...</td>\n",
       "      <td>Não Sabe / Não Respondeu</td>\n",
       "      <td>2016.1</td>\n",
       "      <td>4</td>\n",
       "      <td>3</td>\n",
       "    </tr>\n",
       "    <tr>\n",
       "      <th>1</th>\n",
       "      <td>16 a 19</td>\n",
       "      <td>Feminino</td>\n",
       "      <td>Ciência da Computação</td>\n",
       "      <td>Interesse por áreas do curso</td>\n",
       "      <td>Adquirir conhecimento e capacitação na área de...</td>\n",
       "      <td>Não sabia</td>\n",
       "      <td>2</td>\n",
       "      <td>Professores com didática diferente da esperada...</td>\n",
       "      <td>Distância entre academia e indústria; Professo...</td>\n",
       "      <td>2018.2</td>\n",
       "      <td>4</td>\n",
       "      <td>3</td>\n",
       "    </tr>\n",
       "    <tr>\n",
       "      <th>2</th>\n",
       "      <td>28 ou mais</td>\n",
       "      <td>Masculino</td>\n",
       "      <td>Ciência da Computação</td>\n",
       "      <td>Interesse por áreas do curso</td>\n",
       "      <td>Adquirir conhecimento e capacitação na área de...</td>\n",
       "      <td>Mercado de Trabalho em ascenção</td>\n",
       "      <td>2</td>\n",
       "      <td>Muita teoria e pouca prática</td>\n",
       "      <td>Impossibilidade de trabalhar e estudar</td>\n",
       "      <td>2010.2</td>\n",
       "      <td>5</td>\n",
       "      <td>5</td>\n",
       "    </tr>\n",
       "    <tr>\n",
       "      <th>3</th>\n",
       "      <td>28 ou mais</td>\n",
       "      <td>Masculino</td>\n",
       "      <td>Engenharia da Computação</td>\n",
       "      <td>Interesse por áreas do curso</td>\n",
       "      <td>Qualificar-se para o mercado de trabalho</td>\n",
       "      <td>Mercado de Trabalho em ascenção</td>\n",
       "      <td>2</td>\n",
       "      <td>Distância entre academia e indústria</td>\n",
       "      <td>impossibilidade de trabalhar e estudar; Distân...</td>\n",
       "      <td>2016.1</td>\n",
       "      <td>5</td>\n",
       "      <td>3</td>\n",
       "    </tr>\n",
       "    <tr>\n",
       "      <th>4</th>\n",
       "      <td>20 a 23</td>\n",
       "      <td>Masculino</td>\n",
       "      <td>Engenharia da Computação</td>\n",
       "      <td>Pressão familiar</td>\n",
       "      <td>Adquirir conhecimento e capacitação na área de...</td>\n",
       "      <td>Interesse em área específica no mercado de tra...</td>\n",
       "      <td>2</td>\n",
       "      <td>Assuntos distantes do interesse pessoal</td>\n",
       "      <td>Assuntos distantes do interesse pessoal</td>\n",
       "      <td>2016.2</td>\n",
       "      <td>3</td>\n",
       "      <td>1</td>\n",
       "    </tr>\n",
       "    <tr>\n",
       "      <th>5</th>\n",
       "      <td>24 a 27</td>\n",
       "      <td>Masculino</td>\n",
       "      <td>Ciência da Computação</td>\n",
       "      <td>Interesse por áreas do curso</td>\n",
       "      <td>Adquirir conhecimento e capacitação na área de...</td>\n",
       "      <td>Mercado de Trabalho em ascenção</td>\n",
       "      <td>1</td>\n",
       "      <td>Dificuldade das disciplinas; Distância entre a...</td>\n",
       "      <td>Professores com didática diferente da esperada;</td>\n",
       "      <td>2018.2</td>\n",
       "      <td>3</td>\n",
       "      <td>1</td>\n",
       "    </tr>\n",
       "    <tr>\n",
       "      <th>6</th>\n",
       "      <td>24 a 27</td>\n",
       "      <td>Masculino</td>\n",
       "      <td>Ciência da Computação</td>\n",
       "      <td>Interesse por áreas do curso</td>\n",
       "      <td>Graduar-se em um curso multidisciplinar</td>\n",
       "      <td>Trabalhar e estudar</td>\n",
       "      <td>3</td>\n",
       "      <td>Falta de estrutura das aulas</td>\n",
       "      <td>impossibilidade de trabalhar e estudar</td>\n",
       "      <td>2018.2</td>\n",
       "      <td>3</td>\n",
       "      <td>4</td>\n",
       "    </tr>\n",
       "    <tr>\n",
       "      <th>7</th>\n",
       "      <td>24 a 27</td>\n",
       "      <td>Masculino</td>\n",
       "      <td>Engenharia da Computação</td>\n",
       "      <td>Interesse por áreas do curso</td>\n",
       "      <td>Adquirir conhecimento e capacitação na área de...</td>\n",
       "      <td>Expectativas Positivas</td>\n",
       "      <td>2</td>\n",
       "      <td>impossibilidade de trabalhar e estudar</td>\n",
       "      <td>impossibilidade de trabalhar e estudar</td>\n",
       "      <td>2018.2</td>\n",
       "      <td>5</td>\n",
       "      <td>4</td>\n",
       "    </tr>\n",
       "    <tr>\n",
       "      <th>8</th>\n",
       "      <td>16 a 19</td>\n",
       "      <td>Masculino</td>\n",
       "      <td>Engenharia da Computação</td>\n",
       "      <td>Mercado de trabalho atrativo</td>\n",
       "      <td>expectativas positivas</td>\n",
       "      <td>Expectativas Positivas</td>\n",
       "      <td>2</td>\n",
       "      <td>Professores com didática diferente da esperada...</td>\n",
       "      <td>Expectativa frustrada sobre a área no mercado ...</td>\n",
       "      <td>2019.1</td>\n",
       "      <td>5</td>\n",
       "      <td>4</td>\n",
       "    </tr>\n",
       "    <tr>\n",
       "      <th>9</th>\n",
       "      <td>16 a 19</td>\n",
       "      <td>Masculino</td>\n",
       "      <td>Ciência da Computação</td>\n",
       "      <td>Interesse por áreas do curso</td>\n",
       "      <td>Graduar-se em um curso multidisciplinar</td>\n",
       "      <td>Mercado de Trabalho em ascenção</td>\n",
       "      <td>2</td>\n",
       "      <td>Dificuldade com disciplinas</td>\n",
       "      <td>Assuntos distantes do interesse pessoal;</td>\n",
       "      <td>2019.1</td>\n",
       "      <td>4</td>\n",
       "      <td>5</td>\n",
       "    </tr>\n",
       "  </tbody>\n",
       "</table>\n",
       "</div>"
      ],
      "text/plain": [
       "        idade     gênero                     curso  \\\n",
       "0     24 a 27   Feminino     Ciência da Computação   \n",
       "1     16 a 19   Feminino     Ciência da Computação   \n",
       "2  28 ou mais  Masculino     Ciência da Computação   \n",
       "3  28 ou mais  Masculino  Engenharia da Computação   \n",
       "4     20 a 23  Masculino  Engenharia da Computação   \n",
       "5     24 a 27  Masculino     Ciência da Computação   \n",
       "6     24 a 27  Masculino     Ciência da Computação   \n",
       "7     24 a 27  Masculino  Engenharia da Computação   \n",
       "8     16 a 19  Masculino  Engenharia da Computação   \n",
       "9     16 a 19  Masculino     Ciência da Computação   \n",
       "\n",
       "          motivação para entrar  \\\n",
       "0  Interesse por áreas do curso   \n",
       "1  Interesse por áreas do curso   \n",
       "2  Interesse por áreas do curso   \n",
       "3  Interesse por áreas do curso   \n",
       "4              Pressão familiar   \n",
       "5  Interesse por áreas do curso   \n",
       "6  Interesse por áreas do curso   \n",
       "7  Interesse por áreas do curso   \n",
       "8  Mercado de trabalho atrativo   \n",
       "9  Interesse por áreas do curso   \n",
       "\n",
       "                                        expectativas  \\\n",
       "0  Adquirir conhecimento e capacitação na área de...   \n",
       "1  Adquirir conhecimento e capacitação na área de...   \n",
       "2  Adquirir conhecimento e capacitação na área de...   \n",
       "3           Qualificar-se para o mercado de trabalho   \n",
       "4  Adquirir conhecimento e capacitação na área de...   \n",
       "5  Adquirir conhecimento e capacitação na área de...   \n",
       "6            Graduar-se em um curso multidisciplinar   \n",
       "7  Adquirir conhecimento e capacitação na área de...   \n",
       "8                             expectativas positivas   \n",
       "9            Graduar-se em um curso multidisciplinar   \n",
       "\n",
       "                                 mercado de trabalho  expectativas atendidas  \\\n",
       "0                                          Não sabia                       3   \n",
       "1                                          Não sabia                       2   \n",
       "2                    Mercado de Trabalho em ascenção                       2   \n",
       "3                    Mercado de Trabalho em ascenção                       2   \n",
       "4  Interesse em área específica no mercado de tra...                       2   \n",
       "5                    Mercado de Trabalho em ascenção                       1   \n",
       "6                                Trabalhar e estudar                       3   \n",
       "7                             Expectativas Positivas                       2   \n",
       "8                             Expectativas Positivas                       2   \n",
       "9                    Mercado de Trabalho em ascenção                       2   \n",
       "\n",
       "                                        dificuldades  \\\n",
       "0  Assuntos distantes do interesse pessoal; Profe...   \n",
       "1  Professores com didática diferente da esperada...   \n",
       "2                       Muita teoria e pouca prática   \n",
       "3               Distância entre academia e indústria   \n",
       "4            Assuntos distantes do interesse pessoal   \n",
       "5  Dificuldade das disciplinas; Distância entre a...   \n",
       "6                       Falta de estrutura das aulas   \n",
       "7             impossibilidade de trabalhar e estudar   \n",
       "8  Professores com didática diferente da esperada...   \n",
       "9                        Dificuldade com disciplinas   \n",
       "\n",
       "                              Motivos de desistência  \\\n",
       "0                           Não Sabe / Não Respondeu   \n",
       "1  Distância entre academia e indústria; Professo...   \n",
       "2             Impossibilidade de trabalhar e estudar   \n",
       "3  impossibilidade de trabalhar e estudar; Distân...   \n",
       "4            Assuntos distantes do interesse pessoal   \n",
       "5    Professores com didática diferente da esperada;   \n",
       "6             impossibilidade de trabalhar e estudar   \n",
       "7             impossibilidade de trabalhar e estudar   \n",
       "8  Expectativa frustrada sobre a área no mercado ...   \n",
       "9           Assuntos distantes do interesse pessoal;   \n",
       "\n",
       "   Em que ano e semestre você desistiu do curso?  \\\n",
       "0                                         2016.1   \n",
       "1                                         2018.2   \n",
       "2                                         2010.2   \n",
       "3                                         2016.1   \n",
       "4                                         2016.2   \n",
       "5                                         2018.2   \n",
       "6                                         2018.2   \n",
       "7                                         2018.2   \n",
       "8                                         2019.1   \n",
       "9                                         2019.1   \n",
       "\n",
       "   uso de jogos impactaria na visão sobre o curso?  \\\n",
       "0                                                4   \n",
       "1                                                4   \n",
       "2                                                5   \n",
       "3                                                5   \n",
       "4                                                3   \n",
       "5                                                3   \n",
       "6                                                3   \n",
       "7                                                5   \n",
       "8                                                5   \n",
       "9                                                4   \n",
       "\n",
       "   Em quanto jogos evitariam a desistência?  \n",
       "0                                         3  \n",
       "1                                         3  \n",
       "2                                         5  \n",
       "3                                         3  \n",
       "4                                         1  \n",
       "5                                         1  \n",
       "6                                         4  \n",
       "7                                         4  \n",
       "8                                         4  \n",
       "9                                         5  "
      ]
     },
     "execution_count": 82,
     "metadata": {},
     "output_type": "execute_result"
    }
   ],
   "source": [
    "\n",
    "# replacing the codes by the categorie names\n",
    "codesByCat = {\n",
    "    \"motivação para entrar\" : {\"IntAC\":\"Interesse por áreas do curso\",\\\n",
    "             \"Emp\": \"Empregabilidade\",\\\n",
    "             \"IntTer\":\"Influência de Terceiros\"\\\n",
    "            },\n",
    "\n",
    "    \"expectativas\" : {\n",
    "        \"CCMat\": \"Curso com caráter matemático\", \\\n",
    "        \"PAMasc\": \"Perfil majoritariamente masculino\", \\\n",
    "        \"CCDif\":\"Curso com caráter difícil\", \\\n",
    "        \"PAEnt\":\"Perfil de alunos entusiasmados\",\\\n",
    "        \"CCPrat\": \"Curso com caráter prático\", \\\n",
    "        \"CapAp\": \"Capacitação e aprendizado\", \\\n",
    "        \"EP\": \"Expectativas positivas\", \\\n",
    "        \"CCProg\": \"Curso com caráter voltador para programação\",\\\n",
    "        \"AtivExtCur\": \"Atividades extracurriculares\",\\\n",
    "        \"AtivEC\": \"Atividades extracurriculares\",\\\n",
    "        \"CCMerc\":\"Curso com caráter mercadológico\",\\\n",
    "        \"CCAcad\": \"Curso com caráter acadêmico\", \\\n",
    "        \"CCMenMat\": \"Curso com caráter menos matemático\",\\\n",
    "        \"Netw\": \"Bom networking\",\\\n",
    "        \"ProjPrat\":\"Projetos práticos\",\\\n",
    "        \"EM\": \"Expectativas medianas\"\\\n",
    "        },\n",
    "\n",
    "    \"mercado de trabalho\" : {\n",
    "        \"BEmp\": \"Boa empregabilidade\", \\\n",
    "        \"TrabAI\": \"Trabalhar na área de interesse\", \\\n",
    "        \"EP\":\"Expectativas positivas\", \\\n",
    "        \"N\":\"Nenhuma\",\\\n",
    "        \"DivOp\": \"Diversidade de oportunidades\", \\\n",
    "        \"EmpRR\": \"Empregabilidade regional ruim\", \\\n",
    "        \"SocRel\": \"Socialmente Relevante\", \\\n",
    "        \"MercC\": \"Mercado concorrido\",\\\n",
    "        \"EN\": \"Expectativas negativas\",\\\n",
    "        \"DiscAM\": \"Discrepância entre academia e mercado\"\\\n",
    "        },\n",
    "\n",
    "    \"dificuldades\" : {\n",
    "        \"DOrgP\": \"Dificuldades de foco e organização pessoal\", \\\n",
    "        \"DidProf\": \"Didática dos professores\", \\\n",
    "        \"ProbInf\":\"Problemas na infraestrutura do campus\", \\\n",
    "        \"EstrCInf\": \"Estrutura do curso inflexível\",\\\n",
    "        \"DifDisc\": \"Dificuldade e exigência das disciplinas\",\\\n",
    "        \"BConR\": \"Base pessoal de conhecimento ruim\",\\\n",
    "        \"ExCHO\": \"Excesso de carga horária obrigatória\",\\\n",
    "        \"DiscAM\": \"Discrepância entre academia e mercado de trabalho\",\\\n",
    "        \"DifFin\": \"Dificuldades financeiras\",\\\n",
    "        \"HorConf\": \"Horários conflitantes\",\\\n",
    "        \"FMotivP\": \"Falta de motivação pessoal\",\\\n",
    "        \"PerfAlu\": \"Perfil de alunos do curso\"\\\n",
    "        },\n",
    "\n",
    "    \"quais?\" : {\n",
    "        \"DidProf\": \"Didática dos professores\", \\\n",
    "        \"EstrCInf\": \"Estrutura do curso inflexível\",\\\n",
    "        \"DifDisc\": \"Dificuldade e exigência das disciplinas\",\\\n",
    "        \"BConR\": \"Base pessoal de conhecimento ruim\",\\\n",
    "        \"DifFin\": \"Dificuldades financeiras\",\\\n",
    "        \"HorConf\": \"Horários conflitantes\",\\\n",
    "        \"N\": \"Não sei\",\\\n",
    "        \"FMotP\": \"Falta de motivação pessoal\",\\\n",
    "        }\n",
    "}\n",
    "\n",
    "des = des.rename(columns=map_col_nov)\n",
    "\n",
    "des = des.replace('OUTLIER', 'Não Sabe / Não Respondeu').replace(\"Adquirir conhecimento e capacitação na área de computação / Obter ajuda capacitada de professores qualificados\", \"Adquirir conhecimento e capacitação na área de computação\")\n",
    "\n",
    "des"
   ]
  },
  {
   "cell_type": "markdown",
   "metadata": {},
   "source": [
    "----------\n",
    "## Tabela dos Veteranos - categorias separadas\n",
    "----------"
   ]
  },
  {
   "cell_type": "markdown",
   "metadata": {},
   "source": [
    "Aqui, nos deparamos com o seguinte problema: quando realizamos a contagem das categorias, algumas respostas apresentavam mais de uma delas. \n",
    "\\Com isso, o script entendia que a resposta composta era uma nova categoria e a contabilizava individualmente e isto é indesejado\n",
    "\n",
    "Logo, precisamos dividí-las, colocando-as em linhas separadas (onde cada linha representa uma resposta) e replicando o resto da linha.\n",
    "\n",
    "Daí, vem a preocupação de estarmos replicando dados de forma artificial, mas contornamos da seguinte forma:\n",
    "- Se a coluna teve respostas compostas (i.e., que tiveram que ser separadas), então a contagem dela só pode acontecer individualmente ou relacionada a outra coluna de mesmo tipo (e.g., motivação e dificuldade)\n",
    "- Caso contrário, a contagem acontece na tabela original, sem separação.\n",
    "\n",
    "As perguntas que tiveram respostas compostas foram:\n",
    "* Motivação para entrar no curso\n",
    "* expectativas para com o curso\n",
    "* dificuldades enfrentadas\n",
    "* expectativas sobre o mercado de trabalho\n",
    "\n",
    "Abaixo é mostrado o código, utilizando a função disjoint, e a tabela corrigida."
   ]
  },
  {
   "cell_type": "code",
   "execution_count": null,
   "metadata": {},
   "outputs": [],
   "source": []
  },
  {
   "cell_type": "code",
   "execution_count": 109,
   "metadata": {
    "scrolled": true
   },
   "outputs": [],
   "source": [
    "motiv_des_sep = disjoint(des, \"Motivos de desistência\", \"; \")\n",
    "\n",
    "motiv_entrar_sep = disjoint(des, \"motivação para entrar\", \"; \")\n",
    "\n",
    "exp_sep = disjoint(des, \"expectativas\", \"; \")\n",
    "\n",
    "dific_sep = disjoint(des, \"dificuldades\", \"; \")\n",
    "\n",
    "mercado_sep = disjoint(des, \"mercado de trabalho\", \"; \")\n"
   ]
  },
  {
   "cell_type": "markdown",
   "metadata": {},
   "source": [
    "--------\n",
    "## Contagens\n",
    "--------"
   ]
  },
  {
   "cell_type": "markdown",
   "metadata": {},
   "source": [
    "#### IMPORTANTE\n",
    "Sempre que a função lidar com a tabela \"vet_extenso\", significa que os dados são da tabela original, sem separação de respostas compostas.\n",
    "\n",
    "Já quando utiliza a tabela \"vet_separados\", os dados foram tratados com relação a respostas compostas (i.e., a resposta ocupa mais de uma categoria da análise de conteúdo)"
   ]
  },
  {
   "cell_type": "markdown",
   "metadata": {},
   "source": [
    "### Curso"
   ]
  },
  {
   "cell_type": "code",
   "execution_count": 85,
   "metadata": {},
   "outputs": [
    {
     "data": {
      "text/plain": [
       "Ciência da Computação       6\n",
       "Engenharia da Computação    4\n",
       "Name: curso, dtype: int64"
      ]
     },
     "execution_count": 85,
     "metadata": {},
     "output_type": "execute_result"
    }
   ],
   "source": [
    "des['curso'].value_counts()"
   ]
  },
  {
   "cell_type": "markdown",
   "metadata": {},
   "source": [
    "----------\n",
    "### Faixa Etária"
   ]
  },
  {
   "cell_type": "code",
   "execution_count": 86,
   "metadata": {},
   "outputs": [
    {
     "data": {
      "text/plain": [
       "24 a 27       4\n",
       "16 a 19       3\n",
       "28 ou mais    2\n",
       "20 a 23       1\n",
       "Name: idade, dtype: int64"
      ]
     },
     "execution_count": 86,
     "metadata": {},
     "output_type": "execute_result"
    }
   ],
   "source": [
    "des['idade'].value_counts()"
   ]
  },
  {
   "cell_type": "markdown",
   "metadata": {},
   "source": [
    "----------\n",
    "### Gênero"
   ]
  },
  {
   "cell_type": "code",
   "execution_count": 87,
   "metadata": {},
   "outputs": [
    {
     "data": {
      "text/plain": [
       "Masculino    8\n",
       "Feminino     2\n",
       "Name: gênero, dtype: int64"
      ]
     },
     "execution_count": 87,
     "metadata": {},
     "output_type": "execute_result"
    }
   ],
   "source": [
    "des['gênero'].value_counts()"
   ]
  },
  {
   "cell_type": "markdown",
   "metadata": {},
   "source": [
    "----------\n",
    "### Motivação para entrar\n"
   ]
  },
  {
   "cell_type": "code",
   "execution_count": 110,
   "metadata": {},
   "outputs": [
    {
     "data": {
      "text/plain": [
       "Interesse por áreas do curso    8\n",
       "Pressão familiar                1\n",
       "Mercado de trabalho atrativo    1\n",
       "Name: motivação para entrar, dtype: int64"
      ]
     },
     "execution_count": 110,
     "metadata": {},
     "output_type": "execute_result"
    }
   ],
   "source": [
    "motiv_entrar_sep['motivação para entrar'].value_counts()"
   ]
  },
  {
   "cell_type": "markdown",
   "metadata": {},
   "source": [
    "--------\n",
    "### Expectativas"
   ]
  },
  {
   "cell_type": "code",
   "execution_count": 111,
   "metadata": {},
   "outputs": [
    {
     "data": {
      "text/plain": [
       "Adquirir conhecimento e capacitação na área de computação    6\n",
       "Graduar-se em um curso multidisciplinar                      2\n",
       "expectativas positivas                                       1\n",
       "Qualificar-se para o mercado de trabalho                     1\n",
       "Name: expectativas, dtype: int64"
      ]
     },
     "execution_count": 111,
     "metadata": {},
     "output_type": "execute_result"
    }
   ],
   "source": [
    "exp_sep['expectativas'].value_counts()"
   ]
  },
  {
   "cell_type": "markdown",
   "metadata": {},
   "source": [
    "--------\n",
    "### Expectativas Atendidas"
   ]
  },
  {
   "cell_type": "code",
   "execution_count": 90,
   "metadata": {},
   "outputs": [
    {
     "data": {
      "text/html": [
       "<div>\n",
       "<style scoped>\n",
       "    .dataframe tbody tr th:only-of-type {\n",
       "        vertical-align: middle;\n",
       "    }\n",
       "\n",
       "    .dataframe tbody tr th {\n",
       "        vertical-align: top;\n",
       "    }\n",
       "\n",
       "    .dataframe thead th {\n",
       "        text-align: right;\n",
       "    }\n",
       "</style>\n",
       "<table border=\"1\" class=\"dataframe\">\n",
       "  <thead>\n",
       "    <tr style=\"text-align: right;\">\n",
       "      <th></th>\n",
       "      <th>expectativas atendidas</th>\n",
       "    </tr>\n",
       "  </thead>\n",
       "  <tbody>\n",
       "    <tr>\n",
       "      <th>3</th>\n",
       "      <td>2</td>\n",
       "    </tr>\n",
       "    <tr>\n",
       "      <th>2</th>\n",
       "      <td>7</td>\n",
       "    </tr>\n",
       "    <tr>\n",
       "      <th>1</th>\n",
       "      <td>1</td>\n",
       "    </tr>\n",
       "  </tbody>\n",
       "</table>\n",
       "</div>"
      ],
      "text/plain": [
       "   expectativas atendidas\n",
       "3                       2\n",
       "2                       7\n",
       "1                       1"
      ]
     },
     "execution_count": 90,
     "metadata": {},
     "output_type": "execute_result"
    }
   ],
   "source": [
    "pd.DataFrame(des['expectativas atendidas'].replace(\"\", \"Não sabem / Não opinaram\").value_counts()).sort_index(ascending=False)"
   ]
  },
  {
   "cell_type": "markdown",
   "metadata": {},
   "source": [
    "--------\n",
    "### Expectativas Atendidas X Expectativas"
   ]
  },
  {
   "cell_type": "code",
   "execution_count": 116,
   "metadata": {},
   "outputs": [
    {
     "data": {
      "text/html": [
       "<div>\n",
       "<style scoped>\n",
       "    .dataframe tbody tr th:only-of-type {\n",
       "        vertical-align: middle;\n",
       "    }\n",
       "\n",
       "    .dataframe tbody tr th {\n",
       "        vertical-align: top;\n",
       "    }\n",
       "\n",
       "    .dataframe thead th {\n",
       "        text-align: right;\n",
       "    }\n",
       "</style>\n",
       "<table border=\"1\" class=\"dataframe\">\n",
       "  <thead>\n",
       "    <tr style=\"text-align: right;\">\n",
       "      <th></th>\n",
       "      <th>3</th>\n",
       "      <th>2</th>\n",
       "      <th>1</th>\n",
       "    </tr>\n",
       "  </thead>\n",
       "  <tbody>\n",
       "    <tr>\n",
       "      <th>expectativas positivas</th>\n",
       "      <td>0</td>\n",
       "      <td>1</td>\n",
       "      <td>0</td>\n",
       "    </tr>\n",
       "    <tr>\n",
       "      <th>Qualificar-se para o mercado de trabalho</th>\n",
       "      <td>0</td>\n",
       "      <td>1</td>\n",
       "      <td>0</td>\n",
       "    </tr>\n",
       "    <tr>\n",
       "      <th>Graduar-se em um curso multidisciplinar</th>\n",
       "      <td>1</td>\n",
       "      <td>1</td>\n",
       "      <td>0</td>\n",
       "    </tr>\n",
       "    <tr>\n",
       "      <th>Adquirir conhecimento e capacitação na área de computação</th>\n",
       "      <td>1</td>\n",
       "      <td>4</td>\n",
       "      <td>1</td>\n",
       "    </tr>\n",
       "  </tbody>\n",
       "</table>\n",
       "</div>"
      ],
      "text/plain": [
       "                                                    3  2  1\n",
       "expectativas positivas                              0  1  0\n",
       "Qualificar-se para o mercado de trabalho            0  1  0\n",
       "Graduar-se em um curso multidisciplinar             1  1  0\n",
       "Adquirir conhecimento e capacitação na área de ...  1  4  1"
      ]
     },
     "execution_count": 116,
     "metadata": {},
     "output_type": "execute_result"
    }
   ],
   "source": [
    "countCols(des,  \"expectativas\", \"expectativas atendidas\").sort_index(ascending=False)"
   ]
  },
  {
   "cell_type": "markdown",
   "metadata": {},
   "source": [
    "--------\n",
    "### Mercado de Trabalho"
   ]
  },
  {
   "cell_type": "code",
   "execution_count": 119,
   "metadata": {},
   "outputs": [
    {
     "data": {
      "text/plain": [
       "Mercado de Trabalho em ascenção                        4\n",
       "Não sabia                                              2\n",
       "Expectativas Positivas                                 2\n",
       "Interesse em área específica no mercado de trabalho    1\n",
       "Trabalhar e estudar                                    1\n",
       "Name: mercado de trabalho, dtype: int64"
      ]
     },
     "execution_count": 119,
     "metadata": {},
     "output_type": "execute_result"
    }
   ],
   "source": [
    "mercado_sep['mercado de trabalho'].replace(\"\", \"Não sabem / Não opinaram\").value_counts()"
   ]
  },
  {
   "cell_type": "markdown",
   "metadata": {},
   "source": [
    "--------\n",
    "### Dificuldades Enfrentadas"
   ]
  },
  {
   "cell_type": "code",
   "execution_count": 120,
   "metadata": {},
   "outputs": [
    {
     "data": {
      "text/plain": [
       "Professores com didática diferente da esperada    3\n",
       "Dificuldade com disciplinas                       3\n",
       "Distância entre academia e indústria              2\n",
       "Assuntos distantes do interesse pessoal           2\n",
       "Falta de estrutura das aulas                      1\n",
       "Muita teoria e pouca prática                      1\n",
       "Dificuldade das disciplinas                       1\n",
       "impossibilidade de trabalhar e estudar            1\n",
       "Name: dificuldades, dtype: int64"
      ]
     },
     "execution_count": 120,
     "metadata": {},
     "output_type": "execute_result"
    }
   ],
   "source": [
    "dific_sep['dificuldades'].replace(\"\", \"Não sabem / Não opinaram\").value_counts()"
   ]
  },
  {
   "cell_type": "markdown",
   "metadata": {},
   "source": [
    "--------\n",
    "### Motivos de Desistência"
   ]
  },
  {
   "cell_type": "code",
   "execution_count": 122,
   "metadata": {},
   "outputs": [
    {
     "data": {
      "text/plain": [
       "impossibilidade de trabalhar e estudar                       3\n",
       "Distância entre academia e indústria                         2\n",
       "Não Sabe / Não Respondeu                                     1\n",
       "Falta de motivação                                           1\n",
       "Impossibilidade de trabalhar e estudar                       1\n",
       "Assuntos distantes do interesse pessoal                      1\n",
       "Professores com didática diferente da esperada               1\n",
       "Expectativa frustrada sobre a área no mercado de trabalho    1\n",
       "Professores com didática diferente da esperada;              1\n",
       "Assuntos distantes do interesse pessoal;                     1\n",
       "Name: Motivos de desistência, dtype: int64"
      ]
     },
     "execution_count": 122,
     "metadata": {},
     "output_type": "execute_result"
    }
   ],
   "source": [
    "motiv_des_sep['Motivos de desistência'].value_counts()"
   ]
  },
  {
   "cell_type": "markdown",
   "metadata": {},
   "source": [
    "--------\n",
    "### Jogos Poderiam evitar desistência?"
   ]
  },
  {
   "cell_type": "code",
   "execution_count": 29,
   "metadata": {},
   "outputs": [
    {
     "data": {
      "text/html": [
       "<div>\n",
       "<style scoped>\n",
       "    .dataframe tbody tr th:only-of-type {\n",
       "        vertical-align: middle;\n",
       "    }\n",
       "\n",
       "    .dataframe tbody tr th {\n",
       "        vertical-align: top;\n",
       "    }\n",
       "\n",
       "    .dataframe thead th {\n",
       "        text-align: right;\n",
       "    }\n",
       "</style>\n",
       "<table border=\"1\" class=\"dataframe\">\n",
       "  <thead>\n",
       "    <tr style=\"text-align: right;\">\n",
       "      <th></th>\n",
       "      <th>Em quanto jogos evitariam a desistência?</th>\n",
       "    </tr>\n",
       "  </thead>\n",
       "  <tbody>\n",
       "    <tr>\n",
       "      <th>5</th>\n",
       "      <td>2</td>\n",
       "    </tr>\n",
       "    <tr>\n",
       "      <th>4</th>\n",
       "      <td>3</td>\n",
       "    </tr>\n",
       "    <tr>\n",
       "      <th>3</th>\n",
       "      <td>3</td>\n",
       "    </tr>\n",
       "    <tr>\n",
       "      <th>1</th>\n",
       "      <td>2</td>\n",
       "    </tr>\n",
       "  </tbody>\n",
       "</table>\n",
       "</div>"
      ],
      "text/plain": [
       "   Em quanto jogos evitariam a desistência?\n",
       "5                                         2\n",
       "4                                         3\n",
       "3                                         3\n",
       "1                                         2"
      ]
     },
     "execution_count": 29,
     "metadata": {},
     "output_type": "execute_result"
    }
   ],
   "source": [
    "pd.DataFrame(des['Em quanto jogos evitariam a desistência?'].value_counts()).sort_index(ascending=False)"
   ]
  },
  {
   "cell_type": "markdown",
   "metadata": {},
   "source": [
    "--------\n",
    "### Uso de jogos impactaria na visão sobre o curso?"
   ]
  },
  {
   "cell_type": "code",
   "execution_count": 30,
   "metadata": {},
   "outputs": [
    {
     "data": {
      "text/html": [
       "<div>\n",
       "<style scoped>\n",
       "    .dataframe tbody tr th:only-of-type {\n",
       "        vertical-align: middle;\n",
       "    }\n",
       "\n",
       "    .dataframe tbody tr th {\n",
       "        vertical-align: top;\n",
       "    }\n",
       "\n",
       "    .dataframe thead th {\n",
       "        text-align: right;\n",
       "    }\n",
       "</style>\n",
       "<table border=\"1\" class=\"dataframe\">\n",
       "  <thead>\n",
       "    <tr style=\"text-align: right;\">\n",
       "      <th></th>\n",
       "      <th>uso de jogos impactaria na visão sobre o curso?</th>\n",
       "    </tr>\n",
       "  </thead>\n",
       "  <tbody>\n",
       "    <tr>\n",
       "      <th>5</th>\n",
       "      <td>4</td>\n",
       "    </tr>\n",
       "    <tr>\n",
       "      <th>4</th>\n",
       "      <td>3</td>\n",
       "    </tr>\n",
       "    <tr>\n",
       "      <th>3</th>\n",
       "      <td>3</td>\n",
       "    </tr>\n",
       "  </tbody>\n",
       "</table>\n",
       "</div>"
      ],
      "text/plain": [
       "   uso de jogos impactaria na visão sobre o curso?\n",
       "5                                                4\n",
       "4                                                3\n",
       "3                                                3"
      ]
     },
     "execution_count": 30,
     "metadata": {},
     "output_type": "execute_result"
    }
   ],
   "source": [
    "pd.DataFrame(des['uso de jogos impactaria na visão sobre o curso?'].value_counts()).sort_index(ascending=False)"
   ]
  },
  {
   "cell_type": "markdown",
   "metadata": {},
   "source": [
    "## Gênero x curso"
   ]
  },
  {
   "cell_type": "markdown",
   "metadata": {},
   "source": [
    "* ### contagem absoluta"
   ]
  },
  {
   "cell_type": "code",
   "execution_count": 33,
   "metadata": {},
   "outputs": [
    {
     "data": {
      "text/html": [
       "<div>\n",
       "<style scoped>\n",
       "    .dataframe tbody tr th:only-of-type {\n",
       "        vertical-align: middle;\n",
       "    }\n",
       "\n",
       "    .dataframe tbody tr th {\n",
       "        vertical-align: top;\n",
       "    }\n",
       "\n",
       "    .dataframe thead th {\n",
       "        text-align: right;\n",
       "    }\n",
       "</style>\n",
       "<table border=\"1\" class=\"dataframe\">\n",
       "  <thead>\n",
       "    <tr style=\"text-align: right;\">\n",
       "      <th>curso</th>\n",
       "      <th>Ciência da Computação</th>\n",
       "      <th>Engenharia da Computação</th>\n",
       "    </tr>\n",
       "    <tr>\n",
       "      <th>gênero</th>\n",
       "      <th></th>\n",
       "      <th></th>\n",
       "    </tr>\n",
       "  </thead>\n",
       "  <tbody>\n",
       "    <tr>\n",
       "      <th>Feminino</th>\n",
       "      <td>2</td>\n",
       "      <td>0</td>\n",
       "    </tr>\n",
       "    <tr>\n",
       "      <th>Masculino</th>\n",
       "      <td>4</td>\n",
       "      <td>4</td>\n",
       "    </tr>\n",
       "  </tbody>\n",
       "</table>\n",
       "</div>"
      ],
      "text/plain": [
       "curso      Ciência da Computação  Engenharia da Computação\n",
       "gênero                                                    \n",
       "Feminino                       2                         0\n",
       "Masculino                      4                         4"
      ]
     },
     "execution_count": 33,
     "metadata": {},
     "output_type": "execute_result"
    }
   ],
   "source": [
    "\n",
    "tab_conting_des = pd.crosstab(des['gênero'], des['curso'])\n",
    "tab_conting_des"
   ]
  },
  {
   "cell_type": "markdown",
   "metadata": {},
   "source": [
    "----------\n",
    "* ### contagem relativa (%)"
   ]
  },
  {
   "cell_type": "code",
   "execution_count": 34,
   "metadata": {},
   "outputs": [
    {
     "data": {
      "text/html": [
       "<style  type=\"text/css\" >\n",
       "</style><table id=\"T_ac967db8_4132_11ea_8402_c8f733fd5142\" ><thead>    <tr>        <th class=\"index_name level0\" >curso</th>        <th class=\"col_heading level0 col0\" >Ciência da Computação</th>        <th class=\"col_heading level0 col1\" >Engenharia da Computação</th>    </tr>    <tr>        <th class=\"index_name level0\" >gênero</th>        <th class=\"blank\" ></th>        <th class=\"blank\" ></th>    </tr></thead><tbody>\n",
       "                <tr>\n",
       "                        <th id=\"T_ac967db8_4132_11ea_8402_c8f733fd5142level0_row0\" class=\"row_heading level0 row0\" >Feminino</th>\n",
       "                        <td id=\"T_ac967db8_4132_11ea_8402_c8f733fd5142row0_col0\" class=\"data row0 col0\" >100.00%</td>\n",
       "                        <td id=\"T_ac967db8_4132_11ea_8402_c8f733fd5142row0_col1\" class=\"data row0 col1\" >0.00%</td>\n",
       "            </tr>\n",
       "            <tr>\n",
       "                        <th id=\"T_ac967db8_4132_11ea_8402_c8f733fd5142level0_row1\" class=\"row_heading level0 row1\" >Masculino</th>\n",
       "                        <td id=\"T_ac967db8_4132_11ea_8402_c8f733fd5142row1_col0\" class=\"data row1 col0\" >50.00%</td>\n",
       "                        <td id=\"T_ac967db8_4132_11ea_8402_c8f733fd5142row1_col1\" class=\"data row1 col1\" >50.00%</td>\n",
       "            </tr>\n",
       "    </tbody></table>"
      ],
      "text/plain": [
       "<pandas.io.formats.style.Styler at 0x5c9b7c8>"
      ]
     },
     "execution_count": 34,
     "metadata": {},
     "output_type": "execute_result"
    }
   ],
   "source": [
    "tab_conting_des.apply(lambda r: (r)/r.sum(), axis=1).style.format(\"{:.2%}\") # formats 2 digits percentage"
   ]
  },
  {
   "cell_type": "markdown",
   "metadata": {},
   "source": [
    "----------\n",
    "## Curso x Motivação para entrar"
   ]
  },
  {
   "cell_type": "markdown",
   "metadata": {},
   "source": [
    "----------\n",
    "* ### contagem absoluta"
   ]
  },
  {
   "cell_type": "code",
   "execution_count": 35,
   "metadata": {},
   "outputs": [
    {
     "data": {
      "text/html": [
       "<div>\n",
       "<style scoped>\n",
       "    .dataframe tbody tr th:only-of-type {\n",
       "        vertical-align: middle;\n",
       "    }\n",
       "\n",
       "    .dataframe tbody tr th {\n",
       "        vertical-align: top;\n",
       "    }\n",
       "\n",
       "    .dataframe thead th {\n",
       "        text-align: right;\n",
       "    }\n",
       "</style>\n",
       "<table border=\"1\" class=\"dataframe\">\n",
       "  <thead>\n",
       "    <tr style=\"text-align: right;\">\n",
       "      <th>motivação para entrar</th>\n",
       "      <th>Interesse por áreas do curso</th>\n",
       "      <th>Mercado de trabalho atrativo</th>\n",
       "      <th>Pressão familiar</th>\n",
       "    </tr>\n",
       "    <tr>\n",
       "      <th>curso</th>\n",
       "      <th></th>\n",
       "      <th></th>\n",
       "      <th></th>\n",
       "    </tr>\n",
       "  </thead>\n",
       "  <tbody>\n",
       "    <tr>\n",
       "      <th>Ciência da Computação</th>\n",
       "      <td>6</td>\n",
       "      <td>0</td>\n",
       "      <td>0</td>\n",
       "    </tr>\n",
       "    <tr>\n",
       "      <th>Engenharia da Computação</th>\n",
       "      <td>2</td>\n",
       "      <td>1</td>\n",
       "      <td>1</td>\n",
       "    </tr>\n",
       "  </tbody>\n",
       "</table>\n",
       "</div>"
      ],
      "text/plain": [
       "motivação para entrar     Interesse por áreas do curso  \\\n",
       "curso                                                    \n",
       "Ciência da Computação                                6   \n",
       "Engenharia da Computação                             2   \n",
       "\n",
       "motivação para entrar     Mercado de trabalho atrativo  Pressão familiar  \n",
       "curso                                                                     \n",
       "Ciência da Computação                                0                 0  \n",
       "Engenharia da Computação                             1                 1  "
      ]
     },
     "execution_count": 35,
     "metadata": {},
     "output_type": "execute_result"
    }
   ],
   "source": [
    "tab_cross_motiv = pd.crosstab(des['curso'], des['motivação para entrar'])\n",
    "tab_cross_motiv"
   ]
  },
  {
   "cell_type": "markdown",
   "metadata": {},
   "source": [
    "----------\n",
    "* ### contagem relativa (%)"
   ]
  },
  {
   "cell_type": "code",
   "execution_count": 36,
   "metadata": {},
   "outputs": [
    {
     "data": {
      "text/html": [
       "<style  type=\"text/css\" >\n",
       "</style><table id=\"T_b7a498ba_4132_11ea_a994_c8f733fd5142\" ><thead>    <tr>        <th class=\"index_name level0\" >motivação para entrar</th>        <th class=\"col_heading level0 col0\" >Interesse por áreas do curso</th>        <th class=\"col_heading level0 col1\" >Mercado de trabalho atrativo</th>        <th class=\"col_heading level0 col2\" >Pressão familiar</th>    </tr>    <tr>        <th class=\"index_name level0\" >curso</th>        <th class=\"blank\" ></th>        <th class=\"blank\" ></th>        <th class=\"blank\" ></th>    </tr></thead><tbody>\n",
       "                <tr>\n",
       "                        <th id=\"T_b7a498ba_4132_11ea_a994_c8f733fd5142level0_row0\" class=\"row_heading level0 row0\" >Ciência da Computação</th>\n",
       "                        <td id=\"T_b7a498ba_4132_11ea_a994_c8f733fd5142row0_col0\" class=\"data row0 col0\" >100.00%</td>\n",
       "                        <td id=\"T_b7a498ba_4132_11ea_a994_c8f733fd5142row0_col1\" class=\"data row0 col1\" >0.00%</td>\n",
       "                        <td id=\"T_b7a498ba_4132_11ea_a994_c8f733fd5142row0_col2\" class=\"data row0 col2\" >0.00%</td>\n",
       "            </tr>\n",
       "            <tr>\n",
       "                        <th id=\"T_b7a498ba_4132_11ea_a994_c8f733fd5142level0_row1\" class=\"row_heading level0 row1\" >Engenharia da Computação</th>\n",
       "                        <td id=\"T_b7a498ba_4132_11ea_a994_c8f733fd5142row1_col0\" class=\"data row1 col0\" >50.00%</td>\n",
       "                        <td id=\"T_b7a498ba_4132_11ea_a994_c8f733fd5142row1_col1\" class=\"data row1 col1\" >25.00%</td>\n",
       "                        <td id=\"T_b7a498ba_4132_11ea_a994_c8f733fd5142row1_col2\" class=\"data row1 col2\" >25.00%</td>\n",
       "            </tr>\n",
       "    </tbody></table>"
      ],
      "text/plain": [
       "<pandas.io.formats.style.Styler at 0xa709448>"
      ]
     },
     "execution_count": 36,
     "metadata": {},
     "output_type": "execute_result"
    }
   ],
   "source": [
    "tab_cross_motiv.apply(lambda r: r/r.sum(), axis=1).style.format(\"{:.2%}\")"
   ]
  },
  {
   "cell_type": "markdown",
   "metadata": {},
   "source": [
    "## Curso x Expectativas"
   ]
  },
  {
   "cell_type": "markdown",
   "metadata": {},
   "source": [
    "----------\n",
    "* ### contagem absoluta"
   ]
  },
  {
   "cell_type": "code",
   "execution_count": 123,
   "metadata": {},
   "outputs": [
    {
     "data": {
      "text/html": [
       "<div>\n",
       "<style scoped>\n",
       "    .dataframe tbody tr th:only-of-type {\n",
       "        vertical-align: middle;\n",
       "    }\n",
       "\n",
       "    .dataframe tbody tr th {\n",
       "        vertical-align: top;\n",
       "    }\n",
       "\n",
       "    .dataframe thead th {\n",
       "        text-align: right;\n",
       "    }\n",
       "</style>\n",
       "<table border=\"1\" class=\"dataframe\">\n",
       "  <thead>\n",
       "    <tr style=\"text-align: right;\">\n",
       "      <th>expectativas</th>\n",
       "      <th>Adquirir conhecimento e capacitação na área de computação</th>\n",
       "      <th>Graduar-se em um curso multidisciplinar</th>\n",
       "      <th>Qualificar-se para o mercado de trabalho</th>\n",
       "      <th>expectativas positivas</th>\n",
       "    </tr>\n",
       "    <tr>\n",
       "      <th>curso</th>\n",
       "      <th></th>\n",
       "      <th></th>\n",
       "      <th></th>\n",
       "      <th></th>\n",
       "    </tr>\n",
       "  </thead>\n",
       "  <tbody>\n",
       "    <tr>\n",
       "      <th>Ciência da Computação</th>\n",
       "      <td>4</td>\n",
       "      <td>2</td>\n",
       "      <td>0</td>\n",
       "      <td>0</td>\n",
       "    </tr>\n",
       "    <tr>\n",
       "      <th>Engenharia da Computação</th>\n",
       "      <td>2</td>\n",
       "      <td>0</td>\n",
       "      <td>1</td>\n",
       "      <td>1</td>\n",
       "    </tr>\n",
       "  </tbody>\n",
       "</table>\n",
       "</div>"
      ],
      "text/plain": [
       "expectativas              Adquirir conhecimento e capacitação na área de computação  \\\n",
       "curso                                                                                 \n",
       "Ciência da Computação                                                     4           \n",
       "Engenharia da Computação                                                  2           \n",
       "\n",
       "expectativas              Graduar-se em um curso multidisciplinar  \\\n",
       "curso                                                               \n",
       "Ciência da Computação                                           2   \n",
       "Engenharia da Computação                                        0   \n",
       "\n",
       "expectativas              Qualificar-se para o mercado de trabalho  \\\n",
       "curso                                                                \n",
       "Ciência da Computação                                            0   \n",
       "Engenharia da Computação                                         1   \n",
       "\n",
       "expectativas              expectativas positivas  \n",
       "curso                                             \n",
       "Ciência da Computação                          0  \n",
       "Engenharia da Computação                       1  "
      ]
     },
     "execution_count": 123,
     "metadata": {},
     "output_type": "execute_result"
    }
   ],
   "source": [
    "tab_cross_expec = pd.crosstab(des['curso'], des['expectativas'])\n",
    "tab_cross_expec"
   ]
  },
  {
   "cell_type": "markdown",
   "metadata": {},
   "source": [
    "----------\n",
    "* ### contagem relativa (%)"
   ]
  },
  {
   "cell_type": "code",
   "execution_count": 124,
   "metadata": {},
   "outputs": [
    {
     "data": {
      "text/html": [
       "<style  type=\"text/css\" >\n",
       "</style><table id=\"T_3c572a64_4138_11ea_b617_c8f733fd5142\" ><thead>    <tr>        <th class=\"index_name level0\" >expectativas</th>        <th class=\"col_heading level0 col0\" >Adquirir conhecimento e capacitação na área de computação</th>        <th class=\"col_heading level0 col1\" >Graduar-se em um curso multidisciplinar</th>        <th class=\"col_heading level0 col2\" >Qualificar-se para o mercado de trabalho</th>        <th class=\"col_heading level0 col3\" >expectativas positivas</th>    </tr>    <tr>        <th class=\"index_name level0\" >curso</th>        <th class=\"blank\" ></th>        <th class=\"blank\" ></th>        <th class=\"blank\" ></th>        <th class=\"blank\" ></th>    </tr></thead><tbody>\n",
       "                <tr>\n",
       "                        <th id=\"T_3c572a64_4138_11ea_b617_c8f733fd5142level0_row0\" class=\"row_heading level0 row0\" >Ciência da Computação</th>\n",
       "                        <td id=\"T_3c572a64_4138_11ea_b617_c8f733fd5142row0_col0\" class=\"data row0 col0\" >66.67%</td>\n",
       "                        <td id=\"T_3c572a64_4138_11ea_b617_c8f733fd5142row0_col1\" class=\"data row0 col1\" >33.33%</td>\n",
       "                        <td id=\"T_3c572a64_4138_11ea_b617_c8f733fd5142row0_col2\" class=\"data row0 col2\" >0.00%</td>\n",
       "                        <td id=\"T_3c572a64_4138_11ea_b617_c8f733fd5142row0_col3\" class=\"data row0 col3\" >0.00%</td>\n",
       "            </tr>\n",
       "            <tr>\n",
       "                        <th id=\"T_3c572a64_4138_11ea_b617_c8f733fd5142level0_row1\" class=\"row_heading level0 row1\" >Engenharia da Computação</th>\n",
       "                        <td id=\"T_3c572a64_4138_11ea_b617_c8f733fd5142row1_col0\" class=\"data row1 col0\" >50.00%</td>\n",
       "                        <td id=\"T_3c572a64_4138_11ea_b617_c8f733fd5142row1_col1\" class=\"data row1 col1\" >0.00%</td>\n",
       "                        <td id=\"T_3c572a64_4138_11ea_b617_c8f733fd5142row1_col2\" class=\"data row1 col2\" >25.00%</td>\n",
       "                        <td id=\"T_3c572a64_4138_11ea_b617_c8f733fd5142row1_col3\" class=\"data row1 col3\" >25.00%</td>\n",
       "            </tr>\n",
       "    </tbody></table>"
      ],
      "text/plain": [
       "<pandas.io.formats.style.Styler at 0xaa90888>"
      ]
     },
     "execution_count": 124,
     "metadata": {},
     "output_type": "execute_result"
    }
   ],
   "source": [
    "tab_cross_expec.apply(lambda r: r/r.sum(), axis=1).style.format(\"{:.2%}\")"
   ]
  },
  {
   "cell_type": "code",
   "execution_count": null,
   "metadata": {},
   "outputs": [],
   "source": []
  },
  {
   "cell_type": "markdown",
   "metadata": {},
   "source": [
    "## Curso x Expectativas atendidas"
   ]
  },
  {
   "cell_type": "markdown",
   "metadata": {},
   "source": [
    "----------\n",
    "* ### contagem absoluta"
   ]
  },
  {
   "cell_type": "code",
   "execution_count": 125,
   "metadata": {},
   "outputs": [
    {
     "data": {
      "text/html": [
       "<div>\n",
       "<style scoped>\n",
       "    .dataframe tbody tr th:only-of-type {\n",
       "        vertical-align: middle;\n",
       "    }\n",
       "\n",
       "    .dataframe tbody tr th {\n",
       "        vertical-align: top;\n",
       "    }\n",
       "\n",
       "    .dataframe thead th {\n",
       "        text-align: right;\n",
       "    }\n",
       "</style>\n",
       "<table border=\"1\" class=\"dataframe\">\n",
       "  <thead>\n",
       "    <tr style=\"text-align: right;\">\n",
       "      <th>expectativas atendidas</th>\n",
       "      <th>1</th>\n",
       "      <th>2</th>\n",
       "      <th>3</th>\n",
       "    </tr>\n",
       "    <tr>\n",
       "      <th>curso</th>\n",
       "      <th></th>\n",
       "      <th></th>\n",
       "      <th></th>\n",
       "    </tr>\n",
       "  </thead>\n",
       "  <tbody>\n",
       "    <tr>\n",
       "      <th>Ciência da Computação</th>\n",
       "      <td>1</td>\n",
       "      <td>3</td>\n",
       "      <td>2</td>\n",
       "    </tr>\n",
       "    <tr>\n",
       "      <th>Engenharia da Computação</th>\n",
       "      <td>0</td>\n",
       "      <td>4</td>\n",
       "      <td>0</td>\n",
       "    </tr>\n",
       "  </tbody>\n",
       "</table>\n",
       "</div>"
      ],
      "text/plain": [
       "expectativas atendidas    1  2  3\n",
       "curso                            \n",
       "Ciência da Computação     1  3  2\n",
       "Engenharia da Computação  0  4  0"
      ]
     },
     "execution_count": 125,
     "metadata": {},
     "output_type": "execute_result"
    }
   ],
   "source": [
    "tab_cross_atend = pd.crosstab(des['curso'], des['expectativas atendidas'])\n",
    "tab_cross_atend"
   ]
  },
  {
   "cell_type": "markdown",
   "metadata": {},
   "source": [
    "----------\n",
    "* ### contagem relativa (%)"
   ]
  },
  {
   "cell_type": "code",
   "execution_count": 126,
   "metadata": {},
   "outputs": [
    {
     "data": {
      "text/html": [
       "<style  type=\"text/css\" >\n",
       "</style><table id=\"T_42fdb98a_4138_11ea_a229_c8f733fd5142\" ><thead>    <tr>        <th class=\"index_name level0\" >expectativas atendidas</th>        <th class=\"col_heading level0 col0\" >1</th>        <th class=\"col_heading level0 col1\" >2</th>        <th class=\"col_heading level0 col2\" >3</th>    </tr>    <tr>        <th class=\"index_name level0\" >curso</th>        <th class=\"blank\" ></th>        <th class=\"blank\" ></th>        <th class=\"blank\" ></th>    </tr></thead><tbody>\n",
       "                <tr>\n",
       "                        <th id=\"T_42fdb98a_4138_11ea_a229_c8f733fd5142level0_row0\" class=\"row_heading level0 row0\" >Ciência da Computação</th>\n",
       "                        <td id=\"T_42fdb98a_4138_11ea_a229_c8f733fd5142row0_col0\" class=\"data row0 col0\" >16.67%</td>\n",
       "                        <td id=\"T_42fdb98a_4138_11ea_a229_c8f733fd5142row0_col1\" class=\"data row0 col1\" >50.00%</td>\n",
       "                        <td id=\"T_42fdb98a_4138_11ea_a229_c8f733fd5142row0_col2\" class=\"data row0 col2\" >33.33%</td>\n",
       "            </tr>\n",
       "            <tr>\n",
       "                        <th id=\"T_42fdb98a_4138_11ea_a229_c8f733fd5142level0_row1\" class=\"row_heading level0 row1\" >Engenharia da Computação</th>\n",
       "                        <td id=\"T_42fdb98a_4138_11ea_a229_c8f733fd5142row1_col0\" class=\"data row1 col0\" >0.00%</td>\n",
       "                        <td id=\"T_42fdb98a_4138_11ea_a229_c8f733fd5142row1_col1\" class=\"data row1 col1\" >100.00%</td>\n",
       "                        <td id=\"T_42fdb98a_4138_11ea_a229_c8f733fd5142row1_col2\" class=\"data row1 col2\" >0.00%</td>\n",
       "            </tr>\n",
       "    </tbody></table>"
      ],
      "text/plain": [
       "<pandas.io.formats.style.Styler at 0xaf21a08>"
      ]
     },
     "execution_count": 126,
     "metadata": {},
     "output_type": "execute_result"
    }
   ],
   "source": [
    "tab_cross_atend.apply(lambda r: r/r.sum(), axis=1).style.format(\"{:.2%}\")"
   ]
  },
  {
   "cell_type": "markdown",
   "metadata": {},
   "source": [
    "---------------\n",
    "## Curso x Dificuldades"
   ]
  },
  {
   "cell_type": "markdown",
   "metadata": {},
   "source": [
    "----------\n",
    "* ### contagem absoluta"
   ]
  },
  {
   "cell_type": "code",
   "execution_count": 135,
   "metadata": {},
   "outputs": [
    {
     "data": {
      "text/html": [
       "<div>\n",
       "<style scoped>\n",
       "    .dataframe tbody tr th:only-of-type {\n",
       "        vertical-align: middle;\n",
       "    }\n",
       "\n",
       "    .dataframe tbody tr th {\n",
       "        vertical-align: top;\n",
       "    }\n",
       "\n",
       "    .dataframe thead th {\n",
       "        text-align: right;\n",
       "    }\n",
       "</style>\n",
       "<table border=\"1\" class=\"dataframe\">\n",
       "  <thead>\n",
       "    <tr style=\"text-align: right;\">\n",
       "      <th></th>\n",
       "      <th>Muita teoria e pouca prática</th>\n",
       "      <th>Distância entre academia e indústria</th>\n",
       "      <th>Assuntos distantes do interesse pessoal</th>\n",
       "      <th>Falta de estrutura das aulas</th>\n",
       "      <th>impossibilidade de trabalhar e estudar</th>\n",
       "      <th>Dificuldade com disciplinas</th>\n",
       "      <th>Professores com didática diferente da esperada</th>\n",
       "      <th>Dificuldade das disciplinas</th>\n",
       "    </tr>\n",
       "  </thead>\n",
       "  <tbody>\n",
       "    <tr>\n",
       "      <th>Ciência da Computação</th>\n",
       "      <td>1</td>\n",
       "      <td>1</td>\n",
       "      <td>1</td>\n",
       "      <td>1</td>\n",
       "      <td>0</td>\n",
       "      <td>2</td>\n",
       "      <td>2</td>\n",
       "      <td>1</td>\n",
       "    </tr>\n",
       "    <tr>\n",
       "      <th>Engenharia da Computação</th>\n",
       "      <td>0</td>\n",
       "      <td>1</td>\n",
       "      <td>1</td>\n",
       "      <td>0</td>\n",
       "      <td>1</td>\n",
       "      <td>1</td>\n",
       "      <td>1</td>\n",
       "      <td>0</td>\n",
       "    </tr>\n",
       "  </tbody>\n",
       "</table>\n",
       "</div>"
      ],
      "text/plain": [
       "                          Muita teoria e pouca prática  \\\n",
       "Ciência da Computação                                1   \n",
       "Engenharia da Computação                             0   \n",
       "\n",
       "                          Distância entre academia e indústria  \\\n",
       "Ciência da Computação                                        1   \n",
       "Engenharia da Computação                                     1   \n",
       "\n",
       "                          Assuntos distantes do interesse pessoal  \\\n",
       "Ciência da Computação                                           1   \n",
       "Engenharia da Computação                                        1   \n",
       "\n",
       "                          Falta de estrutura das aulas  \\\n",
       "Ciência da Computação                                1   \n",
       "Engenharia da Computação                             0   \n",
       "\n",
       "                          impossibilidade de trabalhar e estudar  \\\n",
       "Ciência da Computação                                          0   \n",
       "Engenharia da Computação                                       1   \n",
       "\n",
       "                          Dificuldade com disciplinas  \\\n",
       "Ciência da Computação                               2   \n",
       "Engenharia da Computação                            1   \n",
       "\n",
       "                          Professores com didática diferente da esperada  \\\n",
       "Ciência da Computação                                                  2   \n",
       "Engenharia da Computação                                               1   \n",
       "\n",
       "                          Dificuldade das disciplinas  \n",
       "Ciência da Computação                               1  \n",
       "Engenharia da Computação                            0  "
      ]
     },
     "execution_count": 135,
     "metadata": {},
     "output_type": "execute_result"
    }
   ],
   "source": [
    "# tab_cross_dif = pd.crosstab(dific_sep['curso'], dific_sep['dificuldades'])\n",
    "tab_cross_dif = countCols(dific_sep, \"curso\", \"dificuldades\", \"; \")\n",
    "tab_cross_dif"
   ]
  },
  {
   "cell_type": "markdown",
   "metadata": {},
   "source": [
    "----------\n",
    "* ### contagem relativa (%)"
   ]
  },
  {
   "cell_type": "code",
   "execution_count": 136,
   "metadata": {
    "scrolled": true
   },
   "outputs": [
    {
     "data": {
      "text/html": [
       "<style  type=\"text/css\" >\n",
       "</style><table id=\"T_fba23d7a_4138_11ea_987a_c8f733fd5142\" ><thead>    <tr>        <th class=\"blank level0\" ></th>        <th class=\"col_heading level0 col0\" >Muita teoria e pouca prática</th>        <th class=\"col_heading level0 col1\" >Distância entre academia e indústria</th>        <th class=\"col_heading level0 col2\" >Assuntos distantes do interesse pessoal</th>        <th class=\"col_heading level0 col3\" >Falta de estrutura das aulas</th>        <th class=\"col_heading level0 col4\" >impossibilidade de trabalhar e estudar</th>        <th class=\"col_heading level0 col5\" >Dificuldade com disciplinas</th>        <th class=\"col_heading level0 col6\" >Professores com didática diferente da esperada</th>        <th class=\"col_heading level0 col7\" >Dificuldade das disciplinas</th>    </tr></thead><tbody>\n",
       "                <tr>\n",
       "                        <th id=\"T_fba23d7a_4138_11ea_987a_c8f733fd5142level0_row0\" class=\"row_heading level0 row0\" >Ciência da Computação</th>\n",
       "                        <td id=\"T_fba23d7a_4138_11ea_987a_c8f733fd5142row0_col0\" class=\"data row0 col0\" >11.11%</td>\n",
       "                        <td id=\"T_fba23d7a_4138_11ea_987a_c8f733fd5142row0_col1\" class=\"data row0 col1\" >11.11%</td>\n",
       "                        <td id=\"T_fba23d7a_4138_11ea_987a_c8f733fd5142row0_col2\" class=\"data row0 col2\" >11.11%</td>\n",
       "                        <td id=\"T_fba23d7a_4138_11ea_987a_c8f733fd5142row0_col3\" class=\"data row0 col3\" >11.11%</td>\n",
       "                        <td id=\"T_fba23d7a_4138_11ea_987a_c8f733fd5142row0_col4\" class=\"data row0 col4\" >0.00%</td>\n",
       "                        <td id=\"T_fba23d7a_4138_11ea_987a_c8f733fd5142row0_col5\" class=\"data row0 col5\" >22.22%</td>\n",
       "                        <td id=\"T_fba23d7a_4138_11ea_987a_c8f733fd5142row0_col6\" class=\"data row0 col6\" >22.22%</td>\n",
       "                        <td id=\"T_fba23d7a_4138_11ea_987a_c8f733fd5142row0_col7\" class=\"data row0 col7\" >11.11%</td>\n",
       "            </tr>\n",
       "            <tr>\n",
       "                        <th id=\"T_fba23d7a_4138_11ea_987a_c8f733fd5142level0_row1\" class=\"row_heading level0 row1\" >Engenharia da Computação</th>\n",
       "                        <td id=\"T_fba23d7a_4138_11ea_987a_c8f733fd5142row1_col0\" class=\"data row1 col0\" >0.00%</td>\n",
       "                        <td id=\"T_fba23d7a_4138_11ea_987a_c8f733fd5142row1_col1\" class=\"data row1 col1\" >20.00%</td>\n",
       "                        <td id=\"T_fba23d7a_4138_11ea_987a_c8f733fd5142row1_col2\" class=\"data row1 col2\" >20.00%</td>\n",
       "                        <td id=\"T_fba23d7a_4138_11ea_987a_c8f733fd5142row1_col3\" class=\"data row1 col3\" >0.00%</td>\n",
       "                        <td id=\"T_fba23d7a_4138_11ea_987a_c8f733fd5142row1_col4\" class=\"data row1 col4\" >20.00%</td>\n",
       "                        <td id=\"T_fba23d7a_4138_11ea_987a_c8f733fd5142row1_col5\" class=\"data row1 col5\" >20.00%</td>\n",
       "                        <td id=\"T_fba23d7a_4138_11ea_987a_c8f733fd5142row1_col6\" class=\"data row1 col6\" >20.00%</td>\n",
       "                        <td id=\"T_fba23d7a_4138_11ea_987a_c8f733fd5142row1_col7\" class=\"data row1 col7\" >0.00%</td>\n",
       "            </tr>\n",
       "    </tbody></table>"
      ],
      "text/plain": [
       "<pandas.io.formats.style.Styler at 0xa9266c8>"
      ]
     },
     "execution_count": 136,
     "metadata": {},
     "output_type": "execute_result"
    }
   ],
   "source": [
    "tab_cross_dif.apply(lambda r: r/r.sum(), axis=1).style.format(\"{:.2%}\")"
   ]
  },
  {
   "cell_type": "markdown",
   "metadata": {},
   "source": [
    "---------------\n",
    "## Curso x Motivos de desistência"
   ]
  },
  {
   "cell_type": "markdown",
   "metadata": {},
   "source": [
    "----------\n",
    "* ### contagem absoluta"
   ]
  },
  {
   "cell_type": "code",
   "execution_count": 138,
   "metadata": {},
   "outputs": [
    {
     "data": {
      "text/html": [
       "<div>\n",
       "<style scoped>\n",
       "    .dataframe tbody tr th:only-of-type {\n",
       "        vertical-align: middle;\n",
       "    }\n",
       "\n",
       "    .dataframe tbody tr th {\n",
       "        vertical-align: top;\n",
       "    }\n",
       "\n",
       "    .dataframe thead th {\n",
       "        text-align: right;\n",
       "    }\n",
       "</style>\n",
       "<table border=\"1\" class=\"dataframe\">\n",
       "  <thead>\n",
       "    <tr style=\"text-align: right;\">\n",
       "      <th>Motivos de desistência</th>\n",
       "      <th>Assuntos distantes do interesse pessoal</th>\n",
       "      <th>Assuntos distantes do interesse pessoal;</th>\n",
       "      <th>Distância entre academia e indústria</th>\n",
       "      <th>Expectativa frustrada sobre a área no mercado de trabalho</th>\n",
       "      <th>Falta de motivação</th>\n",
       "      <th>Impossibilidade de trabalhar e estudar</th>\n",
       "      <th>Não Sabe / Não Respondeu</th>\n",
       "      <th>Professores com didática diferente da esperada</th>\n",
       "      <th>Professores com didática diferente da esperada;</th>\n",
       "      <th>impossibilidade de trabalhar e estudar</th>\n",
       "    </tr>\n",
       "    <tr>\n",
       "      <th>curso</th>\n",
       "      <th></th>\n",
       "      <th></th>\n",
       "      <th></th>\n",
       "      <th></th>\n",
       "      <th></th>\n",
       "      <th></th>\n",
       "      <th></th>\n",
       "      <th></th>\n",
       "      <th></th>\n",
       "      <th></th>\n",
       "    </tr>\n",
       "  </thead>\n",
       "  <tbody>\n",
       "    <tr>\n",
       "      <th>Ciência da Computação</th>\n",
       "      <td>0</td>\n",
       "      <td>1</td>\n",
       "      <td>1</td>\n",
       "      <td>0</td>\n",
       "      <td>1</td>\n",
       "      <td>1</td>\n",
       "      <td>1</td>\n",
       "      <td>1</td>\n",
       "      <td>1</td>\n",
       "      <td>1</td>\n",
       "    </tr>\n",
       "    <tr>\n",
       "      <th>Engenharia da Computação</th>\n",
       "      <td>1</td>\n",
       "      <td>0</td>\n",
       "      <td>1</td>\n",
       "      <td>1</td>\n",
       "      <td>0</td>\n",
       "      <td>0</td>\n",
       "      <td>0</td>\n",
       "      <td>0</td>\n",
       "      <td>0</td>\n",
       "      <td>2</td>\n",
       "    </tr>\n",
       "  </tbody>\n",
       "</table>\n",
       "</div>"
      ],
      "text/plain": [
       "Motivos de desistência    Assuntos distantes do interesse pessoal  \\\n",
       "curso                                                               \n",
       "Ciência da Computação                                           0   \n",
       "Engenharia da Computação                                        1   \n",
       "\n",
       "Motivos de desistência    Assuntos distantes do interesse pessoal;  \\\n",
       "curso                                                                \n",
       "Ciência da Computação                                            1   \n",
       "Engenharia da Computação                                         0   \n",
       "\n",
       "Motivos de desistência    Distância entre academia e indústria  \\\n",
       "curso                                                            \n",
       "Ciência da Computação                                        1   \n",
       "Engenharia da Computação                                     1   \n",
       "\n",
       "Motivos de desistência    Expectativa frustrada sobre a área no mercado de trabalho  \\\n",
       "curso                                                                                 \n",
       "Ciência da Computação                                                     0           \n",
       "Engenharia da Computação                                                  1           \n",
       "\n",
       "Motivos de desistência    Falta de motivação  \\\n",
       "curso                                          \n",
       "Ciência da Computação                      1   \n",
       "Engenharia da Computação                   0   \n",
       "\n",
       "Motivos de desistência    Impossibilidade de trabalhar e estudar  \\\n",
       "curso                                                              \n",
       "Ciência da Computação                                          1   \n",
       "Engenharia da Computação                                       0   \n",
       "\n",
       "Motivos de desistência    Não Sabe / Não Respondeu  \\\n",
       "curso                                                \n",
       "Ciência da Computação                            1   \n",
       "Engenharia da Computação                         0   \n",
       "\n",
       "Motivos de desistência    Professores com didática diferente da esperada  \\\n",
       "curso                                                                      \n",
       "Ciência da Computação                                                  1   \n",
       "Engenharia da Computação                                               0   \n",
       "\n",
       "Motivos de desistência    Professores com didática diferente da esperada;  \\\n",
       "curso                                                                       \n",
       "Ciência da Computação                                                   1   \n",
       "Engenharia da Computação                                                0   \n",
       "\n",
       "Motivos de desistência    impossibilidade de trabalhar e estudar  \n",
       "curso                                                             \n",
       "Ciência da Computação                                          1  \n",
       "Engenharia da Computação                                       2  "
      ]
     },
     "execution_count": 138,
     "metadata": {},
     "output_type": "execute_result"
    }
   ],
   "source": [
    "tab_cross_dif_giv = pd.crosstab(motiv_des_sep['curso'], motiv_des_sep['Motivos de desistência'])\n",
    "tab_cross_dif_giv"
   ]
  },
  {
   "cell_type": "markdown",
   "metadata": {},
   "source": [
    "----------\n",
    "* ### contagem relativa (%)"
   ]
  },
  {
   "cell_type": "code",
   "execution_count": 139,
   "metadata": {
    "scrolled": true
   },
   "outputs": [
    {
     "data": {
      "text/html": [
       "<style  type=\"text/css\" >\n",
       "</style><table id=\"T_3cee3230_4139_11ea_93ca_c8f733fd5142\" ><thead>    <tr>        <th class=\"index_name level0\" >Motivos de desistência</th>        <th class=\"col_heading level0 col0\" >Assuntos distantes do interesse pessoal</th>        <th class=\"col_heading level0 col1\" >Assuntos distantes do interesse pessoal;</th>        <th class=\"col_heading level0 col2\" >Distância entre academia e indústria</th>        <th class=\"col_heading level0 col3\" >Expectativa frustrada sobre a área no mercado de trabalho</th>        <th class=\"col_heading level0 col4\" >Falta de motivação</th>        <th class=\"col_heading level0 col5\" >Impossibilidade de trabalhar e estudar</th>        <th class=\"col_heading level0 col6\" >Não Sabe / Não Respondeu</th>        <th class=\"col_heading level0 col7\" >Professores com didática diferente da esperada</th>        <th class=\"col_heading level0 col8\" >Professores com didática diferente da esperada;</th>        <th class=\"col_heading level0 col9\" >impossibilidade de trabalhar e estudar</th>    </tr>    <tr>        <th class=\"index_name level0\" >curso</th>        <th class=\"blank\" ></th>        <th class=\"blank\" ></th>        <th class=\"blank\" ></th>        <th class=\"blank\" ></th>        <th class=\"blank\" ></th>        <th class=\"blank\" ></th>        <th class=\"blank\" ></th>        <th class=\"blank\" ></th>        <th class=\"blank\" ></th>        <th class=\"blank\" ></th>    </tr></thead><tbody>\n",
       "                <tr>\n",
       "                        <th id=\"T_3cee3230_4139_11ea_93ca_c8f733fd5142level0_row0\" class=\"row_heading level0 row0\" >Ciência da Computação</th>\n",
       "                        <td id=\"T_3cee3230_4139_11ea_93ca_c8f733fd5142row0_col0\" class=\"data row0 col0\" >0.00%</td>\n",
       "                        <td id=\"T_3cee3230_4139_11ea_93ca_c8f733fd5142row0_col1\" class=\"data row0 col1\" >12.50%</td>\n",
       "                        <td id=\"T_3cee3230_4139_11ea_93ca_c8f733fd5142row0_col2\" class=\"data row0 col2\" >12.50%</td>\n",
       "                        <td id=\"T_3cee3230_4139_11ea_93ca_c8f733fd5142row0_col3\" class=\"data row0 col3\" >0.00%</td>\n",
       "                        <td id=\"T_3cee3230_4139_11ea_93ca_c8f733fd5142row0_col4\" class=\"data row0 col4\" >12.50%</td>\n",
       "                        <td id=\"T_3cee3230_4139_11ea_93ca_c8f733fd5142row0_col5\" class=\"data row0 col5\" >12.50%</td>\n",
       "                        <td id=\"T_3cee3230_4139_11ea_93ca_c8f733fd5142row0_col6\" class=\"data row0 col6\" >12.50%</td>\n",
       "                        <td id=\"T_3cee3230_4139_11ea_93ca_c8f733fd5142row0_col7\" class=\"data row0 col7\" >12.50%</td>\n",
       "                        <td id=\"T_3cee3230_4139_11ea_93ca_c8f733fd5142row0_col8\" class=\"data row0 col8\" >12.50%</td>\n",
       "                        <td id=\"T_3cee3230_4139_11ea_93ca_c8f733fd5142row0_col9\" class=\"data row0 col9\" >12.50%</td>\n",
       "            </tr>\n",
       "            <tr>\n",
       "                        <th id=\"T_3cee3230_4139_11ea_93ca_c8f733fd5142level0_row1\" class=\"row_heading level0 row1\" >Engenharia da Computação</th>\n",
       "                        <td id=\"T_3cee3230_4139_11ea_93ca_c8f733fd5142row1_col0\" class=\"data row1 col0\" >20.00%</td>\n",
       "                        <td id=\"T_3cee3230_4139_11ea_93ca_c8f733fd5142row1_col1\" class=\"data row1 col1\" >0.00%</td>\n",
       "                        <td id=\"T_3cee3230_4139_11ea_93ca_c8f733fd5142row1_col2\" class=\"data row1 col2\" >20.00%</td>\n",
       "                        <td id=\"T_3cee3230_4139_11ea_93ca_c8f733fd5142row1_col3\" class=\"data row1 col3\" >20.00%</td>\n",
       "                        <td id=\"T_3cee3230_4139_11ea_93ca_c8f733fd5142row1_col4\" class=\"data row1 col4\" >0.00%</td>\n",
       "                        <td id=\"T_3cee3230_4139_11ea_93ca_c8f733fd5142row1_col5\" class=\"data row1 col5\" >0.00%</td>\n",
       "                        <td id=\"T_3cee3230_4139_11ea_93ca_c8f733fd5142row1_col6\" class=\"data row1 col6\" >0.00%</td>\n",
       "                        <td id=\"T_3cee3230_4139_11ea_93ca_c8f733fd5142row1_col7\" class=\"data row1 col7\" >0.00%</td>\n",
       "                        <td id=\"T_3cee3230_4139_11ea_93ca_c8f733fd5142row1_col8\" class=\"data row1 col8\" >0.00%</td>\n",
       "                        <td id=\"T_3cee3230_4139_11ea_93ca_c8f733fd5142row1_col9\" class=\"data row1 col9\" >40.00%</td>\n",
       "            </tr>\n",
       "    </tbody></table>"
      ],
      "text/plain": [
       "<pandas.io.formats.style.Styler at 0xa97d508>"
      ]
     },
     "execution_count": 139,
     "metadata": {},
     "output_type": "execute_result"
    }
   ],
   "source": [
    "tab_cross_dif_giv.apply(lambda r: r/r.sum(), axis=1).style.format(\"{:.2%}\")"
   ]
  },
  {
   "cell_type": "markdown",
   "metadata": {},
   "source": [
    "---------------\n",
    "## Curso x uso de jogos impacta na visão sobre o curso?"
   ]
  },
  {
   "cell_type": "markdown",
   "metadata": {},
   "source": [
    "----------\n",
    "* ### contagem absoluta"
   ]
  },
  {
   "cell_type": "code",
   "execution_count": 144,
   "metadata": {},
   "outputs": [
    {
     "data": {
      "text/html": [
       "<div>\n",
       "<style scoped>\n",
       "    .dataframe tbody tr th:only-of-type {\n",
       "        vertical-align: middle;\n",
       "    }\n",
       "\n",
       "    .dataframe tbody tr th {\n",
       "        vertical-align: top;\n",
       "    }\n",
       "\n",
       "    .dataframe thead th {\n",
       "        text-align: right;\n",
       "    }\n",
       "</style>\n",
       "<table border=\"1\" class=\"dataframe\">\n",
       "  <thead>\n",
       "    <tr style=\"text-align: right;\">\n",
       "      <th>uso de jogos impactaria na visão sobre o curso?</th>\n",
       "      <th>3</th>\n",
       "      <th>4</th>\n",
       "      <th>5</th>\n",
       "    </tr>\n",
       "    <tr>\n",
       "      <th>curso</th>\n",
       "      <th></th>\n",
       "      <th></th>\n",
       "      <th></th>\n",
       "    </tr>\n",
       "  </thead>\n",
       "  <tbody>\n",
       "    <tr>\n",
       "      <th>Ciência da Computação</th>\n",
       "      <td>2</td>\n",
       "      <td>3</td>\n",
       "      <td>1</td>\n",
       "    </tr>\n",
       "    <tr>\n",
       "      <th>Engenharia da Computação</th>\n",
       "      <td>1</td>\n",
       "      <td>0</td>\n",
       "      <td>3</td>\n",
       "    </tr>\n",
       "  </tbody>\n",
       "</table>\n",
       "</div>"
      ],
      "text/plain": [
       "uso de jogos impactaria na visão sobre o curso?  3  4  5\n",
       "curso                                                   \n",
       "Ciência da Computação                            2  3  1\n",
       "Engenharia da Computação                         1  0  3"
      ]
     },
     "execution_count": 144,
     "metadata": {},
     "output_type": "execute_result"
    }
   ],
   "source": [
    "tab_cross_dif_jogos = pd.crosstab(des['curso'], des['uso de jogos impactaria na visão sobre o curso?'])\n",
    "tab_cross_dif_jogos"
   ]
  },
  {
   "cell_type": "markdown",
   "metadata": {},
   "source": [
    "----------\n",
    "* ### contagem relativa (%)"
   ]
  },
  {
   "cell_type": "code",
   "execution_count": 145,
   "metadata": {},
   "outputs": [
    {
     "data": {
      "text/html": [
       "<style  type=\"text/css\" >\n",
       "</style><table id=\"T_aa52404a_4139_11ea_ab3e_c8f733fd5142\" ><thead>    <tr>        <th class=\"index_name level0\" >uso de jogos impactaria na visão sobre o curso?</th>        <th class=\"col_heading level0 col0\" >3</th>        <th class=\"col_heading level0 col1\" >4</th>        <th class=\"col_heading level0 col2\" >5</th>    </tr>    <tr>        <th class=\"index_name level0\" >curso</th>        <th class=\"blank\" ></th>        <th class=\"blank\" ></th>        <th class=\"blank\" ></th>    </tr></thead><tbody>\n",
       "                <tr>\n",
       "                        <th id=\"T_aa52404a_4139_11ea_ab3e_c8f733fd5142level0_row0\" class=\"row_heading level0 row0\" >Ciência da Computação</th>\n",
       "                        <td id=\"T_aa52404a_4139_11ea_ab3e_c8f733fd5142row0_col0\" class=\"data row0 col0\" >33.33%</td>\n",
       "                        <td id=\"T_aa52404a_4139_11ea_ab3e_c8f733fd5142row0_col1\" class=\"data row0 col1\" >50.00%</td>\n",
       "                        <td id=\"T_aa52404a_4139_11ea_ab3e_c8f733fd5142row0_col2\" class=\"data row0 col2\" >16.67%</td>\n",
       "            </tr>\n",
       "            <tr>\n",
       "                        <th id=\"T_aa52404a_4139_11ea_ab3e_c8f733fd5142level0_row1\" class=\"row_heading level0 row1\" >Engenharia da Computação</th>\n",
       "                        <td id=\"T_aa52404a_4139_11ea_ab3e_c8f733fd5142row1_col0\" class=\"data row1 col0\" >25.00%</td>\n",
       "                        <td id=\"T_aa52404a_4139_11ea_ab3e_c8f733fd5142row1_col1\" class=\"data row1 col1\" >0.00%</td>\n",
       "                        <td id=\"T_aa52404a_4139_11ea_ab3e_c8f733fd5142row1_col2\" class=\"data row1 col2\" >75.00%</td>\n",
       "            </tr>\n",
       "    </tbody></table>"
      ],
      "text/plain": [
       "<pandas.io.formats.style.Styler at 0xa97d408>"
      ]
     },
     "execution_count": 145,
     "metadata": {},
     "output_type": "execute_result"
    }
   ],
   "source": [
    "tab_cross_dif_jogos.apply(lambda r: r/r.sum(), axis=1).style.format(\"{:.2%}\")"
   ]
  },
  {
   "cell_type": "markdown",
   "metadata": {},
   "source": [
    "---------------\n",
    "## Curso x Em quanto jogos evitariam a desistência?"
   ]
  },
  {
   "cell_type": "markdown",
   "metadata": {},
   "source": [
    "----------\n",
    "* ### contagem absoluta"
   ]
  },
  {
   "cell_type": "code",
   "execution_count": 146,
   "metadata": {},
   "outputs": [
    {
     "data": {
      "text/html": [
       "<div>\n",
       "<style scoped>\n",
       "    .dataframe tbody tr th:only-of-type {\n",
       "        vertical-align: middle;\n",
       "    }\n",
       "\n",
       "    .dataframe tbody tr th {\n",
       "        vertical-align: top;\n",
       "    }\n",
       "\n",
       "    .dataframe thead th {\n",
       "        text-align: right;\n",
       "    }\n",
       "</style>\n",
       "<table border=\"1\" class=\"dataframe\">\n",
       "  <thead>\n",
       "    <tr style=\"text-align: right;\">\n",
       "      <th>Em quanto jogos evitariam a desistência?</th>\n",
       "      <th>1</th>\n",
       "      <th>3</th>\n",
       "      <th>4</th>\n",
       "      <th>5</th>\n",
       "    </tr>\n",
       "    <tr>\n",
       "      <th>curso</th>\n",
       "      <th></th>\n",
       "      <th></th>\n",
       "      <th></th>\n",
       "      <th></th>\n",
       "    </tr>\n",
       "  </thead>\n",
       "  <tbody>\n",
       "    <tr>\n",
       "      <th>Ciência da Computação</th>\n",
       "      <td>1</td>\n",
       "      <td>2</td>\n",
       "      <td>1</td>\n",
       "      <td>2</td>\n",
       "    </tr>\n",
       "    <tr>\n",
       "      <th>Engenharia da Computação</th>\n",
       "      <td>1</td>\n",
       "      <td>1</td>\n",
       "      <td>2</td>\n",
       "      <td>0</td>\n",
       "    </tr>\n",
       "  </tbody>\n",
       "</table>\n",
       "</div>"
      ],
      "text/plain": [
       "Em quanto jogos evitariam a desistência?  1  3  4  5\n",
       "curso                                               \n",
       "Ciência da Computação                     1  2  1  2\n",
       "Engenharia da Computação                  1  1  2  0"
      ]
     },
     "execution_count": 146,
     "metadata": {},
     "output_type": "execute_result"
    }
   ],
   "source": [
    "tab_cross_evit_jogos = pd.crosstab(des['curso'], des['Em quanto jogos evitariam a desistência?'])\n",
    "tab_cross_evit_jogos"
   ]
  },
  {
   "cell_type": "markdown",
   "metadata": {},
   "source": [
    "----------\n",
    "* ### contagem relativa (%)"
   ]
  },
  {
   "cell_type": "code",
   "execution_count": 147,
   "metadata": {},
   "outputs": [
    {
     "data": {
      "text/html": [
       "<style  type=\"text/css\" >\n",
       "</style><table id=\"T_b7432b9c_4139_11ea_87c4_c8f733fd5142\" ><thead>    <tr>        <th class=\"index_name level0\" >Em quanto jogos evitariam a desistência?</th>        <th class=\"col_heading level0 col0\" >1</th>        <th class=\"col_heading level0 col1\" >3</th>        <th class=\"col_heading level0 col2\" >4</th>        <th class=\"col_heading level0 col3\" >5</th>    </tr>    <tr>        <th class=\"index_name level0\" >curso</th>        <th class=\"blank\" ></th>        <th class=\"blank\" ></th>        <th class=\"blank\" ></th>        <th class=\"blank\" ></th>    </tr></thead><tbody>\n",
       "                <tr>\n",
       "                        <th id=\"T_b7432b9c_4139_11ea_87c4_c8f733fd5142level0_row0\" class=\"row_heading level0 row0\" >Ciência da Computação</th>\n",
       "                        <td id=\"T_b7432b9c_4139_11ea_87c4_c8f733fd5142row0_col0\" class=\"data row0 col0\" >16.67%</td>\n",
       "                        <td id=\"T_b7432b9c_4139_11ea_87c4_c8f733fd5142row0_col1\" class=\"data row0 col1\" >33.33%</td>\n",
       "                        <td id=\"T_b7432b9c_4139_11ea_87c4_c8f733fd5142row0_col2\" class=\"data row0 col2\" >16.67%</td>\n",
       "                        <td id=\"T_b7432b9c_4139_11ea_87c4_c8f733fd5142row0_col3\" class=\"data row0 col3\" >33.33%</td>\n",
       "            </tr>\n",
       "            <tr>\n",
       "                        <th id=\"T_b7432b9c_4139_11ea_87c4_c8f733fd5142level0_row1\" class=\"row_heading level0 row1\" >Engenharia da Computação</th>\n",
       "                        <td id=\"T_b7432b9c_4139_11ea_87c4_c8f733fd5142row1_col0\" class=\"data row1 col0\" >25.00%</td>\n",
       "                        <td id=\"T_b7432b9c_4139_11ea_87c4_c8f733fd5142row1_col1\" class=\"data row1 col1\" >25.00%</td>\n",
       "                        <td id=\"T_b7432b9c_4139_11ea_87c4_c8f733fd5142row1_col2\" class=\"data row1 col2\" >50.00%</td>\n",
       "                        <td id=\"T_b7432b9c_4139_11ea_87c4_c8f733fd5142row1_col3\" class=\"data row1 col3\" >0.00%</td>\n",
       "            </tr>\n",
       "    </tbody></table>"
      ],
      "text/plain": [
       "<pandas.io.formats.style.Styler at 0xa8c7e48>"
      ]
     },
     "execution_count": 147,
     "metadata": {},
     "output_type": "execute_result"
    }
   ],
   "source": [
    "tab_cross_evit_jogos.apply(lambda r: r/r.sum(), axis=1).style.format(\"{:.2%}\")"
   ]
  },
  {
   "cell_type": "markdown",
   "metadata": {},
   "source": [
    "---------------\n",
    "## Motivação x Expectativas"
   ]
  },
  {
   "cell_type": "markdown",
   "metadata": {},
   "source": [
    "----------\n",
    "* ### contagem absoluta"
   ]
  },
  {
   "cell_type": "code",
   "execution_count": 148,
   "metadata": {},
   "outputs": [
    {
     "data": {
      "text/html": [
       "<div>\n",
       "<style scoped>\n",
       "    .dataframe tbody tr th:only-of-type {\n",
       "        vertical-align: middle;\n",
       "    }\n",
       "\n",
       "    .dataframe tbody tr th {\n",
       "        vertical-align: top;\n",
       "    }\n",
       "\n",
       "    .dataframe thead th {\n",
       "        text-align: right;\n",
       "    }\n",
       "</style>\n",
       "<table border=\"1\" class=\"dataframe\">\n",
       "  <thead>\n",
       "    <tr style=\"text-align: right;\">\n",
       "      <th>expectativas</th>\n",
       "      <th>Adquirir conhecimento e capacitação na área de computação</th>\n",
       "      <th>Graduar-se em um curso multidisciplinar</th>\n",
       "      <th>Qualificar-se para o mercado de trabalho</th>\n",
       "      <th>expectativas positivas</th>\n",
       "    </tr>\n",
       "    <tr>\n",
       "      <th>motivação para entrar</th>\n",
       "      <th></th>\n",
       "      <th></th>\n",
       "      <th></th>\n",
       "      <th></th>\n",
       "    </tr>\n",
       "  </thead>\n",
       "  <tbody>\n",
       "    <tr>\n",
       "      <th>Interesse por áreas do curso</th>\n",
       "      <td>5</td>\n",
       "      <td>2</td>\n",
       "      <td>1</td>\n",
       "      <td>0</td>\n",
       "    </tr>\n",
       "    <tr>\n",
       "      <th>Mercado de trabalho atrativo</th>\n",
       "      <td>0</td>\n",
       "      <td>0</td>\n",
       "      <td>0</td>\n",
       "      <td>1</td>\n",
       "    </tr>\n",
       "    <tr>\n",
       "      <th>Pressão familiar</th>\n",
       "      <td>1</td>\n",
       "      <td>0</td>\n",
       "      <td>0</td>\n",
       "      <td>0</td>\n",
       "    </tr>\n",
       "  </tbody>\n",
       "</table>\n",
       "</div>"
      ],
      "text/plain": [
       "expectativas                  Adquirir conhecimento e capacitação na área de computação  \\\n",
       "motivação para entrar                                                                     \n",
       "Interesse por áreas do curso                                                  5           \n",
       "Mercado de trabalho atrativo                                                  0           \n",
       "Pressão familiar                                                              1           \n",
       "\n",
       "expectativas                  Graduar-se em um curso multidisciplinar  \\\n",
       "motivação para entrar                                                   \n",
       "Interesse por áreas do curso                                        2   \n",
       "Mercado de trabalho atrativo                                        0   \n",
       "Pressão familiar                                                    0   \n",
       "\n",
       "expectativas                  Qualificar-se para o mercado de trabalho  \\\n",
       "motivação para entrar                                                    \n",
       "Interesse por áreas do curso                                         1   \n",
       "Mercado de trabalho atrativo                                         0   \n",
       "Pressão familiar                                                     0   \n",
       "\n",
       "expectativas                  expectativas positivas  \n",
       "motivação para entrar                                 \n",
       "Interesse por áreas do curso                       0  \n",
       "Mercado de trabalho atrativo                       1  \n",
       "Pressão familiar                                   0  "
      ]
     },
     "execution_count": 148,
     "metadata": {},
     "output_type": "execute_result"
    }
   ],
   "source": [
    "tab_cross_motiv_exp = pd.crosstab(motiv_entrar_sep['motivação para entrar'], exp_sep['expectativas'])\n",
    "tab_cross_motiv_exp"
   ]
  },
  {
   "cell_type": "markdown",
   "metadata": {},
   "source": [
    "----------\n",
    "* ### contagem relativa (%)"
   ]
  },
  {
   "cell_type": "code",
   "execution_count": 149,
   "metadata": {},
   "outputs": [
    {
     "data": {
      "text/html": [
       "<style  type=\"text/css\" >\n",
       "</style><table id=\"T_f40276ca_4139_11ea_9c67_c8f733fd5142\" ><thead>    <tr>        <th class=\"index_name level0\" >expectativas</th>        <th class=\"col_heading level0 col0\" >Adquirir conhecimento e capacitação na área de computação</th>        <th class=\"col_heading level0 col1\" >Graduar-se em um curso multidisciplinar</th>        <th class=\"col_heading level0 col2\" >Qualificar-se para o mercado de trabalho</th>        <th class=\"col_heading level0 col3\" >expectativas positivas</th>    </tr>    <tr>        <th class=\"index_name level0\" >motivação para entrar</th>        <th class=\"blank\" ></th>        <th class=\"blank\" ></th>        <th class=\"blank\" ></th>        <th class=\"blank\" ></th>    </tr></thead><tbody>\n",
       "                <tr>\n",
       "                        <th id=\"T_f40276ca_4139_11ea_9c67_c8f733fd5142level0_row0\" class=\"row_heading level0 row0\" >Interesse por áreas do curso</th>\n",
       "                        <td id=\"T_f40276ca_4139_11ea_9c67_c8f733fd5142row0_col0\" class=\"data row0 col0\" >62.50%</td>\n",
       "                        <td id=\"T_f40276ca_4139_11ea_9c67_c8f733fd5142row0_col1\" class=\"data row0 col1\" >25.00%</td>\n",
       "                        <td id=\"T_f40276ca_4139_11ea_9c67_c8f733fd5142row0_col2\" class=\"data row0 col2\" >12.50%</td>\n",
       "                        <td id=\"T_f40276ca_4139_11ea_9c67_c8f733fd5142row0_col3\" class=\"data row0 col3\" >0.00%</td>\n",
       "            </tr>\n",
       "            <tr>\n",
       "                        <th id=\"T_f40276ca_4139_11ea_9c67_c8f733fd5142level0_row1\" class=\"row_heading level0 row1\" >Mercado de trabalho atrativo</th>\n",
       "                        <td id=\"T_f40276ca_4139_11ea_9c67_c8f733fd5142row1_col0\" class=\"data row1 col0\" >0.00%</td>\n",
       "                        <td id=\"T_f40276ca_4139_11ea_9c67_c8f733fd5142row1_col1\" class=\"data row1 col1\" >0.00%</td>\n",
       "                        <td id=\"T_f40276ca_4139_11ea_9c67_c8f733fd5142row1_col2\" class=\"data row1 col2\" >0.00%</td>\n",
       "                        <td id=\"T_f40276ca_4139_11ea_9c67_c8f733fd5142row1_col3\" class=\"data row1 col3\" >100.00%</td>\n",
       "            </tr>\n",
       "            <tr>\n",
       "                        <th id=\"T_f40276ca_4139_11ea_9c67_c8f733fd5142level0_row2\" class=\"row_heading level0 row2\" >Pressão familiar</th>\n",
       "                        <td id=\"T_f40276ca_4139_11ea_9c67_c8f733fd5142row2_col0\" class=\"data row2 col0\" >100.00%</td>\n",
       "                        <td id=\"T_f40276ca_4139_11ea_9c67_c8f733fd5142row2_col1\" class=\"data row2 col1\" >0.00%</td>\n",
       "                        <td id=\"T_f40276ca_4139_11ea_9c67_c8f733fd5142row2_col2\" class=\"data row2 col2\" >0.00%</td>\n",
       "                        <td id=\"T_f40276ca_4139_11ea_9c67_c8f733fd5142row2_col3\" class=\"data row2 col3\" >0.00%</td>\n",
       "            </tr>\n",
       "    </tbody></table>"
      ],
      "text/plain": [
       "<pandas.io.formats.style.Styler at 0xafac908>"
      ]
     },
     "execution_count": 149,
     "metadata": {},
     "output_type": "execute_result"
    }
   ],
   "source": [
    "tab_cross_motiv_exp.apply(lambda r: r/r.sum(), axis=1).style.format(\"{:.2%}\")"
   ]
  },
  {
   "cell_type": "markdown",
   "metadata": {},
   "source": [
    "---------------\n",
    "## Motivação x Mercado de Trabalho"
   ]
  },
  {
   "cell_type": "markdown",
   "metadata": {},
   "source": [
    "----------\n",
    "* ### contagem absoluta"
   ]
  },
  {
   "cell_type": "code",
   "execution_count": 150,
   "metadata": {},
   "outputs": [
    {
     "data": {
      "text/html": [
       "<div>\n",
       "<style scoped>\n",
       "    .dataframe tbody tr th:only-of-type {\n",
       "        vertical-align: middle;\n",
       "    }\n",
       "\n",
       "    .dataframe tbody tr th {\n",
       "        vertical-align: top;\n",
       "    }\n",
       "\n",
       "    .dataframe thead th {\n",
       "        text-align: right;\n",
       "    }\n",
       "</style>\n",
       "<table border=\"1\" class=\"dataframe\">\n",
       "  <thead>\n",
       "    <tr style=\"text-align: right;\">\n",
       "      <th>mercado de trabalho</th>\n",
       "      <th>Expectativas Positivas</th>\n",
       "      <th>Interesse em área específica no mercado de trabalho</th>\n",
       "      <th>Mercado de Trabalho em ascenção</th>\n",
       "      <th>Não sabia</th>\n",
       "      <th>Trabalhar e estudar</th>\n",
       "    </tr>\n",
       "    <tr>\n",
       "      <th>motivação para entrar</th>\n",
       "      <th></th>\n",
       "      <th></th>\n",
       "      <th></th>\n",
       "      <th></th>\n",
       "      <th></th>\n",
       "    </tr>\n",
       "  </thead>\n",
       "  <tbody>\n",
       "    <tr>\n",
       "      <th>Interesse por áreas do curso</th>\n",
       "      <td>1</td>\n",
       "      <td>0</td>\n",
       "      <td>4</td>\n",
       "      <td>2</td>\n",
       "      <td>1</td>\n",
       "    </tr>\n",
       "    <tr>\n",
       "      <th>Mercado de trabalho atrativo</th>\n",
       "      <td>1</td>\n",
       "      <td>0</td>\n",
       "      <td>0</td>\n",
       "      <td>0</td>\n",
       "      <td>0</td>\n",
       "    </tr>\n",
       "    <tr>\n",
       "      <th>Pressão familiar</th>\n",
       "      <td>0</td>\n",
       "      <td>1</td>\n",
       "      <td>0</td>\n",
       "      <td>0</td>\n",
       "      <td>0</td>\n",
       "    </tr>\n",
       "  </tbody>\n",
       "</table>\n",
       "</div>"
      ],
      "text/plain": [
       "mercado de trabalho           Expectativas Positivas  \\\n",
       "motivação para entrar                                  \n",
       "Interesse por áreas do curso                       1   \n",
       "Mercado de trabalho atrativo                       1   \n",
       "Pressão familiar                                   0   \n",
       "\n",
       "mercado de trabalho           Interesse em área específica no mercado de trabalho  \\\n",
       "motivação para entrar                                                               \n",
       "Interesse por áreas do curso                                                  0     \n",
       "Mercado de trabalho atrativo                                                  0     \n",
       "Pressão familiar                                                              1     \n",
       "\n",
       "mercado de trabalho           Mercado de Trabalho em ascenção  Não sabia  \\\n",
       "motivação para entrar                                                      \n",
       "Interesse por áreas do curso                                4          2   \n",
       "Mercado de trabalho atrativo                                0          0   \n",
       "Pressão familiar                                            0          0   \n",
       "\n",
       "mercado de trabalho           Trabalhar e estudar  \n",
       "motivação para entrar                              \n",
       "Interesse por áreas do curso                    1  \n",
       "Mercado de trabalho atrativo                    0  \n",
       "Pressão familiar                                0  "
      ]
     },
     "execution_count": 150,
     "metadata": {},
     "output_type": "execute_result"
    }
   ],
   "source": [
    "tab_cross_motiv_merc = pd.crosstab(motiv_entrar_sep['motivação para entrar'], mercado_sep['mercado de trabalho'])\n",
    "tab_cross_motiv_merc"
   ]
  },
  {
   "cell_type": "markdown",
   "metadata": {},
   "source": [
    "----------\n",
    "* ### contagem relativa (%)"
   ]
  },
  {
   "cell_type": "code",
   "execution_count": 151,
   "metadata": {
    "scrolled": true
   },
   "outputs": [
    {
     "data": {
      "text/html": [
       "<style  type=\"text/css\" >\n",
       "</style><table id=\"T_0926ebf6_413a_11ea_bb3d_c8f733fd5142\" ><thead>    <tr>        <th class=\"index_name level0\" >mercado de trabalho</th>        <th class=\"col_heading level0 col0\" >Expectativas Positivas</th>        <th class=\"col_heading level0 col1\" >Interesse em área específica no mercado de trabalho</th>        <th class=\"col_heading level0 col2\" >Mercado de Trabalho em ascenção</th>        <th class=\"col_heading level0 col3\" >Não sabia</th>        <th class=\"col_heading level0 col4\" >Trabalhar e estudar</th>    </tr>    <tr>        <th class=\"index_name level0\" >motivação para entrar</th>        <th class=\"blank\" ></th>        <th class=\"blank\" ></th>        <th class=\"blank\" ></th>        <th class=\"blank\" ></th>        <th class=\"blank\" ></th>    </tr></thead><tbody>\n",
       "                <tr>\n",
       "                        <th id=\"T_0926ebf6_413a_11ea_bb3d_c8f733fd5142level0_row0\" class=\"row_heading level0 row0\" >Interesse por áreas do curso</th>\n",
       "                        <td id=\"T_0926ebf6_413a_11ea_bb3d_c8f733fd5142row0_col0\" class=\"data row0 col0\" >12.50%</td>\n",
       "                        <td id=\"T_0926ebf6_413a_11ea_bb3d_c8f733fd5142row0_col1\" class=\"data row0 col1\" >0.00%</td>\n",
       "                        <td id=\"T_0926ebf6_413a_11ea_bb3d_c8f733fd5142row0_col2\" class=\"data row0 col2\" >50.00%</td>\n",
       "                        <td id=\"T_0926ebf6_413a_11ea_bb3d_c8f733fd5142row0_col3\" class=\"data row0 col3\" >25.00%</td>\n",
       "                        <td id=\"T_0926ebf6_413a_11ea_bb3d_c8f733fd5142row0_col4\" class=\"data row0 col4\" >12.50%</td>\n",
       "            </tr>\n",
       "            <tr>\n",
       "                        <th id=\"T_0926ebf6_413a_11ea_bb3d_c8f733fd5142level0_row1\" class=\"row_heading level0 row1\" >Mercado de trabalho atrativo</th>\n",
       "                        <td id=\"T_0926ebf6_413a_11ea_bb3d_c8f733fd5142row1_col0\" class=\"data row1 col0\" >100.00%</td>\n",
       "                        <td id=\"T_0926ebf6_413a_11ea_bb3d_c8f733fd5142row1_col1\" class=\"data row1 col1\" >0.00%</td>\n",
       "                        <td id=\"T_0926ebf6_413a_11ea_bb3d_c8f733fd5142row1_col2\" class=\"data row1 col2\" >0.00%</td>\n",
       "                        <td id=\"T_0926ebf6_413a_11ea_bb3d_c8f733fd5142row1_col3\" class=\"data row1 col3\" >0.00%</td>\n",
       "                        <td id=\"T_0926ebf6_413a_11ea_bb3d_c8f733fd5142row1_col4\" class=\"data row1 col4\" >0.00%</td>\n",
       "            </tr>\n",
       "            <tr>\n",
       "                        <th id=\"T_0926ebf6_413a_11ea_bb3d_c8f733fd5142level0_row2\" class=\"row_heading level0 row2\" >Pressão familiar</th>\n",
       "                        <td id=\"T_0926ebf6_413a_11ea_bb3d_c8f733fd5142row2_col0\" class=\"data row2 col0\" >0.00%</td>\n",
       "                        <td id=\"T_0926ebf6_413a_11ea_bb3d_c8f733fd5142row2_col1\" class=\"data row2 col1\" >100.00%</td>\n",
       "                        <td id=\"T_0926ebf6_413a_11ea_bb3d_c8f733fd5142row2_col2\" class=\"data row2 col2\" >0.00%</td>\n",
       "                        <td id=\"T_0926ebf6_413a_11ea_bb3d_c8f733fd5142row2_col3\" class=\"data row2 col3\" >0.00%</td>\n",
       "                        <td id=\"T_0926ebf6_413a_11ea_bb3d_c8f733fd5142row2_col4\" class=\"data row2 col4\" >0.00%</td>\n",
       "            </tr>\n",
       "    </tbody></table>"
      ],
      "text/plain": [
       "<pandas.io.formats.style.Styler at 0xa950cc8>"
      ]
     },
     "execution_count": 151,
     "metadata": {},
     "output_type": "execute_result"
    }
   ],
   "source": [
    "tab_cross_motiv_merc.apply(lambda r: r/r.sum(), axis=1).style.format(\"{:.2%}\")"
   ]
  },
  {
   "cell_type": "markdown",
   "metadata": {},
   "source": [
    "---------------\n",
    "## Motivação x Expectativas atendidas"
   ]
  },
  {
   "cell_type": "markdown",
   "metadata": {},
   "source": [
    "----------\n",
    "* ### contagem absoluta"
   ]
  },
  {
   "cell_type": "code",
   "execution_count": 157,
   "metadata": {},
   "outputs": [
    {
     "data": {
      "text/html": [
       "<div>\n",
       "<style scoped>\n",
       "    .dataframe tbody tr th:only-of-type {\n",
       "        vertical-align: middle;\n",
       "    }\n",
       "\n",
       "    .dataframe tbody tr th {\n",
       "        vertical-align: top;\n",
       "    }\n",
       "\n",
       "    .dataframe thead th {\n",
       "        text-align: right;\n",
       "    }\n",
       "</style>\n",
       "<table border=\"1\" class=\"dataframe\">\n",
       "  <thead>\n",
       "    <tr style=\"text-align: right;\">\n",
       "      <th>expectativas atendidas</th>\n",
       "      <th>1</th>\n",
       "      <th>2</th>\n",
       "      <th>3</th>\n",
       "    </tr>\n",
       "    <tr>\n",
       "      <th>motivação para entrar</th>\n",
       "      <th></th>\n",
       "      <th></th>\n",
       "      <th></th>\n",
       "    </tr>\n",
       "  </thead>\n",
       "  <tbody>\n",
       "    <tr>\n",
       "      <th>Interesse por áreas do curso</th>\n",
       "      <td>1</td>\n",
       "      <td>5</td>\n",
       "      <td>2</td>\n",
       "    </tr>\n",
       "    <tr>\n",
       "      <th>Mercado de trabalho atrativo</th>\n",
       "      <td>0</td>\n",
       "      <td>1</td>\n",
       "      <td>0</td>\n",
       "    </tr>\n",
       "    <tr>\n",
       "      <th>Pressão familiar</th>\n",
       "      <td>0</td>\n",
       "      <td>1</td>\n",
       "      <td>0</td>\n",
       "    </tr>\n",
       "  </tbody>\n",
       "</table>\n",
       "</div>"
      ],
      "text/plain": [
       "expectativas atendidas        1  2  3\n",
       "motivação para entrar                \n",
       "Interesse por áreas do curso  1  5  2\n",
       "Mercado de trabalho atrativo  0  1  0\n",
       "Pressão familiar              0  1  0"
      ]
     },
     "execution_count": 157,
     "metadata": {},
     "output_type": "execute_result"
    }
   ],
   "source": [
    "tab_cross_motiv_atend = pd.crosstab(motiv_entrar_sep['motivação para entrar'], des['expectativas atendidas'])\n",
    "tab_cross_motiv_atend"
   ]
  },
  {
   "cell_type": "markdown",
   "metadata": {},
   "source": [
    "----------\n",
    "* ### contagem relativa (%)"
   ]
  },
  {
   "cell_type": "code",
   "execution_count": 158,
   "metadata": {},
   "outputs": [
    {
     "data": {
      "text/html": [
       "<style  type=\"text/css\" >\n",
       "</style><table id=\"T_379b9ff0_413a_11ea_a988_c8f733fd5142\" ><thead>    <tr>        <th class=\"index_name level0\" >expectativas atendidas</th>        <th class=\"col_heading level0 col0\" >1</th>        <th class=\"col_heading level0 col1\" >2</th>        <th class=\"col_heading level0 col2\" >3</th>    </tr>    <tr>        <th class=\"index_name level0\" >motivação para entrar</th>        <th class=\"blank\" ></th>        <th class=\"blank\" ></th>        <th class=\"blank\" ></th>    </tr></thead><tbody>\n",
       "                <tr>\n",
       "                        <th id=\"T_379b9ff0_413a_11ea_a988_c8f733fd5142level0_row0\" class=\"row_heading level0 row0\" >Interesse por áreas do curso</th>\n",
       "                        <td id=\"T_379b9ff0_413a_11ea_a988_c8f733fd5142row0_col0\" class=\"data row0 col0\" >12.50%</td>\n",
       "                        <td id=\"T_379b9ff0_413a_11ea_a988_c8f733fd5142row0_col1\" class=\"data row0 col1\" >62.50%</td>\n",
       "                        <td id=\"T_379b9ff0_413a_11ea_a988_c8f733fd5142row0_col2\" class=\"data row0 col2\" >25.00%</td>\n",
       "            </tr>\n",
       "            <tr>\n",
       "                        <th id=\"T_379b9ff0_413a_11ea_a988_c8f733fd5142level0_row1\" class=\"row_heading level0 row1\" >Mercado de trabalho atrativo</th>\n",
       "                        <td id=\"T_379b9ff0_413a_11ea_a988_c8f733fd5142row1_col0\" class=\"data row1 col0\" >0.00%</td>\n",
       "                        <td id=\"T_379b9ff0_413a_11ea_a988_c8f733fd5142row1_col1\" class=\"data row1 col1\" >100.00%</td>\n",
       "                        <td id=\"T_379b9ff0_413a_11ea_a988_c8f733fd5142row1_col2\" class=\"data row1 col2\" >0.00%</td>\n",
       "            </tr>\n",
       "            <tr>\n",
       "                        <th id=\"T_379b9ff0_413a_11ea_a988_c8f733fd5142level0_row2\" class=\"row_heading level0 row2\" >Pressão familiar</th>\n",
       "                        <td id=\"T_379b9ff0_413a_11ea_a988_c8f733fd5142row2_col0\" class=\"data row2 col0\" >0.00%</td>\n",
       "                        <td id=\"T_379b9ff0_413a_11ea_a988_c8f733fd5142row2_col1\" class=\"data row2 col1\" >100.00%</td>\n",
       "                        <td id=\"T_379b9ff0_413a_11ea_a988_c8f733fd5142row2_col2\" class=\"data row2 col2\" >0.00%</td>\n",
       "            </tr>\n",
       "    </tbody></table>"
      ],
      "text/plain": [
       "<pandas.io.formats.style.Styler at 0xaf1d208>"
      ]
     },
     "execution_count": 158,
     "metadata": {},
     "output_type": "execute_result"
    }
   ],
   "source": [
    "tab_cross_motiv_atend.apply(lambda r: r/r.sum(), axis=1).style.format(\"{:.2%}\")"
   ]
  },
  {
   "cell_type": "markdown",
   "metadata": {},
   "source": [
    "---------------\n",
    "## Motivação x Dificuldades"
   ]
  },
  {
   "cell_type": "markdown",
   "metadata": {},
   "source": [
    "----------\n",
    "* ### contagem absoluta"
   ]
  },
  {
   "cell_type": "code",
   "execution_count": 159,
   "metadata": {},
   "outputs": [
    {
     "data": {
      "text/html": [
       "<div>\n",
       "<style scoped>\n",
       "    .dataframe tbody tr th:only-of-type {\n",
       "        vertical-align: middle;\n",
       "    }\n",
       "\n",
       "    .dataframe tbody tr th {\n",
       "        vertical-align: top;\n",
       "    }\n",
       "\n",
       "    .dataframe thead th {\n",
       "        text-align: right;\n",
       "    }\n",
       "</style>\n",
       "<table border=\"1\" class=\"dataframe\">\n",
       "  <thead>\n",
       "    <tr style=\"text-align: right;\">\n",
       "      <th>dificuldades</th>\n",
       "      <th>Assuntos distantes do interesse pessoal</th>\n",
       "      <th>Dificuldade com disciplinas</th>\n",
       "      <th>Distância entre academia e indústria</th>\n",
       "      <th>Falta de estrutura das aulas</th>\n",
       "      <th>Muita teoria e pouca prática</th>\n",
       "      <th>Professores com didática diferente da esperada</th>\n",
       "      <th>impossibilidade de trabalhar e estudar</th>\n",
       "    </tr>\n",
       "    <tr>\n",
       "      <th>motivação para entrar</th>\n",
       "      <th></th>\n",
       "      <th></th>\n",
       "      <th></th>\n",
       "      <th></th>\n",
       "      <th></th>\n",
       "      <th></th>\n",
       "      <th></th>\n",
       "    </tr>\n",
       "  </thead>\n",
       "  <tbody>\n",
       "    <tr>\n",
       "      <th>Interesse por áreas do curso</th>\n",
       "      <td>2</td>\n",
       "      <td>2</td>\n",
       "      <td>1</td>\n",
       "      <td>1</td>\n",
       "      <td>1</td>\n",
       "      <td>1</td>\n",
       "      <td>0</td>\n",
       "    </tr>\n",
       "    <tr>\n",
       "      <th>Mercado de trabalho atrativo</th>\n",
       "      <td>0</td>\n",
       "      <td>0</td>\n",
       "      <td>0</td>\n",
       "      <td>0</td>\n",
       "      <td>0</td>\n",
       "      <td>1</td>\n",
       "      <td>0</td>\n",
       "    </tr>\n",
       "    <tr>\n",
       "      <th>Pressão familiar</th>\n",
       "      <td>0</td>\n",
       "      <td>0</td>\n",
       "      <td>0</td>\n",
       "      <td>0</td>\n",
       "      <td>0</td>\n",
       "      <td>0</td>\n",
       "      <td>1</td>\n",
       "    </tr>\n",
       "  </tbody>\n",
       "</table>\n",
       "</div>"
      ],
      "text/plain": [
       "dificuldades                  Assuntos distantes do interesse pessoal  \\\n",
       "motivação para entrar                                                   \n",
       "Interesse por áreas do curso                                        2   \n",
       "Mercado de trabalho atrativo                                        0   \n",
       "Pressão familiar                                                    0   \n",
       "\n",
       "dificuldades                  Dificuldade com disciplinas  \\\n",
       "motivação para entrar                                       \n",
       "Interesse por áreas do curso                            2   \n",
       "Mercado de trabalho atrativo                            0   \n",
       "Pressão familiar                                        0   \n",
       "\n",
       "dificuldades                  Distância entre academia e indústria  \\\n",
       "motivação para entrar                                                \n",
       "Interesse por áreas do curso                                     1   \n",
       "Mercado de trabalho atrativo                                     0   \n",
       "Pressão familiar                                                 0   \n",
       "\n",
       "dificuldades                  Falta de estrutura das aulas  \\\n",
       "motivação para entrar                                        \n",
       "Interesse por áreas do curso                             1   \n",
       "Mercado de trabalho atrativo                             0   \n",
       "Pressão familiar                                         0   \n",
       "\n",
       "dificuldades                  Muita teoria e pouca prática  \\\n",
       "motivação para entrar                                        \n",
       "Interesse por áreas do curso                             1   \n",
       "Mercado de trabalho atrativo                             0   \n",
       "Pressão familiar                                         0   \n",
       "\n",
       "dificuldades                  Professores com didática diferente da esperada  \\\n",
       "motivação para entrar                                                          \n",
       "Interesse por áreas do curso                                               1   \n",
       "Mercado de trabalho atrativo                                               1   \n",
       "Pressão familiar                                                           0   \n",
       "\n",
       "dificuldades                  impossibilidade de trabalhar e estudar  \n",
       "motivação para entrar                                                 \n",
       "Interesse por áreas do curso                                       0  \n",
       "Mercado de trabalho atrativo                                       0  \n",
       "Pressão familiar                                                   1  "
      ]
     },
     "execution_count": 159,
     "metadata": {},
     "output_type": "execute_result"
    }
   ],
   "source": [
    "tab_cross_motiv_dif = pd.crosstab(motiv_entrar_sep['motivação para entrar'], dific_sep['dificuldades'])\n",
    "tab_cross_motiv_dif"
   ]
  },
  {
   "cell_type": "markdown",
   "metadata": {},
   "source": [
    "----------\n",
    "* ### contagem relativa (%)"
   ]
  },
  {
   "cell_type": "code",
   "execution_count": 160,
   "metadata": {},
   "outputs": [
    {
     "data": {
      "text/html": [
       "<style  type=\"text/css\" >\n",
       "</style><table id=\"T_5bae0a14_413a_11ea_9893_c8f733fd5142\" ><thead>    <tr>        <th class=\"index_name level0\" >dificuldades</th>        <th class=\"col_heading level0 col0\" >Assuntos distantes do interesse pessoal</th>        <th class=\"col_heading level0 col1\" >Dificuldade com disciplinas</th>        <th class=\"col_heading level0 col2\" >Distância entre academia e indústria</th>        <th class=\"col_heading level0 col3\" >Falta de estrutura das aulas</th>        <th class=\"col_heading level0 col4\" >Muita teoria e pouca prática</th>        <th class=\"col_heading level0 col5\" >Professores com didática diferente da esperada</th>        <th class=\"col_heading level0 col6\" >impossibilidade de trabalhar e estudar</th>    </tr>    <tr>        <th class=\"index_name level0\" >motivação para entrar</th>        <th class=\"blank\" ></th>        <th class=\"blank\" ></th>        <th class=\"blank\" ></th>        <th class=\"blank\" ></th>        <th class=\"blank\" ></th>        <th class=\"blank\" ></th>        <th class=\"blank\" ></th>    </tr></thead><tbody>\n",
       "                <tr>\n",
       "                        <th id=\"T_5bae0a14_413a_11ea_9893_c8f733fd5142level0_row0\" class=\"row_heading level0 row0\" >Interesse por áreas do curso</th>\n",
       "                        <td id=\"T_5bae0a14_413a_11ea_9893_c8f733fd5142row0_col0\" class=\"data row0 col0\" >25.00%</td>\n",
       "                        <td id=\"T_5bae0a14_413a_11ea_9893_c8f733fd5142row0_col1\" class=\"data row0 col1\" >25.00%</td>\n",
       "                        <td id=\"T_5bae0a14_413a_11ea_9893_c8f733fd5142row0_col2\" class=\"data row0 col2\" >12.50%</td>\n",
       "                        <td id=\"T_5bae0a14_413a_11ea_9893_c8f733fd5142row0_col3\" class=\"data row0 col3\" >12.50%</td>\n",
       "                        <td id=\"T_5bae0a14_413a_11ea_9893_c8f733fd5142row0_col4\" class=\"data row0 col4\" >12.50%</td>\n",
       "                        <td id=\"T_5bae0a14_413a_11ea_9893_c8f733fd5142row0_col5\" class=\"data row0 col5\" >12.50%</td>\n",
       "                        <td id=\"T_5bae0a14_413a_11ea_9893_c8f733fd5142row0_col6\" class=\"data row0 col6\" >0.00%</td>\n",
       "            </tr>\n",
       "            <tr>\n",
       "                        <th id=\"T_5bae0a14_413a_11ea_9893_c8f733fd5142level0_row1\" class=\"row_heading level0 row1\" >Mercado de trabalho atrativo</th>\n",
       "                        <td id=\"T_5bae0a14_413a_11ea_9893_c8f733fd5142row1_col0\" class=\"data row1 col0\" >0.00%</td>\n",
       "                        <td id=\"T_5bae0a14_413a_11ea_9893_c8f733fd5142row1_col1\" class=\"data row1 col1\" >0.00%</td>\n",
       "                        <td id=\"T_5bae0a14_413a_11ea_9893_c8f733fd5142row1_col2\" class=\"data row1 col2\" >0.00%</td>\n",
       "                        <td id=\"T_5bae0a14_413a_11ea_9893_c8f733fd5142row1_col3\" class=\"data row1 col3\" >0.00%</td>\n",
       "                        <td id=\"T_5bae0a14_413a_11ea_9893_c8f733fd5142row1_col4\" class=\"data row1 col4\" >0.00%</td>\n",
       "                        <td id=\"T_5bae0a14_413a_11ea_9893_c8f733fd5142row1_col5\" class=\"data row1 col5\" >100.00%</td>\n",
       "                        <td id=\"T_5bae0a14_413a_11ea_9893_c8f733fd5142row1_col6\" class=\"data row1 col6\" >0.00%</td>\n",
       "            </tr>\n",
       "            <tr>\n",
       "                        <th id=\"T_5bae0a14_413a_11ea_9893_c8f733fd5142level0_row2\" class=\"row_heading level0 row2\" >Pressão familiar</th>\n",
       "                        <td id=\"T_5bae0a14_413a_11ea_9893_c8f733fd5142row2_col0\" class=\"data row2 col0\" >0.00%</td>\n",
       "                        <td id=\"T_5bae0a14_413a_11ea_9893_c8f733fd5142row2_col1\" class=\"data row2 col1\" >0.00%</td>\n",
       "                        <td id=\"T_5bae0a14_413a_11ea_9893_c8f733fd5142row2_col2\" class=\"data row2 col2\" >0.00%</td>\n",
       "                        <td id=\"T_5bae0a14_413a_11ea_9893_c8f733fd5142row2_col3\" class=\"data row2 col3\" >0.00%</td>\n",
       "                        <td id=\"T_5bae0a14_413a_11ea_9893_c8f733fd5142row2_col4\" class=\"data row2 col4\" >0.00%</td>\n",
       "                        <td id=\"T_5bae0a14_413a_11ea_9893_c8f733fd5142row2_col5\" class=\"data row2 col5\" >0.00%</td>\n",
       "                        <td id=\"T_5bae0a14_413a_11ea_9893_c8f733fd5142row2_col6\" class=\"data row2 col6\" >100.00%</td>\n",
       "            </tr>\n",
       "    </tbody></table>"
      ],
      "text/plain": [
       "<pandas.io.formats.style.Styler at 0xafef488>"
      ]
     },
     "execution_count": 160,
     "metadata": {},
     "output_type": "execute_result"
    }
   ],
   "source": [
    "tab_cross_motiv_dif.apply(lambda r: r/r.sum(), axis=1).style.format(\"{:.2%}\")"
   ]
  },
  {
   "cell_type": "markdown",
   "metadata": {},
   "source": [
    "---------------\n",
    "## Motivação x Em quanto jogos evitariam a desistência?"
   ]
  },
  {
   "cell_type": "markdown",
   "metadata": {},
   "source": [
    "----------\n",
    "* ### contagem absoluta"
   ]
  },
  {
   "cell_type": "code",
   "execution_count": 162,
   "metadata": {},
   "outputs": [
    {
     "data": {
      "text/html": [
       "<div>\n",
       "<style scoped>\n",
       "    .dataframe tbody tr th:only-of-type {\n",
       "        vertical-align: middle;\n",
       "    }\n",
       "\n",
       "    .dataframe tbody tr th {\n",
       "        vertical-align: top;\n",
       "    }\n",
       "\n",
       "    .dataframe thead th {\n",
       "        text-align: right;\n",
       "    }\n",
       "</style>\n",
       "<table border=\"1\" class=\"dataframe\">\n",
       "  <thead>\n",
       "    <tr style=\"text-align: right;\">\n",
       "      <th>motivação para entrar</th>\n",
       "      <th>Interesse por áreas do curso</th>\n",
       "      <th>Mercado de trabalho atrativo</th>\n",
       "      <th>Pressão familiar</th>\n",
       "    </tr>\n",
       "    <tr>\n",
       "      <th>Em quanto jogos evitariam a desistência?</th>\n",
       "      <th></th>\n",
       "      <th></th>\n",
       "      <th></th>\n",
       "    </tr>\n",
       "  </thead>\n",
       "  <tbody>\n",
       "    <tr>\n",
       "      <th>1</th>\n",
       "      <td>1</td>\n",
       "      <td>0</td>\n",
       "      <td>1</td>\n",
       "    </tr>\n",
       "    <tr>\n",
       "      <th>3</th>\n",
       "      <td>3</td>\n",
       "      <td>0</td>\n",
       "      <td>0</td>\n",
       "    </tr>\n",
       "    <tr>\n",
       "      <th>4</th>\n",
       "      <td>2</td>\n",
       "      <td>1</td>\n",
       "      <td>0</td>\n",
       "    </tr>\n",
       "    <tr>\n",
       "      <th>5</th>\n",
       "      <td>2</td>\n",
       "      <td>0</td>\n",
       "      <td>0</td>\n",
       "    </tr>\n",
       "  </tbody>\n",
       "</table>\n",
       "</div>"
      ],
      "text/plain": [
       "motivação para entrar                     Interesse por áreas do curso  \\\n",
       "Em quanto jogos evitariam a desistência?                                 \n",
       "1                                                                    1   \n",
       "3                                                                    3   \n",
       "4                                                                    2   \n",
       "5                                                                    2   \n",
       "\n",
       "motivação para entrar                     Mercado de trabalho atrativo  \\\n",
       "Em quanto jogos evitariam a desistência?                                 \n",
       "1                                                                    0   \n",
       "3                                                                    0   \n",
       "4                                                                    1   \n",
       "5                                                                    0   \n",
       "\n",
       "motivação para entrar                     Pressão familiar  \n",
       "Em quanto jogos evitariam a desistência?                    \n",
       "1                                                        1  \n",
       "3                                                        0  \n",
       "4                                                        0  \n",
       "5                                                        0  "
      ]
     },
     "execution_count": 162,
     "metadata": {},
     "output_type": "execute_result"
    }
   ],
   "source": [
    "tab_cross_motiv_dif_giv = pd.crosstab(motiv_entrar_sep['Em quanto jogos evitariam a desistência?'], motiv_entrar_sep['motivação para entrar'])\n",
    "tab_cross_motiv_dif_giv"
   ]
  },
  {
   "cell_type": "markdown",
   "metadata": {},
   "source": [
    "----------\n",
    "* ### contagem relativa (%)"
   ]
  },
  {
   "cell_type": "code",
   "execution_count": 163,
   "metadata": {},
   "outputs": [
    {
     "data": {
      "text/html": [
       "<style  type=\"text/css\" >\n",
       "</style><table id=\"T_ac44687a_413a_11ea_9d03_c8f733fd5142\" ><thead>    <tr>        <th class=\"index_name level0\" >motivação para entrar</th>        <th class=\"col_heading level0 col0\" >Interesse por áreas do curso</th>        <th class=\"col_heading level0 col1\" >Mercado de trabalho atrativo</th>        <th class=\"col_heading level0 col2\" >Pressão familiar</th>    </tr>    <tr>        <th class=\"index_name level0\" >Em quanto jogos evitariam a desistência?</th>        <th class=\"blank\" ></th>        <th class=\"blank\" ></th>        <th class=\"blank\" ></th>    </tr></thead><tbody>\n",
       "                <tr>\n",
       "                        <th id=\"T_ac44687a_413a_11ea_9d03_c8f733fd5142level0_row0\" class=\"row_heading level0 row0\" >1</th>\n",
       "                        <td id=\"T_ac44687a_413a_11ea_9d03_c8f733fd5142row0_col0\" class=\"data row0 col0\" >50.00%</td>\n",
       "                        <td id=\"T_ac44687a_413a_11ea_9d03_c8f733fd5142row0_col1\" class=\"data row0 col1\" >0.00%</td>\n",
       "                        <td id=\"T_ac44687a_413a_11ea_9d03_c8f733fd5142row0_col2\" class=\"data row0 col2\" >50.00%</td>\n",
       "            </tr>\n",
       "            <tr>\n",
       "                        <th id=\"T_ac44687a_413a_11ea_9d03_c8f733fd5142level0_row1\" class=\"row_heading level0 row1\" >3</th>\n",
       "                        <td id=\"T_ac44687a_413a_11ea_9d03_c8f733fd5142row1_col0\" class=\"data row1 col0\" >100.00%</td>\n",
       "                        <td id=\"T_ac44687a_413a_11ea_9d03_c8f733fd5142row1_col1\" class=\"data row1 col1\" >0.00%</td>\n",
       "                        <td id=\"T_ac44687a_413a_11ea_9d03_c8f733fd5142row1_col2\" class=\"data row1 col2\" >0.00%</td>\n",
       "            </tr>\n",
       "            <tr>\n",
       "                        <th id=\"T_ac44687a_413a_11ea_9d03_c8f733fd5142level0_row2\" class=\"row_heading level0 row2\" >4</th>\n",
       "                        <td id=\"T_ac44687a_413a_11ea_9d03_c8f733fd5142row2_col0\" class=\"data row2 col0\" >66.67%</td>\n",
       "                        <td id=\"T_ac44687a_413a_11ea_9d03_c8f733fd5142row2_col1\" class=\"data row2 col1\" >33.33%</td>\n",
       "                        <td id=\"T_ac44687a_413a_11ea_9d03_c8f733fd5142row2_col2\" class=\"data row2 col2\" >0.00%</td>\n",
       "            </tr>\n",
       "            <tr>\n",
       "                        <th id=\"T_ac44687a_413a_11ea_9d03_c8f733fd5142level0_row3\" class=\"row_heading level0 row3\" >5</th>\n",
       "                        <td id=\"T_ac44687a_413a_11ea_9d03_c8f733fd5142row3_col0\" class=\"data row3 col0\" >100.00%</td>\n",
       "                        <td id=\"T_ac44687a_413a_11ea_9d03_c8f733fd5142row3_col1\" class=\"data row3 col1\" >0.00%</td>\n",
       "                        <td id=\"T_ac44687a_413a_11ea_9d03_c8f733fd5142row3_col2\" class=\"data row3 col2\" >0.00%</td>\n",
       "            </tr>\n",
       "    </tbody></table>"
      ],
      "text/plain": [
       "<pandas.io.formats.style.Styler at 0xb016a08>"
      ]
     },
     "execution_count": 163,
     "metadata": {},
     "output_type": "execute_result"
    }
   ],
   "source": [
    "tab_cross_motiv_dif_giv.apply(lambda r: r/r.sum(), axis=1).style.format(\"{:.2%}\")"
   ]
  },
  {
   "cell_type": "markdown",
   "metadata": {},
   "source": [
    "---------------\n",
    "## Motivação x Motivos de desistência"
   ]
  },
  {
   "cell_type": "markdown",
   "metadata": {},
   "source": [
    "----------\n",
    "* ### contagem absoluta"
   ]
  },
  {
   "cell_type": "code",
   "execution_count": 164,
   "metadata": {},
   "outputs": [
    {
     "data": {
      "text/html": [
       "<div>\n",
       "<style scoped>\n",
       "    .dataframe tbody tr th:only-of-type {\n",
       "        vertical-align: middle;\n",
       "    }\n",
       "\n",
       "    .dataframe tbody tr th {\n",
       "        vertical-align: top;\n",
       "    }\n",
       "\n",
       "    .dataframe thead th {\n",
       "        text-align: right;\n",
       "    }\n",
       "</style>\n",
       "<table border=\"1\" class=\"dataframe\">\n",
       "  <thead>\n",
       "    <tr style=\"text-align: right;\">\n",
       "      <th>Motivos de desistência</th>\n",
       "      <th>Assuntos distantes do interesse pessoal</th>\n",
       "      <th>Assuntos distantes do interesse pessoal;</th>\n",
       "      <th>Distância entre academia e indústria</th>\n",
       "      <th>Expectativa frustrada sobre a área no mercado de trabalho</th>\n",
       "      <th>Impossibilidade de trabalhar e estudar</th>\n",
       "      <th>Não Sabe / Não Respondeu</th>\n",
       "      <th>Professores com didática diferente da esperada</th>\n",
       "      <th>Professores com didática diferente da esperada;</th>\n",
       "      <th>impossibilidade de trabalhar e estudar</th>\n",
       "    </tr>\n",
       "    <tr>\n",
       "      <th>motivação para entrar</th>\n",
       "      <th></th>\n",
       "      <th></th>\n",
       "      <th></th>\n",
       "      <th></th>\n",
       "      <th></th>\n",
       "      <th></th>\n",
       "      <th></th>\n",
       "      <th></th>\n",
       "      <th></th>\n",
       "    </tr>\n",
       "  </thead>\n",
       "  <tbody>\n",
       "    <tr>\n",
       "      <th>Interesse por áreas do curso</th>\n",
       "      <td>1</td>\n",
       "      <td>1</td>\n",
       "      <td>0</td>\n",
       "      <td>1</td>\n",
       "      <td>1</td>\n",
       "      <td>1</td>\n",
       "      <td>1</td>\n",
       "      <td>1</td>\n",
       "      <td>1</td>\n",
       "    </tr>\n",
       "    <tr>\n",
       "      <th>Mercado de trabalho atrativo</th>\n",
       "      <td>0</td>\n",
       "      <td>0</td>\n",
       "      <td>1</td>\n",
       "      <td>0</td>\n",
       "      <td>0</td>\n",
       "      <td>0</td>\n",
       "      <td>0</td>\n",
       "      <td>0</td>\n",
       "      <td>0</td>\n",
       "    </tr>\n",
       "    <tr>\n",
       "      <th>Pressão familiar</th>\n",
       "      <td>0</td>\n",
       "      <td>0</td>\n",
       "      <td>0</td>\n",
       "      <td>0</td>\n",
       "      <td>0</td>\n",
       "      <td>0</td>\n",
       "      <td>0</td>\n",
       "      <td>0</td>\n",
       "      <td>1</td>\n",
       "    </tr>\n",
       "  </tbody>\n",
       "</table>\n",
       "</div>"
      ],
      "text/plain": [
       "Motivos de desistência        Assuntos distantes do interesse pessoal  \\\n",
       "motivação para entrar                                                   \n",
       "Interesse por áreas do curso                                        1   \n",
       "Mercado de trabalho atrativo                                        0   \n",
       "Pressão familiar                                                    0   \n",
       "\n",
       "Motivos de desistência        Assuntos distantes do interesse pessoal;  \\\n",
       "motivação para entrar                                                    \n",
       "Interesse por áreas do curso                                         1   \n",
       "Mercado de trabalho atrativo                                         0   \n",
       "Pressão familiar                                                     0   \n",
       "\n",
       "Motivos de desistência        Distância entre academia e indústria  \\\n",
       "motivação para entrar                                                \n",
       "Interesse por áreas do curso                                     0   \n",
       "Mercado de trabalho atrativo                                     1   \n",
       "Pressão familiar                                                 0   \n",
       "\n",
       "Motivos de desistência        Expectativa frustrada sobre a área no mercado de trabalho  \\\n",
       "motivação para entrar                                                                     \n",
       "Interesse por áreas do curso                                                  1           \n",
       "Mercado de trabalho atrativo                                                  0           \n",
       "Pressão familiar                                                              0           \n",
       "\n",
       "Motivos de desistência        Impossibilidade de trabalhar e estudar  \\\n",
       "motivação para entrar                                                  \n",
       "Interesse por áreas do curso                                       1   \n",
       "Mercado de trabalho atrativo                                       0   \n",
       "Pressão familiar                                                   0   \n",
       "\n",
       "Motivos de desistência        Não Sabe / Não Respondeu  \\\n",
       "motivação para entrar                                    \n",
       "Interesse por áreas do curso                         1   \n",
       "Mercado de trabalho atrativo                         0   \n",
       "Pressão familiar                                     0   \n",
       "\n",
       "Motivos de desistência        Professores com didática diferente da esperada  \\\n",
       "motivação para entrar                                                          \n",
       "Interesse por áreas do curso                                               1   \n",
       "Mercado de trabalho atrativo                                               0   \n",
       "Pressão familiar                                                           0   \n",
       "\n",
       "Motivos de desistência        Professores com didática diferente da esperada;  \\\n",
       "motivação para entrar                                                           \n",
       "Interesse por áreas do curso                                                1   \n",
       "Mercado de trabalho atrativo                                                0   \n",
       "Pressão familiar                                                            0   \n",
       "\n",
       "Motivos de desistência        impossibilidade de trabalhar e estudar  \n",
       "motivação para entrar                                                 \n",
       "Interesse por áreas do curso                                       1  \n",
       "Mercado de trabalho atrativo                                       0  \n",
       "Pressão familiar                                                   1  "
      ]
     },
     "execution_count": 164,
     "metadata": {},
     "output_type": "execute_result"
    }
   ],
   "source": [
    "tab_cross_motiv_dif_giv = pd.crosstab(motiv_entrar_sep['motivação para entrar'], motiv_des_sep['Motivos de desistência'])\n",
    "tab_cross_motiv_dif_giv"
   ]
  },
  {
   "cell_type": "markdown",
   "metadata": {},
   "source": [
    "----------\n",
    "* ### contagem relativa (%)"
   ]
  },
  {
   "cell_type": "code",
   "execution_count": 165,
   "metadata": {},
   "outputs": [
    {
     "data": {
      "text/html": [
       "<style  type=\"text/css\" >\n",
       "</style><table id=\"T_d8051b80_413a_11ea_a776_c8f733fd5142\" ><thead>    <tr>        <th class=\"index_name level0\" >Motivos de desistência</th>        <th class=\"col_heading level0 col0\" >Assuntos distantes do interesse pessoal</th>        <th class=\"col_heading level0 col1\" >Assuntos distantes do interesse pessoal;</th>        <th class=\"col_heading level0 col2\" >Distância entre academia e indústria</th>        <th class=\"col_heading level0 col3\" >Expectativa frustrada sobre a área no mercado de trabalho</th>        <th class=\"col_heading level0 col4\" >Impossibilidade de trabalhar e estudar</th>        <th class=\"col_heading level0 col5\" >Não Sabe / Não Respondeu</th>        <th class=\"col_heading level0 col6\" >Professores com didática diferente da esperada</th>        <th class=\"col_heading level0 col7\" >Professores com didática diferente da esperada;</th>        <th class=\"col_heading level0 col8\" >impossibilidade de trabalhar e estudar</th>    </tr>    <tr>        <th class=\"index_name level0\" >motivação para entrar</th>        <th class=\"blank\" ></th>        <th class=\"blank\" ></th>        <th class=\"blank\" ></th>        <th class=\"blank\" ></th>        <th class=\"blank\" ></th>        <th class=\"blank\" ></th>        <th class=\"blank\" ></th>        <th class=\"blank\" ></th>        <th class=\"blank\" ></th>    </tr></thead><tbody>\n",
       "                <tr>\n",
       "                        <th id=\"T_d8051b80_413a_11ea_a776_c8f733fd5142level0_row0\" class=\"row_heading level0 row0\" >Interesse por áreas do curso</th>\n",
       "                        <td id=\"T_d8051b80_413a_11ea_a776_c8f733fd5142row0_col0\" class=\"data row0 col0\" >12.50%</td>\n",
       "                        <td id=\"T_d8051b80_413a_11ea_a776_c8f733fd5142row0_col1\" class=\"data row0 col1\" >12.50%</td>\n",
       "                        <td id=\"T_d8051b80_413a_11ea_a776_c8f733fd5142row0_col2\" class=\"data row0 col2\" >0.00%</td>\n",
       "                        <td id=\"T_d8051b80_413a_11ea_a776_c8f733fd5142row0_col3\" class=\"data row0 col3\" >12.50%</td>\n",
       "                        <td id=\"T_d8051b80_413a_11ea_a776_c8f733fd5142row0_col4\" class=\"data row0 col4\" >12.50%</td>\n",
       "                        <td id=\"T_d8051b80_413a_11ea_a776_c8f733fd5142row0_col5\" class=\"data row0 col5\" >12.50%</td>\n",
       "                        <td id=\"T_d8051b80_413a_11ea_a776_c8f733fd5142row0_col6\" class=\"data row0 col6\" >12.50%</td>\n",
       "                        <td id=\"T_d8051b80_413a_11ea_a776_c8f733fd5142row0_col7\" class=\"data row0 col7\" >12.50%</td>\n",
       "                        <td id=\"T_d8051b80_413a_11ea_a776_c8f733fd5142row0_col8\" class=\"data row0 col8\" >12.50%</td>\n",
       "            </tr>\n",
       "            <tr>\n",
       "                        <th id=\"T_d8051b80_413a_11ea_a776_c8f733fd5142level0_row1\" class=\"row_heading level0 row1\" >Mercado de trabalho atrativo</th>\n",
       "                        <td id=\"T_d8051b80_413a_11ea_a776_c8f733fd5142row1_col0\" class=\"data row1 col0\" >0.00%</td>\n",
       "                        <td id=\"T_d8051b80_413a_11ea_a776_c8f733fd5142row1_col1\" class=\"data row1 col1\" >0.00%</td>\n",
       "                        <td id=\"T_d8051b80_413a_11ea_a776_c8f733fd5142row1_col2\" class=\"data row1 col2\" >100.00%</td>\n",
       "                        <td id=\"T_d8051b80_413a_11ea_a776_c8f733fd5142row1_col3\" class=\"data row1 col3\" >0.00%</td>\n",
       "                        <td id=\"T_d8051b80_413a_11ea_a776_c8f733fd5142row1_col4\" class=\"data row1 col4\" >0.00%</td>\n",
       "                        <td id=\"T_d8051b80_413a_11ea_a776_c8f733fd5142row1_col5\" class=\"data row1 col5\" >0.00%</td>\n",
       "                        <td id=\"T_d8051b80_413a_11ea_a776_c8f733fd5142row1_col6\" class=\"data row1 col6\" >0.00%</td>\n",
       "                        <td id=\"T_d8051b80_413a_11ea_a776_c8f733fd5142row1_col7\" class=\"data row1 col7\" >0.00%</td>\n",
       "                        <td id=\"T_d8051b80_413a_11ea_a776_c8f733fd5142row1_col8\" class=\"data row1 col8\" >0.00%</td>\n",
       "            </tr>\n",
       "            <tr>\n",
       "                        <th id=\"T_d8051b80_413a_11ea_a776_c8f733fd5142level0_row2\" class=\"row_heading level0 row2\" >Pressão familiar</th>\n",
       "                        <td id=\"T_d8051b80_413a_11ea_a776_c8f733fd5142row2_col0\" class=\"data row2 col0\" >0.00%</td>\n",
       "                        <td id=\"T_d8051b80_413a_11ea_a776_c8f733fd5142row2_col1\" class=\"data row2 col1\" >0.00%</td>\n",
       "                        <td id=\"T_d8051b80_413a_11ea_a776_c8f733fd5142row2_col2\" class=\"data row2 col2\" >0.00%</td>\n",
       "                        <td id=\"T_d8051b80_413a_11ea_a776_c8f733fd5142row2_col3\" class=\"data row2 col3\" >0.00%</td>\n",
       "                        <td id=\"T_d8051b80_413a_11ea_a776_c8f733fd5142row2_col4\" class=\"data row2 col4\" >0.00%</td>\n",
       "                        <td id=\"T_d8051b80_413a_11ea_a776_c8f733fd5142row2_col5\" class=\"data row2 col5\" >0.00%</td>\n",
       "                        <td id=\"T_d8051b80_413a_11ea_a776_c8f733fd5142row2_col6\" class=\"data row2 col6\" >0.00%</td>\n",
       "                        <td id=\"T_d8051b80_413a_11ea_a776_c8f733fd5142row2_col7\" class=\"data row2 col7\" >0.00%</td>\n",
       "                        <td id=\"T_d8051b80_413a_11ea_a776_c8f733fd5142row2_col8\" class=\"data row2 col8\" >100.00%</td>\n",
       "            </tr>\n",
       "    </tbody></table>"
      ],
      "text/plain": [
       "<pandas.io.formats.style.Styler at 0xb0ea208>"
      ]
     },
     "execution_count": 165,
     "metadata": {},
     "output_type": "execute_result"
    }
   ],
   "source": [
    "tab_cross_motiv_dif_giv.apply(lambda r: r/r.sum(), axis=1).style.format(\"{:.2%}\")"
   ]
  },
  {
   "cell_type": "markdown",
   "metadata": {},
   "source": [
    "---------------\n",
    "## Motivação x uso de jogos impacta na visão sobre o curso?"
   ]
  },
  {
   "cell_type": "markdown",
   "metadata": {},
   "source": [
    "----------\n",
    "* ### contagem absoluta"
   ]
  },
  {
   "cell_type": "code",
   "execution_count": 168,
   "metadata": {},
   "outputs": [
    {
     "data": {
      "text/html": [
       "<div>\n",
       "<style scoped>\n",
       "    .dataframe tbody tr th:only-of-type {\n",
       "        vertical-align: middle;\n",
       "    }\n",
       "\n",
       "    .dataframe tbody tr th {\n",
       "        vertical-align: top;\n",
       "    }\n",
       "\n",
       "    .dataframe thead th {\n",
       "        text-align: right;\n",
       "    }\n",
       "</style>\n",
       "<table border=\"1\" class=\"dataframe\">\n",
       "  <thead>\n",
       "    <tr style=\"text-align: right;\">\n",
       "      <th>motivação para entrar</th>\n",
       "      <th>Interesse por áreas do curso</th>\n",
       "      <th>Mercado de trabalho atrativo</th>\n",
       "      <th>Pressão familiar</th>\n",
       "    </tr>\n",
       "    <tr>\n",
       "      <th>uso de jogos impactaria na visão sobre o curso?</th>\n",
       "      <th></th>\n",
       "      <th></th>\n",
       "      <th></th>\n",
       "    </tr>\n",
       "  </thead>\n",
       "  <tbody>\n",
       "    <tr>\n",
       "      <th>3</th>\n",
       "      <td>2</td>\n",
       "      <td>0</td>\n",
       "      <td>1</td>\n",
       "    </tr>\n",
       "    <tr>\n",
       "      <th>4</th>\n",
       "      <td>3</td>\n",
       "      <td>0</td>\n",
       "      <td>0</td>\n",
       "    </tr>\n",
       "    <tr>\n",
       "      <th>5</th>\n",
       "      <td>3</td>\n",
       "      <td>1</td>\n",
       "      <td>0</td>\n",
       "    </tr>\n",
       "  </tbody>\n",
       "</table>\n",
       "</div>"
      ],
      "text/plain": [
       "motivação para entrar                            Interesse por áreas do curso  \\\n",
       "uso de jogos impactaria na visão sobre o curso?                                 \n",
       "3                                                                           2   \n",
       "4                                                                           3   \n",
       "5                                                                           3   \n",
       "\n",
       "motivação para entrar                            Mercado de trabalho atrativo  \\\n",
       "uso de jogos impactaria na visão sobre o curso?                                 \n",
       "3                                                                           0   \n",
       "4                                                                           0   \n",
       "5                                                                           1   \n",
       "\n",
       "motivação para entrar                            Pressão familiar  \n",
       "uso de jogos impactaria na visão sobre o curso?                    \n",
       "3                                                               1  \n",
       "4                                                               0  \n",
       "5                                                               0  "
      ]
     },
     "execution_count": 168,
     "metadata": {},
     "output_type": "execute_result"
    }
   ],
   "source": [
    "tab_cross_motiv_jogos = pd.crosstab(motiv_entrar_sep['uso de jogos impactaria na visão sobre o curso?'], motiv_entrar_sep['motivação para entrar'])\n",
    "tab_cross_motiv_jogos"
   ]
  },
  {
   "cell_type": "markdown",
   "metadata": {},
   "source": [
    "----------\n",
    "* ### contagem relativa (%)"
   ]
  },
  {
   "cell_type": "code",
   "execution_count": 169,
   "metadata": {
    "scrolled": true
   },
   "outputs": [
    {
     "data": {
      "text/html": [
       "<style  type=\"text/css\" >\n",
       "</style><table id=\"T_33739568_413b_11ea_90cb_c8f733fd5142\" ><thead>    <tr>        <th class=\"index_name level0\" >motivação para entrar</th>        <th class=\"col_heading level0 col0\" >Interesse por áreas do curso</th>        <th class=\"col_heading level0 col1\" >Mercado de trabalho atrativo</th>        <th class=\"col_heading level0 col2\" >Pressão familiar</th>    </tr>    <tr>        <th class=\"index_name level0\" >uso de jogos impactaria na visão sobre o curso?</th>        <th class=\"blank\" ></th>        <th class=\"blank\" ></th>        <th class=\"blank\" ></th>    </tr></thead><tbody>\n",
       "                <tr>\n",
       "                        <th id=\"T_33739568_413b_11ea_90cb_c8f733fd5142level0_row0\" class=\"row_heading level0 row0\" >3</th>\n",
       "                        <td id=\"T_33739568_413b_11ea_90cb_c8f733fd5142row0_col0\" class=\"data row0 col0\" >66.67%</td>\n",
       "                        <td id=\"T_33739568_413b_11ea_90cb_c8f733fd5142row0_col1\" class=\"data row0 col1\" >0.00%</td>\n",
       "                        <td id=\"T_33739568_413b_11ea_90cb_c8f733fd5142row0_col2\" class=\"data row0 col2\" >33.33%</td>\n",
       "            </tr>\n",
       "            <tr>\n",
       "                        <th id=\"T_33739568_413b_11ea_90cb_c8f733fd5142level0_row1\" class=\"row_heading level0 row1\" >4</th>\n",
       "                        <td id=\"T_33739568_413b_11ea_90cb_c8f733fd5142row1_col0\" class=\"data row1 col0\" >100.00%</td>\n",
       "                        <td id=\"T_33739568_413b_11ea_90cb_c8f733fd5142row1_col1\" class=\"data row1 col1\" >0.00%</td>\n",
       "                        <td id=\"T_33739568_413b_11ea_90cb_c8f733fd5142row1_col2\" class=\"data row1 col2\" >0.00%</td>\n",
       "            </tr>\n",
       "            <tr>\n",
       "                        <th id=\"T_33739568_413b_11ea_90cb_c8f733fd5142level0_row2\" class=\"row_heading level0 row2\" >5</th>\n",
       "                        <td id=\"T_33739568_413b_11ea_90cb_c8f733fd5142row2_col0\" class=\"data row2 col0\" >75.00%</td>\n",
       "                        <td id=\"T_33739568_413b_11ea_90cb_c8f733fd5142row2_col1\" class=\"data row2 col1\" >25.00%</td>\n",
       "                        <td id=\"T_33739568_413b_11ea_90cb_c8f733fd5142row2_col2\" class=\"data row2 col2\" >0.00%</td>\n",
       "            </tr>\n",
       "    </tbody></table>"
      ],
      "text/plain": [
       "<pandas.io.formats.style.Styler at 0xb120808>"
      ]
     },
     "execution_count": 169,
     "metadata": {},
     "output_type": "execute_result"
    }
   ],
   "source": [
    "tab_cross_motiv_jogos.apply(lambda r: r/r.sum(), axis=1).style.format(\"{:.2%}\")"
   ]
  },
  {
   "cell_type": "markdown",
   "metadata": {},
   "source": [
    "### EXPECTATIVAS"
   ]
  },
  {
   "cell_type": "markdown",
   "metadata": {},
   "source": [
    "---------------\n",
    "## Expectativas x Expectativas atendidas"
   ]
  },
  {
   "cell_type": "markdown",
   "metadata": {},
   "source": [
    "----------\n",
    "* ### contagem absoluta"
   ]
  },
  {
   "cell_type": "code",
   "execution_count": 170,
   "metadata": {},
   "outputs": [
    {
     "data": {
      "text/html": [
       "<div>\n",
       "<style scoped>\n",
       "    .dataframe tbody tr th:only-of-type {\n",
       "        vertical-align: middle;\n",
       "    }\n",
       "\n",
       "    .dataframe tbody tr th {\n",
       "        vertical-align: top;\n",
       "    }\n",
       "\n",
       "    .dataframe thead th {\n",
       "        text-align: right;\n",
       "    }\n",
       "</style>\n",
       "<table border=\"1\" class=\"dataframe\">\n",
       "  <thead>\n",
       "    <tr style=\"text-align: right;\">\n",
       "      <th>expectativas atendidas</th>\n",
       "      <th>1</th>\n",
       "      <th>2</th>\n",
       "      <th>3</th>\n",
       "    </tr>\n",
       "    <tr>\n",
       "      <th>expectativas</th>\n",
       "      <th></th>\n",
       "      <th></th>\n",
       "      <th></th>\n",
       "    </tr>\n",
       "  </thead>\n",
       "  <tbody>\n",
       "    <tr>\n",
       "      <th>Adquirir conhecimento e capacitação na área de computação</th>\n",
       "      <td>1</td>\n",
       "      <td>4</td>\n",
       "      <td>1</td>\n",
       "    </tr>\n",
       "    <tr>\n",
       "      <th>Graduar-se em um curso multidisciplinar</th>\n",
       "      <td>0</td>\n",
       "      <td>1</td>\n",
       "      <td>1</td>\n",
       "    </tr>\n",
       "    <tr>\n",
       "      <th>Qualificar-se para o mercado de trabalho</th>\n",
       "      <td>0</td>\n",
       "      <td>1</td>\n",
       "      <td>0</td>\n",
       "    </tr>\n",
       "    <tr>\n",
       "      <th>expectativas positivas</th>\n",
       "      <td>0</td>\n",
       "      <td>1</td>\n",
       "      <td>0</td>\n",
       "    </tr>\n",
       "  </tbody>\n",
       "</table>\n",
       "</div>"
      ],
      "text/plain": [
       "expectativas atendidas                              1  2  3\n",
       "expectativas                                               \n",
       "Adquirir conhecimento e capacitação na área de ...  1  4  1\n",
       "Graduar-se em um curso multidisciplinar             0  1  1\n",
       "Qualificar-se para o mercado de trabalho            0  1  0\n",
       "expectativas positivas                              0  1  0"
      ]
     },
     "execution_count": 170,
     "metadata": {},
     "output_type": "execute_result"
    }
   ],
   "source": [
    "tab_cross_expec_atend = pd.crosstab(exp_sep['expectativas'], exp_sep['expectativas atendidas'])\n",
    "tab_cross_expec_atend"
   ]
  },
  {
   "cell_type": "markdown",
   "metadata": {},
   "source": [
    "----------\n",
    "* ### contagem relativa (%)"
   ]
  },
  {
   "cell_type": "code",
   "execution_count": 171,
   "metadata": {},
   "outputs": [
    {
     "data": {
      "text/html": [
       "<style  type=\"text/css\" >\n",
       "</style><table id=\"T_72e495f0_413b_11ea_92d4_c8f733fd5142\" ><thead>    <tr>        <th class=\"index_name level0\" >expectativas atendidas</th>        <th class=\"col_heading level0 col0\" >1</th>        <th class=\"col_heading level0 col1\" >2</th>        <th class=\"col_heading level0 col2\" >3</th>    </tr>    <tr>        <th class=\"index_name level0\" >expectativas</th>        <th class=\"blank\" ></th>        <th class=\"blank\" ></th>        <th class=\"blank\" ></th>    </tr></thead><tbody>\n",
       "                <tr>\n",
       "                        <th id=\"T_72e495f0_413b_11ea_92d4_c8f733fd5142level0_row0\" class=\"row_heading level0 row0\" >Adquirir conhecimento e capacitação na área de computação</th>\n",
       "                        <td id=\"T_72e495f0_413b_11ea_92d4_c8f733fd5142row0_col0\" class=\"data row0 col0\" >16.67%</td>\n",
       "                        <td id=\"T_72e495f0_413b_11ea_92d4_c8f733fd5142row0_col1\" class=\"data row0 col1\" >66.67%</td>\n",
       "                        <td id=\"T_72e495f0_413b_11ea_92d4_c8f733fd5142row0_col2\" class=\"data row0 col2\" >16.67%</td>\n",
       "            </tr>\n",
       "            <tr>\n",
       "                        <th id=\"T_72e495f0_413b_11ea_92d4_c8f733fd5142level0_row1\" class=\"row_heading level0 row1\" >Graduar-se em um curso multidisciplinar</th>\n",
       "                        <td id=\"T_72e495f0_413b_11ea_92d4_c8f733fd5142row1_col0\" class=\"data row1 col0\" >0.00%</td>\n",
       "                        <td id=\"T_72e495f0_413b_11ea_92d4_c8f733fd5142row1_col1\" class=\"data row1 col1\" >50.00%</td>\n",
       "                        <td id=\"T_72e495f0_413b_11ea_92d4_c8f733fd5142row1_col2\" class=\"data row1 col2\" >50.00%</td>\n",
       "            </tr>\n",
       "            <tr>\n",
       "                        <th id=\"T_72e495f0_413b_11ea_92d4_c8f733fd5142level0_row2\" class=\"row_heading level0 row2\" >Qualificar-se para o mercado de trabalho</th>\n",
       "                        <td id=\"T_72e495f0_413b_11ea_92d4_c8f733fd5142row2_col0\" class=\"data row2 col0\" >0.00%</td>\n",
       "                        <td id=\"T_72e495f0_413b_11ea_92d4_c8f733fd5142row2_col1\" class=\"data row2 col1\" >100.00%</td>\n",
       "                        <td id=\"T_72e495f0_413b_11ea_92d4_c8f733fd5142row2_col2\" class=\"data row2 col2\" >0.00%</td>\n",
       "            </tr>\n",
       "            <tr>\n",
       "                        <th id=\"T_72e495f0_413b_11ea_92d4_c8f733fd5142level0_row3\" class=\"row_heading level0 row3\" >expectativas positivas</th>\n",
       "                        <td id=\"T_72e495f0_413b_11ea_92d4_c8f733fd5142row3_col0\" class=\"data row3 col0\" >0.00%</td>\n",
       "                        <td id=\"T_72e495f0_413b_11ea_92d4_c8f733fd5142row3_col1\" class=\"data row3 col1\" >100.00%</td>\n",
       "                        <td id=\"T_72e495f0_413b_11ea_92d4_c8f733fd5142row3_col2\" class=\"data row3 col2\" >0.00%</td>\n",
       "            </tr>\n",
       "    </tbody></table>"
      ],
      "text/plain": [
       "<pandas.io.formats.style.Styler at 0xb1929c8>"
      ]
     },
     "execution_count": 171,
     "metadata": {},
     "output_type": "execute_result"
    }
   ],
   "source": [
    "tab_cross_expec_atend.apply(lambda r: r/r.sum(), axis=1).style.format(\"{:.2%}\")"
   ]
  },
  {
   "cell_type": "markdown",
   "metadata": {},
   "source": [
    "---------------\n",
    "## Expectativas x dificuldades"
   ]
  },
  {
   "cell_type": "markdown",
   "metadata": {},
   "source": [
    "----------\n",
    "* ### contagem absoluta"
   ]
  },
  {
   "cell_type": "code",
   "execution_count": 172,
   "metadata": {},
   "outputs": [
    {
     "data": {
      "text/html": [
       "<div>\n",
       "<style scoped>\n",
       "    .dataframe tbody tr th:only-of-type {\n",
       "        vertical-align: middle;\n",
       "    }\n",
       "\n",
       "    .dataframe tbody tr th {\n",
       "        vertical-align: top;\n",
       "    }\n",
       "\n",
       "    .dataframe thead th {\n",
       "        text-align: right;\n",
       "    }\n",
       "</style>\n",
       "<table border=\"1\" class=\"dataframe\">\n",
       "  <thead>\n",
       "    <tr style=\"text-align: right;\">\n",
       "      <th>dificuldades</th>\n",
       "      <th>Assuntos distantes do interesse pessoal</th>\n",
       "      <th>Dificuldade com disciplinas</th>\n",
       "      <th>Distância entre academia e indústria</th>\n",
       "      <th>Falta de estrutura das aulas</th>\n",
       "      <th>Muita teoria e pouca prática</th>\n",
       "      <th>Professores com didática diferente da esperada</th>\n",
       "      <th>impossibilidade de trabalhar e estudar</th>\n",
       "    </tr>\n",
       "    <tr>\n",
       "      <th>expectativas</th>\n",
       "      <th></th>\n",
       "      <th></th>\n",
       "      <th></th>\n",
       "      <th></th>\n",
       "      <th></th>\n",
       "      <th></th>\n",
       "      <th></th>\n",
       "    </tr>\n",
       "  </thead>\n",
       "  <tbody>\n",
       "    <tr>\n",
       "      <th>Adquirir conhecimento e capacitação na área de computação</th>\n",
       "      <td>1</td>\n",
       "      <td>1</td>\n",
       "      <td>1</td>\n",
       "      <td>0</td>\n",
       "      <td>1</td>\n",
       "      <td>1</td>\n",
       "      <td>1</td>\n",
       "    </tr>\n",
       "    <tr>\n",
       "      <th>Graduar-se em um curso multidisciplinar</th>\n",
       "      <td>1</td>\n",
       "      <td>1</td>\n",
       "      <td>0</td>\n",
       "      <td>0</td>\n",
       "      <td>0</td>\n",
       "      <td>0</td>\n",
       "      <td>0</td>\n",
       "    </tr>\n",
       "    <tr>\n",
       "      <th>Qualificar-se para o mercado de trabalho</th>\n",
       "      <td>0</td>\n",
       "      <td>0</td>\n",
       "      <td>0</td>\n",
       "      <td>1</td>\n",
       "      <td>0</td>\n",
       "      <td>0</td>\n",
       "      <td>0</td>\n",
       "    </tr>\n",
       "    <tr>\n",
       "      <th>expectativas positivas</th>\n",
       "      <td>0</td>\n",
       "      <td>0</td>\n",
       "      <td>0</td>\n",
       "      <td>0</td>\n",
       "      <td>0</td>\n",
       "      <td>1</td>\n",
       "      <td>0</td>\n",
       "    </tr>\n",
       "  </tbody>\n",
       "</table>\n",
       "</div>"
      ],
      "text/plain": [
       "dificuldades                                        Assuntos distantes do interesse pessoal  \\\n",
       "expectativas                                                                                  \n",
       "Adquirir conhecimento e capacitação na área de ...                                        1   \n",
       "Graduar-se em um curso multidisciplinar                                                   1   \n",
       "Qualificar-se para o mercado de trabalho                                                  0   \n",
       "expectativas positivas                                                                    0   \n",
       "\n",
       "dificuldades                                        Dificuldade com disciplinas  \\\n",
       "expectativas                                                                      \n",
       "Adquirir conhecimento e capacitação na área de ...                            1   \n",
       "Graduar-se em um curso multidisciplinar                                       1   \n",
       "Qualificar-se para o mercado de trabalho                                      0   \n",
       "expectativas positivas                                                        0   \n",
       "\n",
       "dificuldades                                        Distância entre academia e indústria  \\\n",
       "expectativas                                                                               \n",
       "Adquirir conhecimento e capacitação na área de ...                                     1   \n",
       "Graduar-se em um curso multidisciplinar                                                0   \n",
       "Qualificar-se para o mercado de trabalho                                               0   \n",
       "expectativas positivas                                                                 0   \n",
       "\n",
       "dificuldades                                        Falta de estrutura das aulas  \\\n",
       "expectativas                                                                       \n",
       "Adquirir conhecimento e capacitação na área de ...                             0   \n",
       "Graduar-se em um curso multidisciplinar                                        0   \n",
       "Qualificar-se para o mercado de trabalho                                       1   \n",
       "expectativas positivas                                                         0   \n",
       "\n",
       "dificuldades                                        Muita teoria e pouca prática  \\\n",
       "expectativas                                                                       \n",
       "Adquirir conhecimento e capacitação na área de ...                             1   \n",
       "Graduar-se em um curso multidisciplinar                                        0   \n",
       "Qualificar-se para o mercado de trabalho                                       0   \n",
       "expectativas positivas                                                         0   \n",
       "\n",
       "dificuldades                                        Professores com didática diferente da esperada  \\\n",
       "expectativas                                                                                         \n",
       "Adquirir conhecimento e capacitação na área de ...                                               1   \n",
       "Graduar-se em um curso multidisciplinar                                                          0   \n",
       "Qualificar-se para o mercado de trabalho                                                         0   \n",
       "expectativas positivas                                                                           1   \n",
       "\n",
       "dificuldades                                        impossibilidade de trabalhar e estudar  \n",
       "expectativas                                                                                \n",
       "Adquirir conhecimento e capacitação na área de ...                                       1  \n",
       "Graduar-se em um curso multidisciplinar                                                  0  \n",
       "Qualificar-se para o mercado de trabalho                                                 0  \n",
       "expectativas positivas                                                                   0  "
      ]
     },
     "execution_count": 172,
     "metadata": {},
     "output_type": "execute_result"
    }
   ],
   "source": [
    "tab_cross_expec_dif = pd.crosstab(exp_sep['expectativas'], dific_sep['dificuldades'])\n",
    "tab_cross_expec_dif"
   ]
  },
  {
   "cell_type": "markdown",
   "metadata": {},
   "source": [
    "----------\n",
    "* ### contagem relativa (%)"
   ]
  },
  {
   "cell_type": "code",
   "execution_count": 173,
   "metadata": {
    "scrolled": true
   },
   "outputs": [
    {
     "data": {
      "text/html": [
       "<style  type=\"text/css\" >\n",
       "</style><table id=\"T_83571dac_413b_11ea_ad07_c8f733fd5142\" ><thead>    <tr>        <th class=\"index_name level0\" >dificuldades</th>        <th class=\"col_heading level0 col0\" >Assuntos distantes do interesse pessoal</th>        <th class=\"col_heading level0 col1\" >Dificuldade com disciplinas</th>        <th class=\"col_heading level0 col2\" >Distância entre academia e indústria</th>        <th class=\"col_heading level0 col3\" >Falta de estrutura das aulas</th>        <th class=\"col_heading level0 col4\" >Muita teoria e pouca prática</th>        <th class=\"col_heading level0 col5\" >Professores com didática diferente da esperada</th>        <th class=\"col_heading level0 col6\" >impossibilidade de trabalhar e estudar</th>    </tr>    <tr>        <th class=\"index_name level0\" >expectativas</th>        <th class=\"blank\" ></th>        <th class=\"blank\" ></th>        <th class=\"blank\" ></th>        <th class=\"blank\" ></th>        <th class=\"blank\" ></th>        <th class=\"blank\" ></th>        <th class=\"blank\" ></th>    </tr></thead><tbody>\n",
       "                <tr>\n",
       "                        <th id=\"T_83571dac_413b_11ea_ad07_c8f733fd5142level0_row0\" class=\"row_heading level0 row0\" >Adquirir conhecimento e capacitação na área de computação</th>\n",
       "                        <td id=\"T_83571dac_413b_11ea_ad07_c8f733fd5142row0_col0\" class=\"data row0 col0\" >16.67%</td>\n",
       "                        <td id=\"T_83571dac_413b_11ea_ad07_c8f733fd5142row0_col1\" class=\"data row0 col1\" >16.67%</td>\n",
       "                        <td id=\"T_83571dac_413b_11ea_ad07_c8f733fd5142row0_col2\" class=\"data row0 col2\" >16.67%</td>\n",
       "                        <td id=\"T_83571dac_413b_11ea_ad07_c8f733fd5142row0_col3\" class=\"data row0 col3\" >0.00%</td>\n",
       "                        <td id=\"T_83571dac_413b_11ea_ad07_c8f733fd5142row0_col4\" class=\"data row0 col4\" >16.67%</td>\n",
       "                        <td id=\"T_83571dac_413b_11ea_ad07_c8f733fd5142row0_col5\" class=\"data row0 col5\" >16.67%</td>\n",
       "                        <td id=\"T_83571dac_413b_11ea_ad07_c8f733fd5142row0_col6\" class=\"data row0 col6\" >16.67%</td>\n",
       "            </tr>\n",
       "            <tr>\n",
       "                        <th id=\"T_83571dac_413b_11ea_ad07_c8f733fd5142level0_row1\" class=\"row_heading level0 row1\" >Graduar-se em um curso multidisciplinar</th>\n",
       "                        <td id=\"T_83571dac_413b_11ea_ad07_c8f733fd5142row1_col0\" class=\"data row1 col0\" >50.00%</td>\n",
       "                        <td id=\"T_83571dac_413b_11ea_ad07_c8f733fd5142row1_col1\" class=\"data row1 col1\" >50.00%</td>\n",
       "                        <td id=\"T_83571dac_413b_11ea_ad07_c8f733fd5142row1_col2\" class=\"data row1 col2\" >0.00%</td>\n",
       "                        <td id=\"T_83571dac_413b_11ea_ad07_c8f733fd5142row1_col3\" class=\"data row1 col3\" >0.00%</td>\n",
       "                        <td id=\"T_83571dac_413b_11ea_ad07_c8f733fd5142row1_col4\" class=\"data row1 col4\" >0.00%</td>\n",
       "                        <td id=\"T_83571dac_413b_11ea_ad07_c8f733fd5142row1_col5\" class=\"data row1 col5\" >0.00%</td>\n",
       "                        <td id=\"T_83571dac_413b_11ea_ad07_c8f733fd5142row1_col6\" class=\"data row1 col6\" >0.00%</td>\n",
       "            </tr>\n",
       "            <tr>\n",
       "                        <th id=\"T_83571dac_413b_11ea_ad07_c8f733fd5142level0_row2\" class=\"row_heading level0 row2\" >Qualificar-se para o mercado de trabalho</th>\n",
       "                        <td id=\"T_83571dac_413b_11ea_ad07_c8f733fd5142row2_col0\" class=\"data row2 col0\" >0.00%</td>\n",
       "                        <td id=\"T_83571dac_413b_11ea_ad07_c8f733fd5142row2_col1\" class=\"data row2 col1\" >0.00%</td>\n",
       "                        <td id=\"T_83571dac_413b_11ea_ad07_c8f733fd5142row2_col2\" class=\"data row2 col2\" >0.00%</td>\n",
       "                        <td id=\"T_83571dac_413b_11ea_ad07_c8f733fd5142row2_col3\" class=\"data row2 col3\" >100.00%</td>\n",
       "                        <td id=\"T_83571dac_413b_11ea_ad07_c8f733fd5142row2_col4\" class=\"data row2 col4\" >0.00%</td>\n",
       "                        <td id=\"T_83571dac_413b_11ea_ad07_c8f733fd5142row2_col5\" class=\"data row2 col5\" >0.00%</td>\n",
       "                        <td id=\"T_83571dac_413b_11ea_ad07_c8f733fd5142row2_col6\" class=\"data row2 col6\" >0.00%</td>\n",
       "            </tr>\n",
       "            <tr>\n",
       "                        <th id=\"T_83571dac_413b_11ea_ad07_c8f733fd5142level0_row3\" class=\"row_heading level0 row3\" >expectativas positivas</th>\n",
       "                        <td id=\"T_83571dac_413b_11ea_ad07_c8f733fd5142row3_col0\" class=\"data row3 col0\" >0.00%</td>\n",
       "                        <td id=\"T_83571dac_413b_11ea_ad07_c8f733fd5142row3_col1\" class=\"data row3 col1\" >0.00%</td>\n",
       "                        <td id=\"T_83571dac_413b_11ea_ad07_c8f733fd5142row3_col2\" class=\"data row3 col2\" >0.00%</td>\n",
       "                        <td id=\"T_83571dac_413b_11ea_ad07_c8f733fd5142row3_col3\" class=\"data row3 col3\" >0.00%</td>\n",
       "                        <td id=\"T_83571dac_413b_11ea_ad07_c8f733fd5142row3_col4\" class=\"data row3 col4\" >0.00%</td>\n",
       "                        <td id=\"T_83571dac_413b_11ea_ad07_c8f733fd5142row3_col5\" class=\"data row3 col5\" >100.00%</td>\n",
       "                        <td id=\"T_83571dac_413b_11ea_ad07_c8f733fd5142row3_col6\" class=\"data row3 col6\" >0.00%</td>\n",
       "            </tr>\n",
       "    </tbody></table>"
      ],
      "text/plain": [
       "<pandas.io.formats.style.Styler at 0xb01e508>"
      ]
     },
     "execution_count": 173,
     "metadata": {},
     "output_type": "execute_result"
    }
   ],
   "source": [
    "tab_cross_expec_dif.apply(lambda r: r/r.sum(), axis=1).style.format(\"{:.2%}\")"
   ]
  },
  {
   "cell_type": "markdown",
   "metadata": {},
   "source": [
    "---------------\n",
    "## Expectativas x Motivos de desistência"
   ]
  },
  {
   "cell_type": "markdown",
   "metadata": {},
   "source": [
    "----------\n",
    "* ### contagem absoluta"
   ]
  },
  {
   "cell_type": "code",
   "execution_count": 175,
   "metadata": {},
   "outputs": [
    {
     "data": {
      "text/html": [
       "<div>\n",
       "<style scoped>\n",
       "    .dataframe tbody tr th:only-of-type {\n",
       "        vertical-align: middle;\n",
       "    }\n",
       "\n",
       "    .dataframe tbody tr th {\n",
       "        vertical-align: top;\n",
       "    }\n",
       "\n",
       "    .dataframe thead th {\n",
       "        text-align: right;\n",
       "    }\n",
       "</style>\n",
       "<table border=\"1\" class=\"dataframe\">\n",
       "  <thead>\n",
       "    <tr style=\"text-align: right;\">\n",
       "      <th>Motivos de desistência</th>\n",
       "      <th>Assuntos distantes do interesse pessoal</th>\n",
       "      <th>Assuntos distantes do interesse pessoal;</th>\n",
       "      <th>Distância entre academia e indústria</th>\n",
       "      <th>Expectativa frustrada sobre a área no mercado de trabalho</th>\n",
       "      <th>Impossibilidade de trabalhar e estudar</th>\n",
       "      <th>Não Sabe / Não Respondeu</th>\n",
       "      <th>Professores com didática diferente da esperada</th>\n",
       "      <th>Professores com didática diferente da esperada;</th>\n",
       "      <th>impossibilidade de trabalhar e estudar</th>\n",
       "    </tr>\n",
       "    <tr>\n",
       "      <th>expectativas</th>\n",
       "      <th></th>\n",
       "      <th></th>\n",
       "      <th></th>\n",
       "      <th></th>\n",
       "      <th></th>\n",
       "      <th></th>\n",
       "      <th></th>\n",
       "      <th></th>\n",
       "      <th></th>\n",
       "    </tr>\n",
       "  </thead>\n",
       "  <tbody>\n",
       "    <tr>\n",
       "      <th>Adquirir conhecimento e capacitação na área de computação</th>\n",
       "      <td>1</td>\n",
       "      <td>1</td>\n",
       "      <td>0</td>\n",
       "      <td>0</td>\n",
       "      <td>1</td>\n",
       "      <td>1</td>\n",
       "      <td>0</td>\n",
       "      <td>0</td>\n",
       "      <td>2</td>\n",
       "    </tr>\n",
       "    <tr>\n",
       "      <th>Graduar-se em um curso multidisciplinar</th>\n",
       "      <td>0</td>\n",
       "      <td>0</td>\n",
       "      <td>0</td>\n",
       "      <td>1</td>\n",
       "      <td>0</td>\n",
       "      <td>0</td>\n",
       "      <td>1</td>\n",
       "      <td>0</td>\n",
       "      <td>0</td>\n",
       "    </tr>\n",
       "    <tr>\n",
       "      <th>Qualificar-se para o mercado de trabalho</th>\n",
       "      <td>0</td>\n",
       "      <td>0</td>\n",
       "      <td>0</td>\n",
       "      <td>0</td>\n",
       "      <td>0</td>\n",
       "      <td>0</td>\n",
       "      <td>0</td>\n",
       "      <td>1</td>\n",
       "      <td>0</td>\n",
       "    </tr>\n",
       "    <tr>\n",
       "      <th>expectativas positivas</th>\n",
       "      <td>0</td>\n",
       "      <td>0</td>\n",
       "      <td>1</td>\n",
       "      <td>0</td>\n",
       "      <td>0</td>\n",
       "      <td>0</td>\n",
       "      <td>0</td>\n",
       "      <td>0</td>\n",
       "      <td>0</td>\n",
       "    </tr>\n",
       "  </tbody>\n",
       "</table>\n",
       "</div>"
      ],
      "text/plain": [
       "Motivos de desistência                              Assuntos distantes do interesse pessoal  \\\n",
       "expectativas                                                                                  \n",
       "Adquirir conhecimento e capacitação na área de ...                                        1   \n",
       "Graduar-se em um curso multidisciplinar                                                   0   \n",
       "Qualificar-se para o mercado de trabalho                                                  0   \n",
       "expectativas positivas                                                                    0   \n",
       "\n",
       "Motivos de desistência                              Assuntos distantes do interesse pessoal;  \\\n",
       "expectativas                                                                                   \n",
       "Adquirir conhecimento e capacitação na área de ...                                         1   \n",
       "Graduar-se em um curso multidisciplinar                                                    0   \n",
       "Qualificar-se para o mercado de trabalho                                                   0   \n",
       "expectativas positivas                                                                     0   \n",
       "\n",
       "Motivos de desistência                              Distância entre academia e indústria  \\\n",
       "expectativas                                                                               \n",
       "Adquirir conhecimento e capacitação na área de ...                                     0   \n",
       "Graduar-se em um curso multidisciplinar                                                0   \n",
       "Qualificar-se para o mercado de trabalho                                               0   \n",
       "expectativas positivas                                                                 1   \n",
       "\n",
       "Motivos de desistência                              Expectativa frustrada sobre a área no mercado de trabalho  \\\n",
       "expectativas                                                                                                    \n",
       "Adquirir conhecimento e capacitação na área de ...                                                  0           \n",
       "Graduar-se em um curso multidisciplinar                                                             1           \n",
       "Qualificar-se para o mercado de trabalho                                                            0           \n",
       "expectativas positivas                                                                              0           \n",
       "\n",
       "Motivos de desistência                              Impossibilidade de trabalhar e estudar  \\\n",
       "expectativas                                                                                 \n",
       "Adquirir conhecimento e capacitação na área de ...                                       1   \n",
       "Graduar-se em um curso multidisciplinar                                                  0   \n",
       "Qualificar-se para o mercado de trabalho                                                 0   \n",
       "expectativas positivas                                                                   0   \n",
       "\n",
       "Motivos de desistência                              Não Sabe / Não Respondeu  \\\n",
       "expectativas                                                                   \n",
       "Adquirir conhecimento e capacitação na área de ...                         1   \n",
       "Graduar-se em um curso multidisciplinar                                    0   \n",
       "Qualificar-se para o mercado de trabalho                                   0   \n",
       "expectativas positivas                                                     0   \n",
       "\n",
       "Motivos de desistência                              Professores com didática diferente da esperada  \\\n",
       "expectativas                                                                                         \n",
       "Adquirir conhecimento e capacitação na área de ...                                               0   \n",
       "Graduar-se em um curso multidisciplinar                                                          1   \n",
       "Qualificar-se para o mercado de trabalho                                                         0   \n",
       "expectativas positivas                                                                           0   \n",
       "\n",
       "Motivos de desistência                              Professores com didática diferente da esperada;  \\\n",
       "expectativas                                                                                          \n",
       "Adquirir conhecimento e capacitação na área de ...                                                0   \n",
       "Graduar-se em um curso multidisciplinar                                                           0   \n",
       "Qualificar-se para o mercado de trabalho                                                          1   \n",
       "expectativas positivas                                                                            0   \n",
       "\n",
       "Motivos de desistência                              impossibilidade de trabalhar e estudar  \n",
       "expectativas                                                                                \n",
       "Adquirir conhecimento e capacitação na área de ...                                       2  \n",
       "Graduar-se em um curso multidisciplinar                                                  0  \n",
       "Qualificar-se para o mercado de trabalho                                                 0  \n",
       "expectativas positivas                                                                   0  "
      ]
     },
     "execution_count": 175,
     "metadata": {},
     "output_type": "execute_result"
    }
   ],
   "source": [
    "tab_cross_expec_dif_giv = pd.crosstab(exp_sep['expectativas'], motiv_des_sep['Motivos de desistência'])\n",
    "tab_cross_expec_dif_giv"
   ]
  },
  {
   "cell_type": "markdown",
   "metadata": {},
   "source": [
    "----------\n",
    "* ### contagem relativa (%)"
   ]
  },
  {
   "cell_type": "code",
   "execution_count": 176,
   "metadata": {},
   "outputs": [
    {
     "data": {
      "text/html": [
       "<style  type=\"text/css\" >\n",
       "</style><table id=\"T_cdc502fa_413b_11ea_b513_c8f733fd5142\" ><thead>    <tr>        <th class=\"index_name level0\" >Motivos de desistência</th>        <th class=\"col_heading level0 col0\" >Assuntos distantes do interesse pessoal</th>        <th class=\"col_heading level0 col1\" >Assuntos distantes do interesse pessoal;</th>        <th class=\"col_heading level0 col2\" >Distância entre academia e indústria</th>        <th class=\"col_heading level0 col3\" >Expectativa frustrada sobre a área no mercado de trabalho</th>        <th class=\"col_heading level0 col4\" >Impossibilidade de trabalhar e estudar</th>        <th class=\"col_heading level0 col5\" >Não Sabe / Não Respondeu</th>        <th class=\"col_heading level0 col6\" >Professores com didática diferente da esperada</th>        <th class=\"col_heading level0 col7\" >Professores com didática diferente da esperada;</th>        <th class=\"col_heading level0 col8\" >impossibilidade de trabalhar e estudar</th>    </tr>    <tr>        <th class=\"index_name level0\" >expectativas</th>        <th class=\"blank\" ></th>        <th class=\"blank\" ></th>        <th class=\"blank\" ></th>        <th class=\"blank\" ></th>        <th class=\"blank\" ></th>        <th class=\"blank\" ></th>        <th class=\"blank\" ></th>        <th class=\"blank\" ></th>        <th class=\"blank\" ></th>    </tr></thead><tbody>\n",
       "                <tr>\n",
       "                        <th id=\"T_cdc502fa_413b_11ea_b513_c8f733fd5142level0_row0\" class=\"row_heading level0 row0\" >Adquirir conhecimento e capacitação na área de computação</th>\n",
       "                        <td id=\"T_cdc502fa_413b_11ea_b513_c8f733fd5142row0_col0\" class=\"data row0 col0\" >16.67%</td>\n",
       "                        <td id=\"T_cdc502fa_413b_11ea_b513_c8f733fd5142row0_col1\" class=\"data row0 col1\" >16.67%</td>\n",
       "                        <td id=\"T_cdc502fa_413b_11ea_b513_c8f733fd5142row0_col2\" class=\"data row0 col2\" >0.00%</td>\n",
       "                        <td id=\"T_cdc502fa_413b_11ea_b513_c8f733fd5142row0_col3\" class=\"data row0 col3\" >0.00%</td>\n",
       "                        <td id=\"T_cdc502fa_413b_11ea_b513_c8f733fd5142row0_col4\" class=\"data row0 col4\" >16.67%</td>\n",
       "                        <td id=\"T_cdc502fa_413b_11ea_b513_c8f733fd5142row0_col5\" class=\"data row0 col5\" >16.67%</td>\n",
       "                        <td id=\"T_cdc502fa_413b_11ea_b513_c8f733fd5142row0_col6\" class=\"data row0 col6\" >0.00%</td>\n",
       "                        <td id=\"T_cdc502fa_413b_11ea_b513_c8f733fd5142row0_col7\" class=\"data row0 col7\" >0.00%</td>\n",
       "                        <td id=\"T_cdc502fa_413b_11ea_b513_c8f733fd5142row0_col8\" class=\"data row0 col8\" >33.33%</td>\n",
       "            </tr>\n",
       "            <tr>\n",
       "                        <th id=\"T_cdc502fa_413b_11ea_b513_c8f733fd5142level0_row1\" class=\"row_heading level0 row1\" >Graduar-se em um curso multidisciplinar</th>\n",
       "                        <td id=\"T_cdc502fa_413b_11ea_b513_c8f733fd5142row1_col0\" class=\"data row1 col0\" >0.00%</td>\n",
       "                        <td id=\"T_cdc502fa_413b_11ea_b513_c8f733fd5142row1_col1\" class=\"data row1 col1\" >0.00%</td>\n",
       "                        <td id=\"T_cdc502fa_413b_11ea_b513_c8f733fd5142row1_col2\" class=\"data row1 col2\" >0.00%</td>\n",
       "                        <td id=\"T_cdc502fa_413b_11ea_b513_c8f733fd5142row1_col3\" class=\"data row1 col3\" >50.00%</td>\n",
       "                        <td id=\"T_cdc502fa_413b_11ea_b513_c8f733fd5142row1_col4\" class=\"data row1 col4\" >0.00%</td>\n",
       "                        <td id=\"T_cdc502fa_413b_11ea_b513_c8f733fd5142row1_col5\" class=\"data row1 col5\" >0.00%</td>\n",
       "                        <td id=\"T_cdc502fa_413b_11ea_b513_c8f733fd5142row1_col6\" class=\"data row1 col6\" >50.00%</td>\n",
       "                        <td id=\"T_cdc502fa_413b_11ea_b513_c8f733fd5142row1_col7\" class=\"data row1 col7\" >0.00%</td>\n",
       "                        <td id=\"T_cdc502fa_413b_11ea_b513_c8f733fd5142row1_col8\" class=\"data row1 col8\" >0.00%</td>\n",
       "            </tr>\n",
       "            <tr>\n",
       "                        <th id=\"T_cdc502fa_413b_11ea_b513_c8f733fd5142level0_row2\" class=\"row_heading level0 row2\" >Qualificar-se para o mercado de trabalho</th>\n",
       "                        <td id=\"T_cdc502fa_413b_11ea_b513_c8f733fd5142row2_col0\" class=\"data row2 col0\" >0.00%</td>\n",
       "                        <td id=\"T_cdc502fa_413b_11ea_b513_c8f733fd5142row2_col1\" class=\"data row2 col1\" >0.00%</td>\n",
       "                        <td id=\"T_cdc502fa_413b_11ea_b513_c8f733fd5142row2_col2\" class=\"data row2 col2\" >0.00%</td>\n",
       "                        <td id=\"T_cdc502fa_413b_11ea_b513_c8f733fd5142row2_col3\" class=\"data row2 col3\" >0.00%</td>\n",
       "                        <td id=\"T_cdc502fa_413b_11ea_b513_c8f733fd5142row2_col4\" class=\"data row2 col4\" >0.00%</td>\n",
       "                        <td id=\"T_cdc502fa_413b_11ea_b513_c8f733fd5142row2_col5\" class=\"data row2 col5\" >0.00%</td>\n",
       "                        <td id=\"T_cdc502fa_413b_11ea_b513_c8f733fd5142row2_col6\" class=\"data row2 col6\" >0.00%</td>\n",
       "                        <td id=\"T_cdc502fa_413b_11ea_b513_c8f733fd5142row2_col7\" class=\"data row2 col7\" >100.00%</td>\n",
       "                        <td id=\"T_cdc502fa_413b_11ea_b513_c8f733fd5142row2_col8\" class=\"data row2 col8\" >0.00%</td>\n",
       "            </tr>\n",
       "            <tr>\n",
       "                        <th id=\"T_cdc502fa_413b_11ea_b513_c8f733fd5142level0_row3\" class=\"row_heading level0 row3\" >expectativas positivas</th>\n",
       "                        <td id=\"T_cdc502fa_413b_11ea_b513_c8f733fd5142row3_col0\" class=\"data row3 col0\" >0.00%</td>\n",
       "                        <td id=\"T_cdc502fa_413b_11ea_b513_c8f733fd5142row3_col1\" class=\"data row3 col1\" >0.00%</td>\n",
       "                        <td id=\"T_cdc502fa_413b_11ea_b513_c8f733fd5142row3_col2\" class=\"data row3 col2\" >100.00%</td>\n",
       "                        <td id=\"T_cdc502fa_413b_11ea_b513_c8f733fd5142row3_col3\" class=\"data row3 col3\" >0.00%</td>\n",
       "                        <td id=\"T_cdc502fa_413b_11ea_b513_c8f733fd5142row3_col4\" class=\"data row3 col4\" >0.00%</td>\n",
       "                        <td id=\"T_cdc502fa_413b_11ea_b513_c8f733fd5142row3_col5\" class=\"data row3 col5\" >0.00%</td>\n",
       "                        <td id=\"T_cdc502fa_413b_11ea_b513_c8f733fd5142row3_col6\" class=\"data row3 col6\" >0.00%</td>\n",
       "                        <td id=\"T_cdc502fa_413b_11ea_b513_c8f733fd5142row3_col7\" class=\"data row3 col7\" >0.00%</td>\n",
       "                        <td id=\"T_cdc502fa_413b_11ea_b513_c8f733fd5142row3_col8\" class=\"data row3 col8\" >0.00%</td>\n",
       "            </tr>\n",
       "    </tbody></table>"
      ],
      "text/plain": [
       "<pandas.io.formats.style.Styler at 0xb296f88>"
      ]
     },
     "execution_count": 176,
     "metadata": {},
     "output_type": "execute_result"
    }
   ],
   "source": [
    "tab_cross_expec_dif_giv.apply(lambda r: r/r.sum(), axis=1).style.format(\"{:.2%}\")"
   ]
  },
  {
   "cell_type": "markdown",
   "metadata": {},
   "source": [
    "---------------\n",
    "## Expectativas x Em quanto jogos evitariam a desistência?"
   ]
  },
  {
   "cell_type": "markdown",
   "metadata": {},
   "source": [
    "----------\n",
    "* ### contagem absoluta"
   ]
  },
  {
   "cell_type": "code",
   "execution_count": 179,
   "metadata": {},
   "outputs": [
    {
     "data": {
      "text/html": [
       "<div>\n",
       "<style scoped>\n",
       "    .dataframe tbody tr th:only-of-type {\n",
       "        vertical-align: middle;\n",
       "    }\n",
       "\n",
       "    .dataframe tbody tr th {\n",
       "        vertical-align: top;\n",
       "    }\n",
       "\n",
       "    .dataframe thead th {\n",
       "        text-align: right;\n",
       "    }\n",
       "</style>\n",
       "<table border=\"1\" class=\"dataframe\">\n",
       "  <thead>\n",
       "    <tr style=\"text-align: right;\">\n",
       "      <th>expectativas</th>\n",
       "      <th>Adquirir conhecimento e capacitação na área de computação</th>\n",
       "      <th>Graduar-se em um curso multidisciplinar</th>\n",
       "      <th>Qualificar-se para o mercado de trabalho</th>\n",
       "      <th>expectativas positivas</th>\n",
       "    </tr>\n",
       "    <tr>\n",
       "      <th>Em quanto jogos evitariam a desistência?</th>\n",
       "      <th></th>\n",
       "      <th></th>\n",
       "      <th></th>\n",
       "      <th></th>\n",
       "    </tr>\n",
       "  </thead>\n",
       "  <tbody>\n",
       "    <tr>\n",
       "      <th>1</th>\n",
       "      <td>2</td>\n",
       "      <td>0</td>\n",
       "      <td>0</td>\n",
       "      <td>0</td>\n",
       "    </tr>\n",
       "    <tr>\n",
       "      <th>3</th>\n",
       "      <td>2</td>\n",
       "      <td>0</td>\n",
       "      <td>1</td>\n",
       "      <td>0</td>\n",
       "    </tr>\n",
       "    <tr>\n",
       "      <th>4</th>\n",
       "      <td>1</td>\n",
       "      <td>1</td>\n",
       "      <td>0</td>\n",
       "      <td>1</td>\n",
       "    </tr>\n",
       "    <tr>\n",
       "      <th>5</th>\n",
       "      <td>1</td>\n",
       "      <td>1</td>\n",
       "      <td>0</td>\n",
       "      <td>0</td>\n",
       "    </tr>\n",
       "  </tbody>\n",
       "</table>\n",
       "</div>"
      ],
      "text/plain": [
       "expectativas                              Adquirir conhecimento e capacitação na área de computação  \\\n",
       "Em quanto jogos evitariam a desistência?                                                              \n",
       "1                                                                                         2           \n",
       "3                                                                                         2           \n",
       "4                                                                                         1           \n",
       "5                                                                                         1           \n",
       "\n",
       "expectativas                              Graduar-se em um curso multidisciplinar  \\\n",
       "Em quanto jogos evitariam a desistência?                                            \n",
       "1                                                                               0   \n",
       "3                                                                               0   \n",
       "4                                                                               1   \n",
       "5                                                                               1   \n",
       "\n",
       "expectativas                              Qualificar-se para o mercado de trabalho  \\\n",
       "Em quanto jogos evitariam a desistência?                                             \n",
       "1                                                                                0   \n",
       "3                                                                                1   \n",
       "4                                                                                0   \n",
       "5                                                                                0   \n",
       "\n",
       "expectativas                              expectativas positivas  \n",
       "Em quanto jogos evitariam a desistência?                          \n",
       "1                                                              0  \n",
       "3                                                              0  \n",
       "4                                                              1  \n",
       "5                                                              0  "
      ]
     },
     "execution_count": 179,
     "metadata": {},
     "output_type": "execute_result"
    }
   ],
   "source": [
    "tab_cross_expec_dif_giv_quais = pd.crosstab(exp_sep['Em quanto jogos evitariam a desistência?'], exp_sep['expectativas'])\n",
    "tab_cross_expec_dif_giv_quais"
   ]
  },
  {
   "cell_type": "markdown",
   "metadata": {},
   "source": [
    "----------\n",
    "* ### contagem relativa (%)"
   ]
  },
  {
   "cell_type": "code",
   "execution_count": 180,
   "metadata": {
    "scrolled": true
   },
   "outputs": [
    {
     "data": {
      "text/html": [
       "<style  type=\"text/css\" >\n",
       "</style><table id=\"T_19f301d2_413c_11ea_9b60_c8f733fd5142\" ><thead>    <tr>        <th class=\"index_name level0\" >expectativas</th>        <th class=\"col_heading level0 col0\" >Adquirir conhecimento e capacitação na área de computação</th>        <th class=\"col_heading level0 col1\" >Graduar-se em um curso multidisciplinar</th>        <th class=\"col_heading level0 col2\" >Qualificar-se para o mercado de trabalho</th>        <th class=\"col_heading level0 col3\" >expectativas positivas</th>    </tr>    <tr>        <th class=\"index_name level0\" >Em quanto jogos evitariam a desistência?</th>        <th class=\"blank\" ></th>        <th class=\"blank\" ></th>        <th class=\"blank\" ></th>        <th class=\"blank\" ></th>    </tr></thead><tbody>\n",
       "                <tr>\n",
       "                        <th id=\"T_19f301d2_413c_11ea_9b60_c8f733fd5142level0_row0\" class=\"row_heading level0 row0\" >1</th>\n",
       "                        <td id=\"T_19f301d2_413c_11ea_9b60_c8f733fd5142row0_col0\" class=\"data row0 col0\" >100.00%</td>\n",
       "                        <td id=\"T_19f301d2_413c_11ea_9b60_c8f733fd5142row0_col1\" class=\"data row0 col1\" >0.00%</td>\n",
       "                        <td id=\"T_19f301d2_413c_11ea_9b60_c8f733fd5142row0_col2\" class=\"data row0 col2\" >0.00%</td>\n",
       "                        <td id=\"T_19f301d2_413c_11ea_9b60_c8f733fd5142row0_col3\" class=\"data row0 col3\" >0.00%</td>\n",
       "            </tr>\n",
       "            <tr>\n",
       "                        <th id=\"T_19f301d2_413c_11ea_9b60_c8f733fd5142level0_row1\" class=\"row_heading level0 row1\" >3</th>\n",
       "                        <td id=\"T_19f301d2_413c_11ea_9b60_c8f733fd5142row1_col0\" class=\"data row1 col0\" >66.67%</td>\n",
       "                        <td id=\"T_19f301d2_413c_11ea_9b60_c8f733fd5142row1_col1\" class=\"data row1 col1\" >0.00%</td>\n",
       "                        <td id=\"T_19f301d2_413c_11ea_9b60_c8f733fd5142row1_col2\" class=\"data row1 col2\" >33.33%</td>\n",
       "                        <td id=\"T_19f301d2_413c_11ea_9b60_c8f733fd5142row1_col3\" class=\"data row1 col3\" >0.00%</td>\n",
       "            </tr>\n",
       "            <tr>\n",
       "                        <th id=\"T_19f301d2_413c_11ea_9b60_c8f733fd5142level0_row2\" class=\"row_heading level0 row2\" >4</th>\n",
       "                        <td id=\"T_19f301d2_413c_11ea_9b60_c8f733fd5142row2_col0\" class=\"data row2 col0\" >33.33%</td>\n",
       "                        <td id=\"T_19f301d2_413c_11ea_9b60_c8f733fd5142row2_col1\" class=\"data row2 col1\" >33.33%</td>\n",
       "                        <td id=\"T_19f301d2_413c_11ea_9b60_c8f733fd5142row2_col2\" class=\"data row2 col2\" >0.00%</td>\n",
       "                        <td id=\"T_19f301d2_413c_11ea_9b60_c8f733fd5142row2_col3\" class=\"data row2 col3\" >33.33%</td>\n",
       "            </tr>\n",
       "            <tr>\n",
       "                        <th id=\"T_19f301d2_413c_11ea_9b60_c8f733fd5142level0_row3\" class=\"row_heading level0 row3\" >5</th>\n",
       "                        <td id=\"T_19f301d2_413c_11ea_9b60_c8f733fd5142row3_col0\" class=\"data row3 col0\" >50.00%</td>\n",
       "                        <td id=\"T_19f301d2_413c_11ea_9b60_c8f733fd5142row3_col1\" class=\"data row3 col1\" >50.00%</td>\n",
       "                        <td id=\"T_19f301d2_413c_11ea_9b60_c8f733fd5142row3_col2\" class=\"data row3 col2\" >0.00%</td>\n",
       "                        <td id=\"T_19f301d2_413c_11ea_9b60_c8f733fd5142row3_col3\" class=\"data row3 col3\" >0.00%</td>\n",
       "            </tr>\n",
       "    </tbody></table>"
      ],
      "text/plain": [
       "<pandas.io.formats.style.Styler at 0xb1fdfc8>"
      ]
     },
     "execution_count": 180,
     "metadata": {},
     "output_type": "execute_result"
    }
   ],
   "source": [
    "tab_cross_expec_dif_giv_quais.apply(lambda r: r/r.sum(), axis=1).style.format(\"{:.2%}\")"
   ]
  },
  {
   "cell_type": "markdown",
   "metadata": {},
   "source": [
    "---------------\n",
    "## Expectativas x uso de jogos impacta na visão sobre o curso?"
   ]
  },
  {
   "cell_type": "markdown",
   "metadata": {},
   "source": [
    "----------\n",
    "* ### contagem absoluta"
   ]
  },
  {
   "cell_type": "code",
   "execution_count": 182,
   "metadata": {},
   "outputs": [
    {
     "data": {
      "text/html": [
       "<div>\n",
       "<style scoped>\n",
       "    .dataframe tbody tr th:only-of-type {\n",
       "        vertical-align: middle;\n",
       "    }\n",
       "\n",
       "    .dataframe tbody tr th {\n",
       "        vertical-align: top;\n",
       "    }\n",
       "\n",
       "    .dataframe thead th {\n",
       "        text-align: right;\n",
       "    }\n",
       "</style>\n",
       "<table border=\"1\" class=\"dataframe\">\n",
       "  <thead>\n",
       "    <tr style=\"text-align: right;\">\n",
       "      <th>expectativas</th>\n",
       "      <th>Adquirir conhecimento e capacitação na área de computação</th>\n",
       "      <th>Graduar-se em um curso multidisciplinar</th>\n",
       "      <th>Qualificar-se para o mercado de trabalho</th>\n",
       "      <th>expectativas positivas</th>\n",
       "    </tr>\n",
       "    <tr>\n",
       "      <th>uso de jogos impactaria na visão sobre o curso?</th>\n",
       "      <th></th>\n",
       "      <th></th>\n",
       "      <th></th>\n",
       "      <th></th>\n",
       "    </tr>\n",
       "  </thead>\n",
       "  <tbody>\n",
       "    <tr>\n",
       "      <th>3</th>\n",
       "      <td>2</td>\n",
       "      <td>1</td>\n",
       "      <td>0</td>\n",
       "      <td>0</td>\n",
       "    </tr>\n",
       "    <tr>\n",
       "      <th>4</th>\n",
       "      <td>2</td>\n",
       "      <td>1</td>\n",
       "      <td>0</td>\n",
       "      <td>0</td>\n",
       "    </tr>\n",
       "    <tr>\n",
       "      <th>5</th>\n",
       "      <td>2</td>\n",
       "      <td>0</td>\n",
       "      <td>1</td>\n",
       "      <td>1</td>\n",
       "    </tr>\n",
       "  </tbody>\n",
       "</table>\n",
       "</div>"
      ],
      "text/plain": [
       "expectativas                                     Adquirir conhecimento e capacitação na área de computação  \\\n",
       "uso de jogos impactaria na visão sobre o curso?                                                              \n",
       "3                                                                                                2           \n",
       "4                                                                                                2           \n",
       "5                                                                                                2           \n",
       "\n",
       "expectativas                                     Graduar-se em um curso multidisciplinar  \\\n",
       "uso de jogos impactaria na visão sobre o curso?                                            \n",
       "3                                                                                      1   \n",
       "4                                                                                      1   \n",
       "5                                                                                      0   \n",
       "\n",
       "expectativas                                     Qualificar-se para o mercado de trabalho  \\\n",
       "uso de jogos impactaria na visão sobre o curso?                                             \n",
       "3                                                                                       0   \n",
       "4                                                                                       0   \n",
       "5                                                                                       1   \n",
       "\n",
       "expectativas                                     expectativas positivas  \n",
       "uso de jogos impactaria na visão sobre o curso?                          \n",
       "3                                                                     0  \n",
       "4                                                                     0  \n",
       "5                                                                     1  "
      ]
     },
     "execution_count": 182,
     "metadata": {},
     "output_type": "execute_result"
    }
   ],
   "source": [
    "tab_cross_expec_jogos = pd.crosstab(exp_sep['uso de jogos impactaria na visão sobre o curso?'], exp_sep['expectativas'])\n",
    "tab_cross_expec_jogos"
   ]
  },
  {
   "cell_type": "markdown",
   "metadata": {},
   "source": [
    "----------\n",
    "* ### contagem relativa (%)"
   ]
  },
  {
   "cell_type": "code",
   "execution_count": 70,
   "metadata": {
    "scrolled": true
   },
   "outputs": [
    {
     "data": {
      "text/html": [
       "<style  type=\"text/css\" >\n",
       "</style><table id=\"T_a953f1f8_3d53_11ea_8458_c8f733fd5142\" ><thead>    <tr>        <th class=\"index_name level0\" >uso de jogos impacta na visão sobre o curso?</th>        <th class=\"col_heading level0 col0\" >1</th>        <th class=\"col_heading level0 col1\" >2</th>        <th class=\"col_heading level0 col2\" >3</th>        <th class=\"col_heading level0 col3\" >4</th>        <th class=\"col_heading level0 col4\" >5</th>    </tr>    <tr>        <th class=\"index_name level0\" >expectativas</th>        <th class=\"blank\" ></th>        <th class=\"blank\" ></th>        <th class=\"blank\" ></th>        <th class=\"blank\" ></th>        <th class=\"blank\" ></th>    </tr></thead><tbody>\n",
       "                <tr>\n",
       "                        <th id=\"T_a953f1f8_3d53_11ea_8458_c8f733fd5142level0_row0\" class=\"row_heading level0 row0\" >Atividades extracurriculares</th>\n",
       "                        <td id=\"T_a953f1f8_3d53_11ea_8458_c8f733fd5142row0_col0\" class=\"data row0 col0\" >0.00%</td>\n",
       "                        <td id=\"T_a953f1f8_3d53_11ea_8458_c8f733fd5142row0_col1\" class=\"data row0 col1\" >0.00%</td>\n",
       "                        <td id=\"T_a953f1f8_3d53_11ea_8458_c8f733fd5142row0_col2\" class=\"data row0 col2\" >0.00%</td>\n",
       "                        <td id=\"T_a953f1f8_3d53_11ea_8458_c8f733fd5142row0_col3\" class=\"data row0 col3\" >100.00%</td>\n",
       "                        <td id=\"T_a953f1f8_3d53_11ea_8458_c8f733fd5142row0_col4\" class=\"data row0 col4\" >0.00%</td>\n",
       "            </tr>\n",
       "            <tr>\n",
       "                        <th id=\"T_a953f1f8_3d53_11ea_8458_c8f733fd5142level0_row1\" class=\"row_heading level0 row1\" >Bom networking</th>\n",
       "                        <td id=\"T_a953f1f8_3d53_11ea_8458_c8f733fd5142row1_col0\" class=\"data row1 col0\" >0.00%</td>\n",
       "                        <td id=\"T_a953f1f8_3d53_11ea_8458_c8f733fd5142row1_col1\" class=\"data row1 col1\" >0.00%</td>\n",
       "                        <td id=\"T_a953f1f8_3d53_11ea_8458_c8f733fd5142row1_col2\" class=\"data row1 col2\" >0.00%</td>\n",
       "                        <td id=\"T_a953f1f8_3d53_11ea_8458_c8f733fd5142row1_col3\" class=\"data row1 col3\" >0.00%</td>\n",
       "                        <td id=\"T_a953f1f8_3d53_11ea_8458_c8f733fd5142row1_col4\" class=\"data row1 col4\" >100.00%</td>\n",
       "            </tr>\n",
       "            <tr>\n",
       "                        <th id=\"T_a953f1f8_3d53_11ea_8458_c8f733fd5142level0_row2\" class=\"row_heading level0 row2\" >Capacitação e aprendizado</th>\n",
       "                        <td id=\"T_a953f1f8_3d53_11ea_8458_c8f733fd5142row2_col0\" class=\"data row2 col0\" >20.00%</td>\n",
       "                        <td id=\"T_a953f1f8_3d53_11ea_8458_c8f733fd5142row2_col1\" class=\"data row2 col1\" >16.67%</td>\n",
       "                        <td id=\"T_a953f1f8_3d53_11ea_8458_c8f733fd5142row2_col2\" class=\"data row2 col2\" >26.67%</td>\n",
       "                        <td id=\"T_a953f1f8_3d53_11ea_8458_c8f733fd5142row2_col3\" class=\"data row2 col3\" >23.33%</td>\n",
       "                        <td id=\"T_a953f1f8_3d53_11ea_8458_c8f733fd5142row2_col4\" class=\"data row2 col4\" >13.33%</td>\n",
       "            </tr>\n",
       "            <tr>\n",
       "                        <th id=\"T_a953f1f8_3d53_11ea_8458_c8f733fd5142level0_row3\" class=\"row_heading level0 row3\" >Curso com caráter acadêmico</th>\n",
       "                        <td id=\"T_a953f1f8_3d53_11ea_8458_c8f733fd5142row3_col0\" class=\"data row3 col0\" >0.00%</td>\n",
       "                        <td id=\"T_a953f1f8_3d53_11ea_8458_c8f733fd5142row3_col1\" class=\"data row3 col1\" >0.00%</td>\n",
       "                        <td id=\"T_a953f1f8_3d53_11ea_8458_c8f733fd5142row3_col2\" class=\"data row3 col2\" >0.00%</td>\n",
       "                        <td id=\"T_a953f1f8_3d53_11ea_8458_c8f733fd5142row3_col3\" class=\"data row3 col3\" >0.00%</td>\n",
       "                        <td id=\"T_a953f1f8_3d53_11ea_8458_c8f733fd5142row3_col4\" class=\"data row3 col4\" >100.00%</td>\n",
       "            </tr>\n",
       "            <tr>\n",
       "                        <th id=\"T_a953f1f8_3d53_11ea_8458_c8f733fd5142level0_row4\" class=\"row_heading level0 row4\" >Curso com caráter difícil</th>\n",
       "                        <td id=\"T_a953f1f8_3d53_11ea_8458_c8f733fd5142row4_col0\" class=\"data row4 col0\" >0.00%</td>\n",
       "                        <td id=\"T_a953f1f8_3d53_11ea_8458_c8f733fd5142row4_col1\" class=\"data row4 col1\" >33.33%</td>\n",
       "                        <td id=\"T_a953f1f8_3d53_11ea_8458_c8f733fd5142row4_col2\" class=\"data row4 col2\" >0.00%</td>\n",
       "                        <td id=\"T_a953f1f8_3d53_11ea_8458_c8f733fd5142row4_col3\" class=\"data row4 col3\" >0.00%</td>\n",
       "                        <td id=\"T_a953f1f8_3d53_11ea_8458_c8f733fd5142row4_col4\" class=\"data row4 col4\" >66.67%</td>\n",
       "            </tr>\n",
       "            <tr>\n",
       "                        <th id=\"T_a953f1f8_3d53_11ea_8458_c8f733fd5142level0_row5\" class=\"row_heading level0 row5\" >Curso com caráter matemático</th>\n",
       "                        <td id=\"T_a953f1f8_3d53_11ea_8458_c8f733fd5142row5_col0\" class=\"data row5 col0\" >0.00%</td>\n",
       "                        <td id=\"T_a953f1f8_3d53_11ea_8458_c8f733fd5142row5_col1\" class=\"data row5 col1\" >0.00%</td>\n",
       "                        <td id=\"T_a953f1f8_3d53_11ea_8458_c8f733fd5142row5_col2\" class=\"data row5 col2\" >0.00%</td>\n",
       "                        <td id=\"T_a953f1f8_3d53_11ea_8458_c8f733fd5142row5_col3\" class=\"data row5 col3\" >100.00%</td>\n",
       "                        <td id=\"T_a953f1f8_3d53_11ea_8458_c8f733fd5142row5_col4\" class=\"data row5 col4\" >0.00%</td>\n",
       "            </tr>\n",
       "            <tr>\n",
       "                        <th id=\"T_a953f1f8_3d53_11ea_8458_c8f733fd5142level0_row6\" class=\"row_heading level0 row6\" >Curso com caráter menos matemático</th>\n",
       "                        <td id=\"T_a953f1f8_3d53_11ea_8458_c8f733fd5142row6_col0\" class=\"data row6 col0\" >0.00%</td>\n",
       "                        <td id=\"T_a953f1f8_3d53_11ea_8458_c8f733fd5142row6_col1\" class=\"data row6 col1\" >0.00%</td>\n",
       "                        <td id=\"T_a953f1f8_3d53_11ea_8458_c8f733fd5142row6_col2\" class=\"data row6 col2\" >100.00%</td>\n",
       "                        <td id=\"T_a953f1f8_3d53_11ea_8458_c8f733fd5142row6_col3\" class=\"data row6 col3\" >0.00%</td>\n",
       "                        <td id=\"T_a953f1f8_3d53_11ea_8458_c8f733fd5142row6_col4\" class=\"data row6 col4\" >0.00%</td>\n",
       "            </tr>\n",
       "            <tr>\n",
       "                        <th id=\"T_a953f1f8_3d53_11ea_8458_c8f733fd5142level0_row7\" class=\"row_heading level0 row7\" >Curso com caráter mercadológico</th>\n",
       "                        <td id=\"T_a953f1f8_3d53_11ea_8458_c8f733fd5142row7_col0\" class=\"data row7 col0\" >0.00%</td>\n",
       "                        <td id=\"T_a953f1f8_3d53_11ea_8458_c8f733fd5142row7_col1\" class=\"data row7 col1\" >0.00%</td>\n",
       "                        <td id=\"T_a953f1f8_3d53_11ea_8458_c8f733fd5142row7_col2\" class=\"data row7 col2\" >100.00%</td>\n",
       "                        <td id=\"T_a953f1f8_3d53_11ea_8458_c8f733fd5142row7_col3\" class=\"data row7 col3\" >0.00%</td>\n",
       "                        <td id=\"T_a953f1f8_3d53_11ea_8458_c8f733fd5142row7_col4\" class=\"data row7 col4\" >0.00%</td>\n",
       "            </tr>\n",
       "            <tr>\n",
       "                        <th id=\"T_a953f1f8_3d53_11ea_8458_c8f733fd5142level0_row8\" class=\"row_heading level0 row8\" >Curso com caráter prático</th>\n",
       "                        <td id=\"T_a953f1f8_3d53_11ea_8458_c8f733fd5142row8_col0\" class=\"data row8 col0\" >0.00%</td>\n",
       "                        <td id=\"T_a953f1f8_3d53_11ea_8458_c8f733fd5142row8_col1\" class=\"data row8 col1\" >0.00%</td>\n",
       "                        <td id=\"T_a953f1f8_3d53_11ea_8458_c8f733fd5142row8_col2\" class=\"data row8 col2\" >0.00%</td>\n",
       "                        <td id=\"T_a953f1f8_3d53_11ea_8458_c8f733fd5142row8_col3\" class=\"data row8 col3\" >0.00%</td>\n",
       "                        <td id=\"T_a953f1f8_3d53_11ea_8458_c8f733fd5142row8_col4\" class=\"data row8 col4\" >100.00%</td>\n",
       "            </tr>\n",
       "            <tr>\n",
       "                        <th id=\"T_a953f1f8_3d53_11ea_8458_c8f733fd5142level0_row9\" class=\"row_heading level0 row9\" >Curso com caráter voltador para programação</th>\n",
       "                        <td id=\"T_a953f1f8_3d53_11ea_8458_c8f733fd5142row9_col0\" class=\"data row9 col0\" >0.00%</td>\n",
       "                        <td id=\"T_a953f1f8_3d53_11ea_8458_c8f733fd5142row9_col1\" class=\"data row9 col1\" >0.00%</td>\n",
       "                        <td id=\"T_a953f1f8_3d53_11ea_8458_c8f733fd5142row9_col2\" class=\"data row9 col2\" >0.00%</td>\n",
       "                        <td id=\"T_a953f1f8_3d53_11ea_8458_c8f733fd5142row9_col3\" class=\"data row9 col3\" >100.00%</td>\n",
       "                        <td id=\"T_a953f1f8_3d53_11ea_8458_c8f733fd5142row9_col4\" class=\"data row9 col4\" >0.00%</td>\n",
       "            </tr>\n",
       "            <tr>\n",
       "                        <th id=\"T_a953f1f8_3d53_11ea_8458_c8f733fd5142level0_row10\" class=\"row_heading level0 row10\" >Expectativas medianas</th>\n",
       "                        <td id=\"T_a953f1f8_3d53_11ea_8458_c8f733fd5142row10_col0\" class=\"data row10 col0\" >0.00%</td>\n",
       "                        <td id=\"T_a953f1f8_3d53_11ea_8458_c8f733fd5142row10_col1\" class=\"data row10 col1\" >0.00%</td>\n",
       "                        <td id=\"T_a953f1f8_3d53_11ea_8458_c8f733fd5142row10_col2\" class=\"data row10 col2\" >0.00%</td>\n",
       "                        <td id=\"T_a953f1f8_3d53_11ea_8458_c8f733fd5142row10_col3\" class=\"data row10 col3\" >0.00%</td>\n",
       "                        <td id=\"T_a953f1f8_3d53_11ea_8458_c8f733fd5142row10_col4\" class=\"data row10 col4\" >100.00%</td>\n",
       "            </tr>\n",
       "            <tr>\n",
       "                        <th id=\"T_a953f1f8_3d53_11ea_8458_c8f733fd5142level0_row11\" class=\"row_heading level0 row11\" >Expectativas positivas</th>\n",
       "                        <td id=\"T_a953f1f8_3d53_11ea_8458_c8f733fd5142row11_col0\" class=\"data row11 col0\" >0.00%</td>\n",
       "                        <td id=\"T_a953f1f8_3d53_11ea_8458_c8f733fd5142row11_col1\" class=\"data row11 col1\" >0.00%</td>\n",
       "                        <td id=\"T_a953f1f8_3d53_11ea_8458_c8f733fd5142row11_col2\" class=\"data row11 col2\" >60.00%</td>\n",
       "                        <td id=\"T_a953f1f8_3d53_11ea_8458_c8f733fd5142row11_col3\" class=\"data row11 col3\" >40.00%</td>\n",
       "                        <td id=\"T_a953f1f8_3d53_11ea_8458_c8f733fd5142row11_col4\" class=\"data row11 col4\" >0.00%</td>\n",
       "            </tr>\n",
       "            <tr>\n",
       "                        <th id=\"T_a953f1f8_3d53_11ea_8458_c8f733fd5142level0_row12\" class=\"row_heading level0 row12\" >Perfil de alunos entusiasmados</th>\n",
       "                        <td id=\"T_a953f1f8_3d53_11ea_8458_c8f733fd5142row12_col0\" class=\"data row12 col0\" >0.00%</td>\n",
       "                        <td id=\"T_a953f1f8_3d53_11ea_8458_c8f733fd5142row12_col1\" class=\"data row12 col1\" >0.00%</td>\n",
       "                        <td id=\"T_a953f1f8_3d53_11ea_8458_c8f733fd5142row12_col2\" class=\"data row12 col2\" >0.00%</td>\n",
       "                        <td id=\"T_a953f1f8_3d53_11ea_8458_c8f733fd5142row12_col3\" class=\"data row12 col3\" >0.00%</td>\n",
       "                        <td id=\"T_a953f1f8_3d53_11ea_8458_c8f733fd5142row12_col4\" class=\"data row12 col4\" >100.00%</td>\n",
       "            </tr>\n",
       "            <tr>\n",
       "                        <th id=\"T_a953f1f8_3d53_11ea_8458_c8f733fd5142level0_row13\" class=\"row_heading level0 row13\" >Perfil majoritariamente masculino</th>\n",
       "                        <td id=\"T_a953f1f8_3d53_11ea_8458_c8f733fd5142row13_col0\" class=\"data row13 col0\" >0.00%</td>\n",
       "                        <td id=\"T_a953f1f8_3d53_11ea_8458_c8f733fd5142row13_col1\" class=\"data row13 col1\" >0.00%</td>\n",
       "                        <td id=\"T_a953f1f8_3d53_11ea_8458_c8f733fd5142row13_col2\" class=\"data row13 col2\" >0.00%</td>\n",
       "                        <td id=\"T_a953f1f8_3d53_11ea_8458_c8f733fd5142row13_col3\" class=\"data row13 col3\" >100.00%</td>\n",
       "                        <td id=\"T_a953f1f8_3d53_11ea_8458_c8f733fd5142row13_col4\" class=\"data row13 col4\" >0.00%</td>\n",
       "            </tr>\n",
       "            <tr>\n",
       "                        <th id=\"T_a953f1f8_3d53_11ea_8458_c8f733fd5142level0_row14\" class=\"row_heading level0 row14\" >Projetos práticos</th>\n",
       "                        <td id=\"T_a953f1f8_3d53_11ea_8458_c8f733fd5142row14_col0\" class=\"data row14 col0\" >0.00%</td>\n",
       "                        <td id=\"T_a953f1f8_3d53_11ea_8458_c8f733fd5142row14_col1\" class=\"data row14 col1\" >0.00%</td>\n",
       "                        <td id=\"T_a953f1f8_3d53_11ea_8458_c8f733fd5142row14_col2\" class=\"data row14 col2\" >0.00%</td>\n",
       "                        <td id=\"T_a953f1f8_3d53_11ea_8458_c8f733fd5142row14_col3\" class=\"data row14 col3\" >100.00%</td>\n",
       "                        <td id=\"T_a953f1f8_3d53_11ea_8458_c8f733fd5142row14_col4\" class=\"data row14 col4\" >0.00%</td>\n",
       "            </tr>\n",
       "    </tbody></table>"
      ],
      "text/plain": [
       "<pandas.io.formats.style.Styler at 0xb07f9c8>"
      ]
     },
     "execution_count": 70,
     "metadata": {},
     "output_type": "execute_result"
    }
   ],
   "source": [
    "tab_cross_expec_jogos.apply(lambda r: r/r.sum(), axis=1).style.format(\"{:.2%}\")"
   ]
  },
  {
   "cell_type": "markdown",
   "metadata": {},
   "source": [
    "----------\n",
    "## Variáveis auxiliares\n",
    "----------"
   ]
  },
  {
   "cell_type": "code",
   "execution_count": 69,
   "metadata": {},
   "outputs": [],
   "source": [
    "# simplifying the questions\n",
    "\n",
    "# renaming questions to simplified names\n",
    "\n",
    "map_col_nov={'Qual é a sua idade?': 'idade', \\\n",
    "             'Qual é o seu gênero?': 'gênero', \\\n",
    "             'De qual desses cursos você era aluno?': 'curso', \\\n",
    "             'Em que instituição você cursa?': 'instituição', \\\n",
    "             'Em qual ano e semestre você entrou no curso?': 'semestre entrada', \\\n",
    "             'Qual foi a sua motivação ao entrar no curso?': 'motivação para entrar', \\\n",
    "             'Ao ingressar, quais eram as suas expectativas em relação ao curso?': 'expectativas', \\\n",
    "             'Quais eram as suas perspectivas sobre o mercado de trabalho?': 'mercado de trabalho', \\\n",
    "             'O quanto você considera que suas expectativas foram atendidas ou frustradas?':'expectativas atendidas', \\\n",
    "             'Quais foram as principais dificuldades que você encontrou durante o curso?':'dificuldades', \\\n",
    "             'Quais foram os principais motivos da sua desistência do curso?':'Motivos de desistência',\\\n",
    "             'Se sim, quais, por exemplo?':'quais?', \\\n",
    "             \"O quanto você considera que o uso desses tipos de métodos de ensino poderiam ter evitado sua desistência?\": \"Em quanto jogos evitariam a desistência?\",\\\n",
    "             'O quanto você considera que o uso de métodos de ensino mais lúdicos durante as disciplinas do curso (como jogos, por exemplo) teriam impactado sua visão sobre o curso?': 'uso de jogos impactaria na visão sobre o curso?' \\\n",
    "            }\n",
    "\n",
    "\n",
    "# replacing the codes by the categorie names\n",
    "codesByCat = {\n",
    "    \"motivação para entrar\" : {\"IntAC\":\"Interesse por áreas do curso\",\\\n",
    "             \"Emp\": \"Empregabilidade\",\\\n",
    "             \"IntTer\":\"Influência de Terceiros\"\\\n",
    "            },\n",
    "\n",
    "    \"expectativas\" : {\n",
    "        \"CCMat\": \"Curso com caráter matemático\", \\\n",
    "        \"PAMasc\": \"Perfil majoritariamente masculino\", \\\n",
    "        \"CCDif\":\"Curso com caráter difícil\", \\\n",
    "        \"PAEnt\":\"Perfil de alunos entusiasmados\",\\\n",
    "        \"CCPrat\": \"Curso com caráter prático\", \\\n",
    "        \"CapAp\": \"Capacitação e aprendizado\", \\\n",
    "        \"EP\": \"Expectativas positivas\", \\\n",
    "        \"CCProg\": \"Curso com caráter voltador para programação\",\\\n",
    "        \"AtivExtCur\": \"Atividades extracurriculares\",\\\n",
    "        \"AtivEC\": \"Atividades extracurriculares\",\\\n",
    "        \"CCMerc\":\"Curso com caráter mercadológico\",\\\n",
    "        \"CCAcad\": \"Curso com caráter acadêmico\", \\\n",
    "        \"CCMenMat\": \"Curso com caráter menos matemático\",\\\n",
    "        \"Netw\": \"Bom networking\",\\\n",
    "        \"ProjPrat\":\"Projetos práticos\",\\\n",
    "        \"EM\": \"Expectativas medianas\"\\\n",
    "        },\n",
    "\n",
    "    \"mercado de trabalho\" : {\n",
    "        \"BEmp\": \"Boa empregabilidade\", \\\n",
    "        \"TrabAI\": \"Trabalhar na área de interesse\", \\\n",
    "        \"EP\":\"Expectativas positivas\", \\\n",
    "        \"N\":\"Nenhuma\",\\\n",
    "        \"DivOp\": \"Diversidade de oportunidades\", \\\n",
    "        \"EmpRR\": \"Empregabilidade regional ruim\", \\\n",
    "        \"SocRel\": \"Socialmente Relevante\", \\\n",
    "        \"MercC\": \"Mercado concorrido\",\\\n",
    "        \"EN\": \"Expectativas negativas\",\\\n",
    "        \"DiscAM\": \"Discrepância entre academia e mercado\"\\\n",
    "        },\n",
    "\n",
    "    \"dificuldades\" : {\n",
    "        \"DOrgP\": \"Dificuldades de foco e organização pessoal\", \\\n",
    "        \"DidProf\": \"Didática dos professores\", \\\n",
    "        \"ProbInf\":\"Problemas na infraestrutura do campus\", \\\n",
    "        \"EstrCInf\": \"Estrutura do curso inflexível\",\\\n",
    "        \"DifDisc\": \"Dificuldade e exigência das disciplinas\",\\\n",
    "        \"BConR\": \"Base pessoal de conhecimento ruim\",\\\n",
    "        \"ExCHO\": \"Excesso de carga horária obrigatória\",\\\n",
    "        \"DiscAM\": \"Discrepância entre academia e mercado de trabalho\",\\\n",
    "        \"DifFin\": \"Dificuldades financeiras\",\\\n",
    "        \"HorConf\": \"Horários conflitantes\",\\\n",
    "        \"FMotivP\": \"Falta de motivação pessoal\",\\\n",
    "        \"PerfAlu\": \"Perfil de alunos do curso\"\\\n",
    "        },\n",
    "\n",
    "    \"quais?\" : {\n",
    "        \"DidProf\": \"Didática dos professores\", \\\n",
    "        \"EstrCInf\": \"Estrutura do curso inflexível\",\\\n",
    "        \"DifDisc\": \"Dificuldade e exigência das disciplinas\",\\\n",
    "        \"BConR\": \"Base pessoal de conhecimento ruim\",\\\n",
    "        \"DifFin\": \"Dificuldades financeiras\",\\\n",
    "        \"HorConf\": \"Horários conflitantes\",\\\n",
    "        \"N\": \"Não sei\",\\\n",
    "        \"FMotP\": \"Falta de motivação pessoal\",\\\n",
    "        }\n",
    "}"
   ]
  },
  {
   "cell_type": "code",
   "execution_count": null,
   "metadata": {},
   "outputs": [],
   "source": []
  }
 ],
 "metadata": {
  "kernelspec": {
   "display_name": "Python 3",
   "language": "python",
   "name": "python3"
  },
  "language_info": {
   "codemirror_mode": {
    "name": "ipython",
    "version": 3
   },
   "file_extension": ".py",
   "mimetype": "text/x-python",
   "name": "python",
   "nbconvert_exporter": "python",
   "pygments_lexer": "ipython3",
   "version": "3.7.4"
  }
 },
 "nbformat": 4,
 "nbformat_minor": 4
}
