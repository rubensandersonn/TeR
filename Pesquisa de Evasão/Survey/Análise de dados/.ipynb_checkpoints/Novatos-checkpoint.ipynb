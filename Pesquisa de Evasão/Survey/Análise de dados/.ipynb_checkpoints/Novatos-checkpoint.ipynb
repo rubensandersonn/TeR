{
 "cells": [
  {
   "cell_type": "code",
   "execution_count": 2,
   "metadata": {},
   "outputs": [],
   "source": [
    "import numpy as np\n",
    "import pandas as pd"
   ]
  },
  {
   "cell_type": "markdown",
   "metadata": {},
   "source": [
    "------\n",
    "## Simplificando as perguntas\n",
    "--------"
   ]
  },
  {
   "cell_type": "code",
   "execution_count": 33,
   "metadata": {},
   "outputs": [],
   "source": [
    "nov = pd.read_csv('NOVATOS.csv')\\\n",
    "    .dropna(axis=1, how='all')\\\n",
    "    .dropna(axis=0, how='all')\\\n",
    "    .drop('Você é ou já foi aluno do curso de Ciência da Computação ou Engenharia da Computação?', 1)\\\n",
    "    .fillna('')"
   ]
  },
  {
   "cell_type": "code",
   "execution_count": 34,
   "metadata": {},
   "outputs": [],
   "source": [
    "map_col_nov={'Qual é a sua idade?': 'idade', \\\n",
    "             'Qual é o seu gênero?': 'gênero', \\\n",
    "             'De qual curso você é aluno?': 'curso', \\\n",
    "             'Em que instituição você cursa?': 'instituição', \\\n",
    "             'Em qual ano e semestre você entrou no curso?': 'semestre entrada', \\\n",
    "             'Qual foi a sua motivação ao entrar no curso?': 'motivação para entrar', \\\n",
    "             'Quais são as suas expectativas em relação ao curso?': 'expectativas', \\\n",
    "             'Quais são as suas perspectivas em relação ao mercado de trabalho e à atuação profissional?': 'mercado de trabalho', \\\n",
    "             'O quanto você considera que o uso de métodos de ensino mais lúdicos durante as disciplinas do curso (como jogos, por exemplo) pode impactar sua visão sobre o curso?':'Quanto jogos Impactam na sua visão do curso?'\n",
    "            }\n",
    "\n",
    "# renaming questions to simplified names\n",
    "\n",
    "nov = nov.rename(columns=map_col_nov)\n"
   ]
  },
  {
   "cell_type": "markdown",
   "metadata": {},
   "source": [
    "------\n",
    "## Funções Utilizadas\n",
    "--------"
   ]
  },
  {
   "cell_type": "markdown",
   "metadata": {},
   "source": [
    "Neste notebook, foram utilizadas as seguintes funções para a contagem das categorias e suas cross-relações:\n",
    "- cross table\n",
    "- cross table com dados relativos (%)\n",
    "\n",
    "Abaixo estão outras funções auxiliares"
   ]
  },
  {
   "cell_type": "markdown",
   "metadata": {},
   "source": [
    "#### IMPORTANTE: por favor, inicialize as variáveis antes de usar as funções"
   ]
  },
  {
   "cell_type": "code",
   "execution_count": 35,
   "metadata": {},
   "outputs": [],
   "source": [
    "# df.corr(method ='pearson')  # correlação de pearson para variaveis quantitativas\n",
    "# pd.crosstab(df['col1'], df['col2']) # matriz de confusão do python\n",
    "\n",
    "# the same as split\n",
    "def separate(s, sep):\n",
    "    return str(s).split(sep)\n",
    "\n",
    "\n",
    "\n",
    "# stacks two lists in vertical - must have the same columns size\n",
    "def append(list1, list2):\n",
    "    res = list1.copy()\n",
    "    for l in list2:\n",
    "        res.append(l)\n",
    "    return res\n",
    "\n",
    "\n",
    "\n",
    "# stacks two pandas DataFrame in vertical - must have the same columns size. The columns names are passed by argument\n",
    "def appendDataFrames(df1, df2, columns):\n",
    "    l1 = df1.values.tolist()\n",
    "    l2 = df2.values.tolist()\n",
    "    \n",
    "    return pd.DataFrame(append(l1,l2), columns=columns)\n",
    "\n",
    "\n",
    "\n",
    "# splits categories jointed by ''/''\n",
    "def disjoint(df, col):\n",
    "    res = []\n",
    "    indexes = [\"/\" not in i for i in df[col]]\n",
    "    newDF = df.loc[indexes]\n",
    "    \n",
    "    for index, row in df.iterrows():\n",
    "        if(\"/\" in row[col]):\n",
    "            [c1, c2] = row[col].split(\" / \")\n",
    "            \n",
    "            newRow1 = row.copy()\n",
    "            newRow1[col] = c1\n",
    "            \n",
    "            newRow2 = row.copy()\n",
    "            newRow2[col] = c2            \n",
    "            \n",
    "            res.append(newRow1)\n",
    "            res.append(newRow2)\n",
    "            \n",
    "    return appendDataFrames(newDF, pd.DataFrame(res, columns=newDF.columns, index=[len(df.values.tolist()) + i for i in range(0, len(res))]), columns=df.columns)\n",
    "\n",
    "\n",
    "\n",
    "\n",
    "\n",
    "# returns cross table - yet this already exists in python\n",
    "def countCols(table, col1, col2):\n",
    "    # create dictionary\n",
    "    df = pd.DataFrame(table)\n",
    "    \n",
    "    # the counter dictionary\n",
    "    counts = {}\n",
    "    \n",
    "    for index, row in df.iterrows():\n",
    "        # separating, if needed\n",
    "        rowContents1 = separate(row[col1], \" / \")\n",
    "        rowContents2 = separate(row[col2], \" / \")\n",
    "        \n",
    "        for r1 in rowContents1:\n",
    "            for r2 in rowContents2:\n",
    "                # making the key\n",
    "                k = r1 + \"_\" + r2\n",
    "                \n",
    "                # test if the key already exists\n",
    "                if k not in counts:\n",
    "                    counts[k] = 0\n",
    "                counts[k] = int(counts[k] + 1)\n",
    "        \n",
    "    # count #rows and #cols\n",
    "    rows = []\n",
    "    cols = []\n",
    "    for key in counts.keys():\n",
    "        #separating row and col\n",
    "        [rowIndex, colIndex] = separate(key, \"_\")\n",
    "        \n",
    "        # testing if the indexes is not included yet\n",
    "        if(not np.isin([rowIndex], rows)[0]):\n",
    "            rows.append(rowIndex)\n",
    "        if(not np.isin([colIndex], cols)[0]):\n",
    "            cols.append(colIndex)\n",
    "    \n",
    "    # create new table\n",
    "    a = np.zeros(shape=(len(rows), len(cols)), dtype=int)\n",
    "    finalTable = pd.DataFrame(a,columns=cols, index=rows)\n",
    "    \n",
    "    # inserting into the final table\n",
    "    for key in counts.keys():\n",
    "        [rowIndex, colIndex] = separate(key, \"_\")\n",
    "        finalTable[colIndex][rowIndex] = int(counts[rowIndex + \"_\" + colIndex])\n",
    "        \n",
    "    return finalTable\n",
    "\n",
    "\n",
    "# replaces the category codes by their category names \n",
    "def switchBack(df, col):\n",
    "    # using the variable codesByCat defined below\n",
    "    res = []\n",
    "    for index, row in df.iterrows():\n",
    "        newRow1 = row.copy()\n",
    "        \n",
    "        # separating the categories, if so\n",
    "        if (\"/\" in row[col]):\n",
    "            [cat1, cat2] = row[col].split(\" / \")\n",
    "            \n",
    "            # removing possible whitespaces\n",
    "            cat1 = cat1.strip()\n",
    "            cat2 = cat2.strip()\n",
    "            \n",
    "            # testing if this is a valid code\n",
    "            if(cat1 not in codesByCat[col].keys() or cat2 not in codesByCat[col].keys()):\n",
    "                print(\"Removendo outlier:\", index, row[col], \"++++++++\")\n",
    "                continue\n",
    "            newRow1[col] = codesByCat[col][cat1] + \" / \" + codesByCat[col][cat2]\n",
    "        elif(row[col] != \"\"):\n",
    "            # testing if this is a valid code\n",
    "            if(row[col] not in codesByCat[col].keys()):\n",
    "                print(\"Removendo outlier:\", index, row[col], \"++++++++\")\n",
    "                continue\n",
    "\n",
    "            newRow1[col] = codesByCat[col][row[col].strip()]\n",
    "        \n",
    "        # putting the new row on the bottom of matrix\n",
    "        res.append(newRow1)\n",
    "    \n",
    "    return pd.DataFrame(res, columns=df.columns)\n"
   ]
  },
  {
   "cell_type": "markdown",
   "metadata": {},
   "source": [
    "\n",
    "-------\n",
    "## Tabela dos Novatos - Dados Brutos\n",
    "-------"
   ]
  },
  {
   "cell_type": "markdown",
   "metadata": {},
   "source": [
    "Aqui, estão apresentados os dados com as categorias codificadas, tendo como base a análise de conteúdo realizada. "
   ]
  },
  {
   "cell_type": "code",
   "execution_count": 20,
   "metadata": {
    "scrolled": true
   },
   "outputs": [
    {
     "data": {
      "text/html": [
       "<div>\n",
       "<style scoped>\n",
       "    .dataframe tbody tr th:only-of-type {\n",
       "        vertical-align: middle;\n",
       "    }\n",
       "\n",
       "    .dataframe tbody tr th {\n",
       "        vertical-align: top;\n",
       "    }\n",
       "\n",
       "    .dataframe thead th {\n",
       "        text-align: right;\n",
       "    }\n",
       "</style>\n",
       "<table border=\"1\" class=\"dataframe\">\n",
       "  <thead>\n",
       "    <tr style=\"text-align: right;\">\n",
       "      <th></th>\n",
       "      <th>idade</th>\n",
       "      <th>gênero</th>\n",
       "      <th>curso</th>\n",
       "      <th>instituição</th>\n",
       "      <th>semestre entrada</th>\n",
       "      <th>motivação para entrar</th>\n",
       "      <th>expectativas</th>\n",
       "      <th>mercado de trabalho</th>\n",
       "      <th>Quanto jogos Impactam na sua visão do curso?</th>\n",
       "    </tr>\n",
       "  </thead>\n",
       "  <tbody>\n",
       "    <tr>\n",
       "      <th>0</th>\n",
       "      <td>16 a 19</td>\n",
       "      <td>Masculino</td>\n",
       "      <td>Ciência da Computação</td>\n",
       "      <td>UFC</td>\n",
       "      <td>2019.1</td>\n",
       "      <td>IntAC</td>\n",
       "      <td>NS</td>\n",
       "      <td>TrabAI</td>\n",
       "      <td>4</td>\n",
       "    </tr>\n",
       "    <tr>\n",
       "      <th>1</th>\n",
       "      <td>16 a 19</td>\n",
       "      <td>Masculino</td>\n",
       "      <td>Ciência da Computação</td>\n",
       "      <td>UFC</td>\n",
       "      <td>2019.1</td>\n",
       "      <td>IntAC</td>\n",
       "      <td>CapAp</td>\n",
       "      <td>TrabAI</td>\n",
       "      <td>5</td>\n",
       "    </tr>\n",
       "    <tr>\n",
       "      <th>2</th>\n",
       "      <td>16 a 19</td>\n",
       "      <td>Masculino</td>\n",
       "      <td>Engenharia da Computação</td>\n",
       "      <td>UFC</td>\n",
       "      <td>2019.1</td>\n",
       "      <td>IntAC</td>\n",
       "      <td>EP</td>\n",
       "      <td>EP</td>\n",
       "      <td>5</td>\n",
       "    </tr>\n",
       "    <tr>\n",
       "      <th>3</th>\n",
       "      <td>16 a 19</td>\n",
       "      <td>Masculino</td>\n",
       "      <td>Ciência da Computação</td>\n",
       "      <td>UFC</td>\n",
       "      <td>2019.1</td>\n",
       "      <td>IntAC</td>\n",
       "      <td>EP</td>\n",
       "      <td>MercTA</td>\n",
       "      <td>5</td>\n",
       "    </tr>\n",
       "    <tr>\n",
       "      <th>4</th>\n",
       "      <td>16 a 19</td>\n",
       "      <td>Masculino</td>\n",
       "      <td>Engenharia da Computação</td>\n",
       "      <td>UFC</td>\n",
       "      <td>2019.1</td>\n",
       "      <td>IntAC</td>\n",
       "      <td>PartAC</td>\n",
       "      <td></td>\n",
       "      <td>5</td>\n",
       "    </tr>\n",
       "    <tr>\n",
       "      <th>5</th>\n",
       "      <td>16 a 19</td>\n",
       "      <td>Masculino</td>\n",
       "      <td>Ciência da Computação</td>\n",
       "      <td>UFC</td>\n",
       "      <td>2019.1</td>\n",
       "      <td>IntAC</td>\n",
       "      <td>CapAp</td>\n",
       "      <td>TrabAI</td>\n",
       "      <td>5</td>\n",
       "    </tr>\n",
       "    <tr>\n",
       "      <th>6</th>\n",
       "      <td>16 a 19</td>\n",
       "      <td>Masculino</td>\n",
       "      <td>Engenharia da Computação</td>\n",
       "      <td>UFC</td>\n",
       "      <td>2019.1</td>\n",
       "      <td>IntAC</td>\n",
       "      <td>PesqDev</td>\n",
       "      <td>EP</td>\n",
       "      <td>5</td>\n",
       "    </tr>\n",
       "    <tr>\n",
       "      <th>7</th>\n",
       "      <td>16 a 19</td>\n",
       "      <td>Masculino</td>\n",
       "      <td>Engenharia da Computação</td>\n",
       "      <td>UFC</td>\n",
       "      <td>2019.1</td>\n",
       "      <td>IntAC</td>\n",
       "      <td>CapAp</td>\n",
       "      <td>EmpRR</td>\n",
       "      <td>3</td>\n",
       "    </tr>\n",
       "    <tr>\n",
       "      <th>8</th>\n",
       "      <td>16 a 19</td>\n",
       "      <td>Masculino</td>\n",
       "      <td>Engenharia da Computação</td>\n",
       "      <td>UFC</td>\n",
       "      <td>2019.1</td>\n",
       "      <td>IntAC</td>\n",
       "      <td>CapAp</td>\n",
       "      <td>TrabAI</td>\n",
       "      <td>3</td>\n",
       "    </tr>\n",
       "    <tr>\n",
       "      <th>9</th>\n",
       "      <td>20 a 23</td>\n",
       "      <td>Masculino</td>\n",
       "      <td>Ciência da Computação</td>\n",
       "      <td>UECE</td>\n",
       "      <td>2018.2</td>\n",
       "      <td>IntAC</td>\n",
       "      <td>EP</td>\n",
       "      <td>EmpRR</td>\n",
       "      <td>5</td>\n",
       "    </tr>\n",
       "    <tr>\n",
       "      <th>10</th>\n",
       "      <td>16 a 19</td>\n",
       "      <td>Masculino</td>\n",
       "      <td>Ciência da Computação</td>\n",
       "      <td>UFLA</td>\n",
       "      <td>2019.1</td>\n",
       "      <td>IntAC</td>\n",
       "      <td>EP</td>\n",
       "      <td></td>\n",
       "      <td>4</td>\n",
       "    </tr>\n",
       "    <tr>\n",
       "      <th>11</th>\n",
       "      <td>16 a 19</td>\n",
       "      <td>Masculino</td>\n",
       "      <td>Engenharia da Computação</td>\n",
       "      <td>UFC</td>\n",
       "      <td>2019.1</td>\n",
       "      <td>IntAC</td>\n",
       "      <td>PesqDev</td>\n",
       "      <td></td>\n",
       "      <td>4</td>\n",
       "    </tr>\n",
       "  </tbody>\n",
       "</table>\n",
       "</div>"
      ],
      "text/plain": [
       "      idade     gênero                     curso instituição  \\\n",
       "0   16 a 19  Masculino     Ciência da Computação         UFC   \n",
       "1   16 a 19  Masculino     Ciência da Computação         UFC   \n",
       "2   16 a 19  Masculino  Engenharia da Computação         UFC   \n",
       "3   16 a 19  Masculino     Ciência da Computação         UFC   \n",
       "4   16 a 19  Masculino  Engenharia da Computação         UFC   \n",
       "5   16 a 19  Masculino     Ciência da Computação         UFC   \n",
       "6   16 a 19  Masculino  Engenharia da Computação         UFC   \n",
       "7   16 a 19  Masculino  Engenharia da Computação         UFC   \n",
       "8   16 a 19  Masculino  Engenharia da Computação         UFC   \n",
       "9   20 a 23  Masculino     Ciência da Computação        UECE   \n",
       "10  16 a 19  Masculino     Ciência da Computação        UFLA   \n",
       "11  16 a 19  Masculino  Engenharia da Computação         UFC   \n",
       "\n",
       "    semestre entrada motivação para entrar expectativas mercado de trabalho  \\\n",
       "0             2019.1                 IntAC           NS              TrabAI   \n",
       "1             2019.1                 IntAC        CapAp              TrabAI   \n",
       "2             2019.1                 IntAC           EP                  EP   \n",
       "3             2019.1                 IntAC           EP              MercTA   \n",
       "4             2019.1                 IntAC       PartAC                       \n",
       "5             2019.1                 IntAC        CapAp              TrabAI   \n",
       "6             2019.1                 IntAC      PesqDev                  EP   \n",
       "7             2019.1                 IntAC        CapAp               EmpRR   \n",
       "8             2019.1                 IntAC        CapAp              TrabAI   \n",
       "9             2018.2                 IntAC           EP               EmpRR   \n",
       "10            2019.1                 IntAC           EP                       \n",
       "11            2019.1                 IntAC      PesqDev                       \n",
       "\n",
       "    Quanto jogos Impactam na sua visão do curso?  \n",
       "0                                              4  \n",
       "1                                              5  \n",
       "2                                              5  \n",
       "3                                              5  \n",
       "4                                              5  \n",
       "5                                              5  \n",
       "6                                              5  \n",
       "7                                              3  \n",
       "8                                              3  \n",
       "9                                              5  \n",
       "10                                             4  \n",
       "11                                             4  "
      ]
     },
     "execution_count": 20,
     "metadata": {},
     "output_type": "execute_result"
    }
   ],
   "source": [
    "nov"
   ]
  },
  {
   "cell_type": "markdown",
   "metadata": {},
   "source": [
    "---------\n",
    "## Tabela de Veteranos - Categorias por extenso\n",
    "--------"
   ]
  },
  {
   "cell_type": "markdown",
   "metadata": {},
   "source": [
    "Neste trecho, os códigos das categorias são trocadas pelos nomes completos, a fim de melhorar a compreensão das mesmas."
   ]
  },
  {
   "cell_type": "code",
   "execution_count": 22,
   "metadata": {},
   "outputs": [
    {
     "data": {
      "text/html": [
       "<div>\n",
       "<style scoped>\n",
       "    .dataframe tbody tr th:only-of-type {\n",
       "        vertical-align: middle;\n",
       "    }\n",
       "\n",
       "    .dataframe tbody tr th {\n",
       "        vertical-align: top;\n",
       "    }\n",
       "\n",
       "    .dataframe thead th {\n",
       "        text-align: right;\n",
       "    }\n",
       "</style>\n",
       "<table border=\"1\" class=\"dataframe\">\n",
       "  <thead>\n",
       "    <tr style=\"text-align: right;\">\n",
       "      <th></th>\n",
       "      <th>idade</th>\n",
       "      <th>gênero</th>\n",
       "      <th>curso</th>\n",
       "      <th>instituição</th>\n",
       "      <th>semestre entrada</th>\n",
       "      <th>motivação para entrar</th>\n",
       "      <th>expectativas</th>\n",
       "      <th>mercado de trabalho</th>\n",
       "      <th>Quanto jogos Impactam na sua visão do curso?</th>\n",
       "    </tr>\n",
       "  </thead>\n",
       "  <tbody>\n",
       "    <tr>\n",
       "      <th>0</th>\n",
       "      <td>16 a 19</td>\n",
       "      <td>Masculino</td>\n",
       "      <td>Ciência da Computação</td>\n",
       "      <td>UFC</td>\n",
       "      <td>2019.1</td>\n",
       "      <td>Interesse por áreas do curso</td>\n",
       "      <td>Não Sabe</td>\n",
       "      <td>Trabalhar na área de interesse</td>\n",
       "      <td>4</td>\n",
       "    </tr>\n",
       "    <tr>\n",
       "      <th>1</th>\n",
       "      <td>16 a 19</td>\n",
       "      <td>Masculino</td>\n",
       "      <td>Ciência da Computação</td>\n",
       "      <td>UFC</td>\n",
       "      <td>2019.1</td>\n",
       "      <td>Interesse por áreas do curso</td>\n",
       "      <td>Capacitação e aprendizado</td>\n",
       "      <td>Trabalhar na área de interesse</td>\n",
       "      <td>5</td>\n",
       "    </tr>\n",
       "    <tr>\n",
       "      <th>2</th>\n",
       "      <td>16 a 19</td>\n",
       "      <td>Masculino</td>\n",
       "      <td>Engenharia da Computação</td>\n",
       "      <td>UFC</td>\n",
       "      <td>2019.1</td>\n",
       "      <td>Interesse por áreas do curso</td>\n",
       "      <td>Expectativas positivas</td>\n",
       "      <td>Expectativas positivas</td>\n",
       "      <td>5</td>\n",
       "    </tr>\n",
       "    <tr>\n",
       "      <th>3</th>\n",
       "      <td>16 a 19</td>\n",
       "      <td>Masculino</td>\n",
       "      <td>Ciência da Computação</td>\n",
       "      <td>UFC</td>\n",
       "      <td>2019.1</td>\n",
       "      <td>Interesse por áreas do curso</td>\n",
       "      <td>Expectativas positivas</td>\n",
       "      <td>Mercado de trabalho amplo</td>\n",
       "      <td>5</td>\n",
       "    </tr>\n",
       "    <tr>\n",
       "      <th>4</th>\n",
       "      <td>16 a 19</td>\n",
       "      <td>Masculino</td>\n",
       "      <td>Engenharia da Computação</td>\n",
       "      <td>UFC</td>\n",
       "      <td>2019.1</td>\n",
       "      <td>Interesse por áreas do curso</td>\n",
       "      <td>Participação nas atividades do curso</td>\n",
       "      <td>Não Sabe / Não Respondeu</td>\n",
       "      <td>5</td>\n",
       "    </tr>\n",
       "    <tr>\n",
       "      <th>5</th>\n",
       "      <td>16 a 19</td>\n",
       "      <td>Masculino</td>\n",
       "      <td>Ciência da Computação</td>\n",
       "      <td>UFC</td>\n",
       "      <td>2019.1</td>\n",
       "      <td>Interesse por áreas do curso</td>\n",
       "      <td>Capacitação e aprendizado</td>\n",
       "      <td>Trabalhar na área de interesse</td>\n",
       "      <td>5</td>\n",
       "    </tr>\n",
       "    <tr>\n",
       "      <th>6</th>\n",
       "      <td>16 a 19</td>\n",
       "      <td>Masculino</td>\n",
       "      <td>Engenharia da Computação</td>\n",
       "      <td>UFC</td>\n",
       "      <td>2019.1</td>\n",
       "      <td>Interesse por áreas do curso</td>\n",
       "      <td>Pesquisa e Desenvolvimento</td>\n",
       "      <td>Expectativas positivas</td>\n",
       "      <td>5</td>\n",
       "    </tr>\n",
       "    <tr>\n",
       "      <th>7</th>\n",
       "      <td>16 a 19</td>\n",
       "      <td>Masculino</td>\n",
       "      <td>Engenharia da Computação</td>\n",
       "      <td>UFC</td>\n",
       "      <td>2019.1</td>\n",
       "      <td>Interesse por áreas do curso</td>\n",
       "      <td>Capacitação e aprendizado</td>\n",
       "      <td>Empregabilidade regional ruim</td>\n",
       "      <td>3</td>\n",
       "    </tr>\n",
       "    <tr>\n",
       "      <th>8</th>\n",
       "      <td>16 a 19</td>\n",
       "      <td>Masculino</td>\n",
       "      <td>Engenharia da Computação</td>\n",
       "      <td>UFC</td>\n",
       "      <td>2019.1</td>\n",
       "      <td>Interesse por áreas do curso</td>\n",
       "      <td>Capacitação e aprendizado</td>\n",
       "      <td>Trabalhar na área de interesse</td>\n",
       "      <td>3</td>\n",
       "    </tr>\n",
       "    <tr>\n",
       "      <th>9</th>\n",
       "      <td>20 a 23</td>\n",
       "      <td>Masculino</td>\n",
       "      <td>Ciência da Computação</td>\n",
       "      <td>UECE</td>\n",
       "      <td>2018.2</td>\n",
       "      <td>Interesse por áreas do curso</td>\n",
       "      <td>Expectativas positivas</td>\n",
       "      <td>Empregabilidade regional ruim</td>\n",
       "      <td>5</td>\n",
       "    </tr>\n",
       "    <tr>\n",
       "      <th>10</th>\n",
       "      <td>16 a 19</td>\n",
       "      <td>Masculino</td>\n",
       "      <td>Ciência da Computação</td>\n",
       "      <td>UFLA</td>\n",
       "      <td>2019.1</td>\n",
       "      <td>Interesse por áreas do curso</td>\n",
       "      <td>Expectativas positivas</td>\n",
       "      <td>Não Sabe / Não Respondeu</td>\n",
       "      <td>4</td>\n",
       "    </tr>\n",
       "    <tr>\n",
       "      <th>11</th>\n",
       "      <td>16 a 19</td>\n",
       "      <td>Masculino</td>\n",
       "      <td>Engenharia da Computação</td>\n",
       "      <td>UFC</td>\n",
       "      <td>2019.1</td>\n",
       "      <td>Interesse por áreas do curso</td>\n",
       "      <td>Pesquisa e Desenvolvimento</td>\n",
       "      <td>Não Sabe / Não Respondeu</td>\n",
       "      <td>4</td>\n",
       "    </tr>\n",
       "  </tbody>\n",
       "</table>\n",
       "</div>"
      ],
      "text/plain": [
       "      idade     gênero                     curso instituição  \\\n",
       "0   16 a 19  Masculino     Ciência da Computação         UFC   \n",
       "1   16 a 19  Masculino     Ciência da Computação         UFC   \n",
       "2   16 a 19  Masculino  Engenharia da Computação         UFC   \n",
       "3   16 a 19  Masculino     Ciência da Computação         UFC   \n",
       "4   16 a 19  Masculino  Engenharia da Computação         UFC   \n",
       "5   16 a 19  Masculino     Ciência da Computação         UFC   \n",
       "6   16 a 19  Masculino  Engenharia da Computação         UFC   \n",
       "7   16 a 19  Masculino  Engenharia da Computação         UFC   \n",
       "8   16 a 19  Masculino  Engenharia da Computação         UFC   \n",
       "9   20 a 23  Masculino     Ciência da Computação        UECE   \n",
       "10  16 a 19  Masculino     Ciência da Computação        UFLA   \n",
       "11  16 a 19  Masculino  Engenharia da Computação         UFC   \n",
       "\n",
       "    semestre entrada         motivação para entrar  \\\n",
       "0             2019.1  Interesse por áreas do curso   \n",
       "1             2019.1  Interesse por áreas do curso   \n",
       "2             2019.1  Interesse por áreas do curso   \n",
       "3             2019.1  Interesse por áreas do curso   \n",
       "4             2019.1  Interesse por áreas do curso   \n",
       "5             2019.1  Interesse por áreas do curso   \n",
       "6             2019.1  Interesse por áreas do curso   \n",
       "7             2019.1  Interesse por áreas do curso   \n",
       "8             2019.1  Interesse por áreas do curso   \n",
       "9             2018.2  Interesse por áreas do curso   \n",
       "10            2019.1  Interesse por áreas do curso   \n",
       "11            2019.1  Interesse por áreas do curso   \n",
       "\n",
       "                            expectativas             mercado de trabalho  \\\n",
       "0                               Não Sabe  Trabalhar na área de interesse   \n",
       "1              Capacitação e aprendizado  Trabalhar na área de interesse   \n",
       "2                 Expectativas positivas          Expectativas positivas   \n",
       "3                 Expectativas positivas       Mercado de trabalho amplo   \n",
       "4   Participação nas atividades do curso        Não Sabe / Não Respondeu   \n",
       "5              Capacitação e aprendizado  Trabalhar na área de interesse   \n",
       "6             Pesquisa e Desenvolvimento          Expectativas positivas   \n",
       "7              Capacitação e aprendizado   Empregabilidade regional ruim   \n",
       "8              Capacitação e aprendizado  Trabalhar na área de interesse   \n",
       "9                 Expectativas positivas   Empregabilidade regional ruim   \n",
       "10                Expectativas positivas        Não Sabe / Não Respondeu   \n",
       "11            Pesquisa e Desenvolvimento        Não Sabe / Não Respondeu   \n",
       "\n",
       "    Quanto jogos Impactam na sua visão do curso?  \n",
       "0                                              4  \n",
       "1                                              5  \n",
       "2                                              5  \n",
       "3                                              5  \n",
       "4                                              5  \n",
       "5                                              5  \n",
       "6                                              5  \n",
       "7                                              3  \n",
       "8                                              3  \n",
       "9                                              5  \n",
       "10                                             4  \n",
       "11                                             4  "
      ]
     },
     "execution_count": 22,
     "metadata": {},
     "output_type": "execute_result"
    }
   ],
   "source": [
    "\n",
    "\n",
    "# trocando os codigos pela categoria por extenso\n",
    "\n",
    "nov_extenso = switchBack(nov, \"motivação para entrar\")\n",
    "nov_extenso = switchBack(nov_extenso, \"expectativas\")\n",
    "nov_extenso = switchBack(nov_extenso, \"mercado de trabalho\")\n",
    "\n",
    "nov_extenso.replace(\"\", \"Não Sabe / Não Respondeu\")\n",
    "    "
   ]
  },
  {
   "cell_type": "markdown",
   "metadata": {},
   "source": [
    "----------\n",
    "## Tabela dos Veteranos - categorias separadas\n",
    "#### Não há respostas compostas - revisar para saber se as categorias estão muito juntas (e.g., pesquisa e desenvolvimento são bem distintos)\n",
    "----------"
   ]
  },
  {
   "cell_type": "markdown",
   "metadata": {},
   "source": [
    "Aqui, nos deparamos com o seguinte problema: quando realizamos a contagem das categorias, algumas respostas apresentavam mais de uma delas. \n",
    "\\Com isso, o script entendia que a resposta composta era uma nova categoria e a contabilizava individualmente e isto é indesejado\n",
    "\n",
    "Logo, precisamos dividí-las, colocando-as em linhas separadas (onde cada linha representa uma resposta) e replicando o resto da linha.\n",
    "\n",
    "Daí, vem a preocupação de estarmos replicando dados de forma artificial, mas contornamos da seguinte forma:\n",
    "- Se a coluna teve respostas compostas (i.e., que tiveram que ser separadas), então a contagem dela só pode acontecer individualmente ou relacionada a outra coluna de mesmo tipo (e.g., motivação e dificuldade)\n",
    "- Caso contrário, a contagem acontece na tabela original, sem separação.\n",
    "\n",
    "As perguntas que tiveram respostas compostas foram:\n",
    "* Motivação para entrar no curso\n",
    "* expectativas para com o curso\n",
    "* dificuldades enfrentadas\n",
    "* expectativas sobre o mercado de trabalho\n",
    "\n",
    "Abaixo é mostrado o código, utilizando a função disjoint, e a tabela corrigida."
   ]
  },
  {
   "cell_type": "code",
   "execution_count": 18,
   "metadata": {
    "scrolled": true
   },
   "outputs": [],
   "source": [
    "#vet_separados = disjoint(vet_extenso, \"quais?\")\n",
    "\n",
    "#vet_separados = disjoint(vet_separados, \"motivação para entrar\")\n",
    "\n",
    "#vet_separados = disjoint(vet_separados, \"expectativas\")\n",
    "\n",
    "#vet_separados = disjoint(vet_separados, \"dificuldades\")\n",
    "\n",
    "#vet_separados = disjoint(vet_separados, \"mercado de trabalho\")\n",
    "\n",
    "#vet_separados\n"
   ]
  },
  {
   "cell_type": "markdown",
   "metadata": {},
   "source": [
    "--------\n",
    "## Contagens\n",
    "--------"
   ]
  },
  {
   "cell_type": "markdown",
   "metadata": {},
   "source": [
    "#### IMPORTANTE\n",
    "Sempre que a função lidar com a tabela \"vet_extenso\", significa que os dados são da tabela original, sem separação de respostas compostas.\n",
    "\n",
    "Já quando utiliza a tabela \"vet_separados\", os dados foram tratados com relação a respostas compostas (i.e., a resposta ocupa mais de uma categoria da análise de conteúdo)"
   ]
  },
  {
   "cell_type": "markdown",
   "metadata": {},
   "source": [
    "### Curso"
   ]
  },
  {
   "cell_type": "code",
   "execution_count": 24,
   "metadata": {},
   "outputs": [
    {
     "data": {
      "text/plain": [
       "Ciência da Computação       6\n",
       "Engenharia da Computação    6\n",
       "Name: curso, dtype: int64"
      ]
     },
     "execution_count": 24,
     "metadata": {},
     "output_type": "execute_result"
    }
   ],
   "source": [
    "nov_extenso['curso'].value_counts()"
   ]
  },
  {
   "cell_type": "markdown",
   "metadata": {},
   "source": [
    "----------\n",
    "### Faixa Etária"
   ]
  },
  {
   "cell_type": "code",
   "execution_count": 25,
   "metadata": {},
   "outputs": [
    {
     "data": {
      "text/plain": [
       "16 a 19    11\n",
       "20 a 23     1\n",
       "Name: idade, dtype: int64"
      ]
     },
     "execution_count": 25,
     "metadata": {},
     "output_type": "execute_result"
    }
   ],
   "source": [
    "nov_extenso['idade'].value_counts()"
   ]
  },
  {
   "cell_type": "markdown",
   "metadata": {},
   "source": [
    "----------\n",
    "### Gênero"
   ]
  },
  {
   "cell_type": "code",
   "execution_count": 26,
   "metadata": {},
   "outputs": [
    {
     "data": {
      "text/plain": [
       "Masculino    12\n",
       "Name: gênero, dtype: int64"
      ]
     },
     "execution_count": 26,
     "metadata": {},
     "output_type": "execute_result"
    }
   ],
   "source": [
    "nov_extenso['gênero'].value_counts()"
   ]
  },
  {
   "cell_type": "markdown",
   "metadata": {},
   "source": [
    "----------\n",
    "### Motivação para entrar\n"
   ]
  },
  {
   "cell_type": "code",
   "execution_count": 28,
   "metadata": {},
   "outputs": [
    {
     "data": {
      "text/plain": [
       "Interesse por áreas do curso    12\n",
       "Name: motivação para entrar, dtype: int64"
      ]
     },
     "execution_count": 28,
     "metadata": {},
     "output_type": "execute_result"
    }
   ],
   "source": [
    "nov_extenso['motivação para entrar'].value_counts()"
   ]
  },
  {
   "cell_type": "markdown",
   "metadata": {},
   "source": [
    "--------\n",
    "### Expectativas"
   ]
  },
  {
   "cell_type": "code",
   "execution_count": 29,
   "metadata": {},
   "outputs": [
    {
     "data": {
      "text/plain": [
       "Capacitação e aprendizado               4\n",
       "Expectativas positivas                  4\n",
       "Pesquisa e Desenvolvimento              2\n",
       "Participação nas atividades do curso    1\n",
       "Não Sabe                                1\n",
       "Name: expectativas, dtype: int64"
      ]
     },
     "execution_count": 29,
     "metadata": {},
     "output_type": "execute_result"
    }
   ],
   "source": [
    "nov_extenso['expectativas'].value_counts()"
   ]
  },
  {
   "cell_type": "markdown",
   "metadata": {},
   "source": [
    "--------\n",
    "### Mercado de Trabalho"
   ]
  },
  {
   "cell_type": "code",
   "execution_count": 32,
   "metadata": {
    "scrolled": true
   },
   "outputs": [
    {
     "data": {
      "text/plain": [
       "Trabalhar na área de interesse    4\n",
       "Não sabem / Não opinaram          3\n",
       "Empregabilidade regional ruim     2\n",
       "Expectativas positivas            2\n",
       "Mercado de trabalho amplo         1\n",
       "Name: mercado de trabalho, dtype: int64"
      ]
     },
     "execution_count": 32,
     "metadata": {},
     "output_type": "execute_result"
    }
   ],
   "source": [
    "nov_extenso['mercado de trabalho'].replace(\"\", \"Não sabem / Não opinaram\").value_counts()"
   ]
  },
  {
   "cell_type": "markdown",
   "metadata": {},
   "source": [
    "## Gênero x curso"
   ]
  },
  {
   "cell_type": "markdown",
   "metadata": {},
   "source": [
    "* ### contagem absoluta"
   ]
  },
  {
   "cell_type": "code",
   "execution_count": 36,
   "metadata": {},
   "outputs": [
    {
     "data": {
      "text/html": [
       "<div>\n",
       "<style scoped>\n",
       "    .dataframe tbody tr th:only-of-type {\n",
       "        vertical-align: middle;\n",
       "    }\n",
       "\n",
       "    .dataframe tbody tr th {\n",
       "        vertical-align: top;\n",
       "    }\n",
       "\n",
       "    .dataframe thead th {\n",
       "        text-align: right;\n",
       "    }\n",
       "</style>\n",
       "<table border=\"1\" class=\"dataframe\">\n",
       "  <thead>\n",
       "    <tr style=\"text-align: right;\">\n",
       "      <th>curso</th>\n",
       "      <th>Ciência da Computação</th>\n",
       "      <th>Engenharia da Computação</th>\n",
       "    </tr>\n",
       "    <tr>\n",
       "      <th>gênero</th>\n",
       "      <th></th>\n",
       "      <th></th>\n",
       "    </tr>\n",
       "  </thead>\n",
       "  <tbody>\n",
       "    <tr>\n",
       "      <th>Masculino</th>\n",
       "      <td>6</td>\n",
       "      <td>6</td>\n",
       "    </tr>\n",
       "  </tbody>\n",
       "</table>\n",
       "</div>"
      ],
      "text/plain": [
       "curso      Ciência da Computação  Engenharia da Computação\n",
       "gênero                                                    \n",
       "Masculino                      6                         6"
      ]
     },
     "execution_count": 36,
     "metadata": {},
     "output_type": "execute_result"
    }
   ],
   "source": [
    "\n",
    "tab_conting_nov = pd.crosstab(nov_extenso['gênero'], nov_extenso['curso'])\n",
    "tab_conting_nov"
   ]
  },
  {
   "cell_type": "markdown",
   "metadata": {},
   "source": [
    "----------\n",
    "* ### contagem relativa (%)"
   ]
  },
  {
   "cell_type": "code",
   "execution_count": 37,
   "metadata": {},
   "outputs": [
    {
     "data": {
      "text/html": [
       "<style  type=\"text/css\" >\n",
       "</style><table id=\"T_ab27d570_412d_11ea_b773_c8f733fd5142\" ><thead>    <tr>        <th class=\"index_name level0\" >curso</th>        <th class=\"col_heading level0 col0\" >Ciência da Computação</th>        <th class=\"col_heading level0 col1\" >Engenharia da Computação</th>    </tr>    <tr>        <th class=\"index_name level0\" >gênero</th>        <th class=\"blank\" ></th>        <th class=\"blank\" ></th>    </tr></thead><tbody>\n",
       "                <tr>\n",
       "                        <th id=\"T_ab27d570_412d_11ea_b773_c8f733fd5142level0_row0\" class=\"row_heading level0 row0\" >Masculino</th>\n",
       "                        <td id=\"T_ab27d570_412d_11ea_b773_c8f733fd5142row0_col0\" class=\"data row0 col0\" >50.00%</td>\n",
       "                        <td id=\"T_ab27d570_412d_11ea_b773_c8f733fd5142row0_col1\" class=\"data row0 col1\" >50.00%</td>\n",
       "            </tr>\n",
       "    </tbody></table>"
      ],
      "text/plain": [
       "<pandas.io.formats.style.Styler at 0x9e9c188>"
      ]
     },
     "execution_count": 37,
     "metadata": {},
     "output_type": "execute_result"
    }
   ],
   "source": [
    "tab_conting_nov.apply(lambda r: (r)/r.sum(), axis=1).style.format(\"{:.2%}\") # formats 2 digits percentage"
   ]
  },
  {
   "cell_type": "markdown",
   "metadata": {},
   "source": [
    "----------\n",
    "## Curso x Motivação para entrar"
   ]
  },
  {
   "cell_type": "markdown",
   "metadata": {},
   "source": [
    "----------\n",
    "* ### contagem absoluta"
   ]
  },
  {
   "cell_type": "code",
   "execution_count": 38,
   "metadata": {},
   "outputs": [
    {
     "data": {
      "text/html": [
       "<div>\n",
       "<style scoped>\n",
       "    .dataframe tbody tr th:only-of-type {\n",
       "        vertical-align: middle;\n",
       "    }\n",
       "\n",
       "    .dataframe tbody tr th {\n",
       "        vertical-align: top;\n",
       "    }\n",
       "\n",
       "    .dataframe thead th {\n",
       "        text-align: right;\n",
       "    }\n",
       "</style>\n",
       "<table border=\"1\" class=\"dataframe\">\n",
       "  <thead>\n",
       "    <tr style=\"text-align: right;\">\n",
       "      <th>motivação para entrar</th>\n",
       "      <th>Interesse por áreas do curso</th>\n",
       "    </tr>\n",
       "    <tr>\n",
       "      <th>curso</th>\n",
       "      <th></th>\n",
       "    </tr>\n",
       "  </thead>\n",
       "  <tbody>\n",
       "    <tr>\n",
       "      <th>Ciência da Computação</th>\n",
       "      <td>6</td>\n",
       "    </tr>\n",
       "    <tr>\n",
       "      <th>Engenharia da Computação</th>\n",
       "      <td>6</td>\n",
       "    </tr>\n",
       "  </tbody>\n",
       "</table>\n",
       "</div>"
      ],
      "text/plain": [
       "motivação para entrar     Interesse por áreas do curso\n",
       "curso                                                 \n",
       "Ciência da Computação                                6\n",
       "Engenharia da Computação                             6"
      ]
     },
     "execution_count": 38,
     "metadata": {},
     "output_type": "execute_result"
    }
   ],
   "source": [
    "tab_cross_motiv = pd.crosstab(nov_extenso['curso'], nov_extenso['motivação para entrar'])\n",
    "tab_cross_motiv"
   ]
  },
  {
   "cell_type": "markdown",
   "metadata": {},
   "source": [
    "----------\n",
    "* ### contagem relativa (%)"
   ]
  },
  {
   "cell_type": "code",
   "execution_count": 39,
   "metadata": {},
   "outputs": [
    {
     "data": {
      "text/html": [
       "<style  type=\"text/css\" >\n",
       "</style><table id=\"T_d525ab22_412d_11ea_9ee9_c8f733fd5142\" ><thead>    <tr>        <th class=\"index_name level0\" >motivação para entrar</th>        <th class=\"col_heading level0 col0\" >Interesse por áreas do curso</th>    </tr>    <tr>        <th class=\"index_name level0\" >curso</th>        <th class=\"blank\" ></th>    </tr></thead><tbody>\n",
       "                <tr>\n",
       "                        <th id=\"T_d525ab22_412d_11ea_9ee9_c8f733fd5142level0_row0\" class=\"row_heading level0 row0\" >Ciência da Computação</th>\n",
       "                        <td id=\"T_d525ab22_412d_11ea_9ee9_c8f733fd5142row0_col0\" class=\"data row0 col0\" >100.00%</td>\n",
       "            </tr>\n",
       "            <tr>\n",
       "                        <th id=\"T_d525ab22_412d_11ea_9ee9_c8f733fd5142level0_row1\" class=\"row_heading level0 row1\" >Engenharia da Computação</th>\n",
       "                        <td id=\"T_d525ab22_412d_11ea_9ee9_c8f733fd5142row1_col0\" class=\"data row1 col0\" >100.00%</td>\n",
       "            </tr>\n",
       "    </tbody></table>"
      ],
      "text/plain": [
       "<pandas.io.formats.style.Styler at 0xa3ab208>"
      ]
     },
     "execution_count": 39,
     "metadata": {},
     "output_type": "execute_result"
    }
   ],
   "source": [
    "tab_cross_motiv.apply(lambda r: r/r.sum(), axis=1).style.format(\"{:.2%}\")"
   ]
  },
  {
   "cell_type": "markdown",
   "metadata": {},
   "source": [
    "## Curso x Expectativas"
   ]
  },
  {
   "cell_type": "markdown",
   "metadata": {},
   "source": [
    "----------\n",
    "* ### contagem absoluta"
   ]
  },
  {
   "cell_type": "code",
   "execution_count": 40,
   "metadata": {},
   "outputs": [
    {
     "data": {
      "text/html": [
       "<div>\n",
       "<style scoped>\n",
       "    .dataframe tbody tr th:only-of-type {\n",
       "        vertical-align: middle;\n",
       "    }\n",
       "\n",
       "    .dataframe tbody tr th {\n",
       "        vertical-align: top;\n",
       "    }\n",
       "\n",
       "    .dataframe thead th {\n",
       "        text-align: right;\n",
       "    }\n",
       "</style>\n",
       "<table border=\"1\" class=\"dataframe\">\n",
       "  <thead>\n",
       "    <tr style=\"text-align: right;\">\n",
       "      <th>expectativas</th>\n",
       "      <th>Capacitação e aprendizado</th>\n",
       "      <th>Expectativas positivas</th>\n",
       "      <th>Não Sabe</th>\n",
       "      <th>Participação nas atividades do curso</th>\n",
       "      <th>Pesquisa e Desenvolvimento</th>\n",
       "    </tr>\n",
       "    <tr>\n",
       "      <th>curso</th>\n",
       "      <th></th>\n",
       "      <th></th>\n",
       "      <th></th>\n",
       "      <th></th>\n",
       "      <th></th>\n",
       "    </tr>\n",
       "  </thead>\n",
       "  <tbody>\n",
       "    <tr>\n",
       "      <th>Ciência da Computação</th>\n",
       "      <td>2</td>\n",
       "      <td>3</td>\n",
       "      <td>1</td>\n",
       "      <td>0</td>\n",
       "      <td>0</td>\n",
       "    </tr>\n",
       "    <tr>\n",
       "      <th>Engenharia da Computação</th>\n",
       "      <td>2</td>\n",
       "      <td>1</td>\n",
       "      <td>0</td>\n",
       "      <td>1</td>\n",
       "      <td>2</td>\n",
       "    </tr>\n",
       "  </tbody>\n",
       "</table>\n",
       "</div>"
      ],
      "text/plain": [
       "expectativas              Capacitação e aprendizado  Expectativas positivas  \\\n",
       "curso                                                                         \n",
       "Ciência da Computação                             2                       3   \n",
       "Engenharia da Computação                          2                       1   \n",
       "\n",
       "expectativas              Não Sabe  Participação nas atividades do curso  \\\n",
       "curso                                                                      \n",
       "Ciência da Computação            1                                     0   \n",
       "Engenharia da Computação         0                                     1   \n",
       "\n",
       "expectativas              Pesquisa e Desenvolvimento  \n",
       "curso                                                 \n",
       "Ciência da Computação                              0  \n",
       "Engenharia da Computação                           2  "
      ]
     },
     "execution_count": 40,
     "metadata": {},
     "output_type": "execute_result"
    }
   ],
   "source": [
    "tab_cross_expec = pd.crosstab(nov_extenso['curso'], nov_extenso['expectativas'])\n",
    "tab_cross_expec"
   ]
  },
  {
   "cell_type": "markdown",
   "metadata": {},
   "source": [
    "----------\n",
    "* ### contagem relativa (%)"
   ]
  },
  {
   "cell_type": "code",
   "execution_count": 41,
   "metadata": {},
   "outputs": [
    {
     "data": {
      "text/html": [
       "<style  type=\"text/css\" >\n",
       "</style><table id=\"T_e7c77130_412d_11ea_be54_c8f733fd5142\" ><thead>    <tr>        <th class=\"index_name level0\" >expectativas</th>        <th class=\"col_heading level0 col0\" >Capacitação e aprendizado</th>        <th class=\"col_heading level0 col1\" >Expectativas positivas</th>        <th class=\"col_heading level0 col2\" >Não Sabe</th>        <th class=\"col_heading level0 col3\" >Participação nas atividades do curso</th>        <th class=\"col_heading level0 col4\" >Pesquisa e Desenvolvimento</th>    </tr>    <tr>        <th class=\"index_name level0\" >curso</th>        <th class=\"blank\" ></th>        <th class=\"blank\" ></th>        <th class=\"blank\" ></th>        <th class=\"blank\" ></th>        <th class=\"blank\" ></th>    </tr></thead><tbody>\n",
       "                <tr>\n",
       "                        <th id=\"T_e7c77130_412d_11ea_be54_c8f733fd5142level0_row0\" class=\"row_heading level0 row0\" >Ciência da Computação</th>\n",
       "                        <td id=\"T_e7c77130_412d_11ea_be54_c8f733fd5142row0_col0\" class=\"data row0 col0\" >33.33%</td>\n",
       "                        <td id=\"T_e7c77130_412d_11ea_be54_c8f733fd5142row0_col1\" class=\"data row0 col1\" >50.00%</td>\n",
       "                        <td id=\"T_e7c77130_412d_11ea_be54_c8f733fd5142row0_col2\" class=\"data row0 col2\" >16.67%</td>\n",
       "                        <td id=\"T_e7c77130_412d_11ea_be54_c8f733fd5142row0_col3\" class=\"data row0 col3\" >0.00%</td>\n",
       "                        <td id=\"T_e7c77130_412d_11ea_be54_c8f733fd5142row0_col4\" class=\"data row0 col4\" >0.00%</td>\n",
       "            </tr>\n",
       "            <tr>\n",
       "                        <th id=\"T_e7c77130_412d_11ea_be54_c8f733fd5142level0_row1\" class=\"row_heading level0 row1\" >Engenharia da Computação</th>\n",
       "                        <td id=\"T_e7c77130_412d_11ea_be54_c8f733fd5142row1_col0\" class=\"data row1 col0\" >33.33%</td>\n",
       "                        <td id=\"T_e7c77130_412d_11ea_be54_c8f733fd5142row1_col1\" class=\"data row1 col1\" >16.67%</td>\n",
       "                        <td id=\"T_e7c77130_412d_11ea_be54_c8f733fd5142row1_col2\" class=\"data row1 col2\" >0.00%</td>\n",
       "                        <td id=\"T_e7c77130_412d_11ea_be54_c8f733fd5142row1_col3\" class=\"data row1 col3\" >16.67%</td>\n",
       "                        <td id=\"T_e7c77130_412d_11ea_be54_c8f733fd5142row1_col4\" class=\"data row1 col4\" >33.33%</td>\n",
       "            </tr>\n",
       "    </tbody></table>"
      ],
      "text/plain": [
       "<pandas.io.formats.style.Styler at 0xa3b82c8>"
      ]
     },
     "execution_count": 41,
     "metadata": {},
     "output_type": "execute_result"
    }
   ],
   "source": [
    "tab_cross_expec.apply(lambda r: r/r.sum(), axis=1).style.format(\"{:.2%}\")"
   ]
  },
  {
   "cell_type": "code",
   "execution_count": null,
   "metadata": {},
   "outputs": [],
   "source": []
  },
  {
   "cell_type": "markdown",
   "metadata": {},
   "source": [
    "---------------\n",
    "## Curso x uso de jogos impacta na visão sobre o curso?"
   ]
  },
  {
   "cell_type": "markdown",
   "metadata": {},
   "source": [
    "----------\n",
    "* ### contagem absoluta"
   ]
  },
  {
   "cell_type": "code",
   "execution_count": 42,
   "metadata": {},
   "outputs": [
    {
     "data": {
      "text/html": [
       "<div>\n",
       "<style scoped>\n",
       "    .dataframe tbody tr th:only-of-type {\n",
       "        vertical-align: middle;\n",
       "    }\n",
       "\n",
       "    .dataframe tbody tr th {\n",
       "        vertical-align: top;\n",
       "    }\n",
       "\n",
       "    .dataframe thead th {\n",
       "        text-align: right;\n",
       "    }\n",
       "</style>\n",
       "<table border=\"1\" class=\"dataframe\">\n",
       "  <thead>\n",
       "    <tr style=\"text-align: right;\">\n",
       "      <th>Quanto jogos Impactam na sua visão do curso?</th>\n",
       "      <th>3</th>\n",
       "      <th>4</th>\n",
       "      <th>5</th>\n",
       "    </tr>\n",
       "    <tr>\n",
       "      <th>curso</th>\n",
       "      <th></th>\n",
       "      <th></th>\n",
       "      <th></th>\n",
       "    </tr>\n",
       "  </thead>\n",
       "  <tbody>\n",
       "    <tr>\n",
       "      <th>Ciência da Computação</th>\n",
       "      <td>0</td>\n",
       "      <td>2</td>\n",
       "      <td>4</td>\n",
       "    </tr>\n",
       "    <tr>\n",
       "      <th>Engenharia da Computação</th>\n",
       "      <td>2</td>\n",
       "      <td>1</td>\n",
       "      <td>3</td>\n",
       "    </tr>\n",
       "  </tbody>\n",
       "</table>\n",
       "</div>"
      ],
      "text/plain": [
       "Quanto jogos Impactam na sua visão do curso?  3  4  5\n",
       "curso                                                \n",
       "Ciência da Computação                         0  2  4\n",
       "Engenharia da Computação                      2  1  3"
      ]
     },
     "execution_count": 42,
     "metadata": {},
     "output_type": "execute_result"
    }
   ],
   "source": [
    "tab_cross_dif_jogos = pd.crosstab(nov_extenso['curso'], nov_extenso['Quanto jogos Impactam na sua visão do curso?'])\n",
    "tab_cross_dif_jogos"
   ]
  },
  {
   "cell_type": "markdown",
   "metadata": {},
   "source": [
    "----------\n",
    "* ### contagem relativa (%)"
   ]
  },
  {
   "cell_type": "code",
   "execution_count": 43,
   "metadata": {},
   "outputs": [
    {
     "data": {
      "text/html": [
       "<style  type=\"text/css\" >\n",
       "</style><table id=\"T_282a3aa4_412e_11ea_ab5d_c8f733fd5142\" ><thead>    <tr>        <th class=\"index_name level0\" >Quanto jogos Impactam na sua visão do curso?</th>        <th class=\"col_heading level0 col0\" >3</th>        <th class=\"col_heading level0 col1\" >4</th>        <th class=\"col_heading level0 col2\" >5</th>    </tr>    <tr>        <th class=\"index_name level0\" >curso</th>        <th class=\"blank\" ></th>        <th class=\"blank\" ></th>        <th class=\"blank\" ></th>    </tr></thead><tbody>\n",
       "                <tr>\n",
       "                        <th id=\"T_282a3aa4_412e_11ea_ab5d_c8f733fd5142level0_row0\" class=\"row_heading level0 row0\" >Ciência da Computação</th>\n",
       "                        <td id=\"T_282a3aa4_412e_11ea_ab5d_c8f733fd5142row0_col0\" class=\"data row0 col0\" >0.00%</td>\n",
       "                        <td id=\"T_282a3aa4_412e_11ea_ab5d_c8f733fd5142row0_col1\" class=\"data row0 col1\" >33.33%</td>\n",
       "                        <td id=\"T_282a3aa4_412e_11ea_ab5d_c8f733fd5142row0_col2\" class=\"data row0 col2\" >66.67%</td>\n",
       "            </tr>\n",
       "            <tr>\n",
       "                        <th id=\"T_282a3aa4_412e_11ea_ab5d_c8f733fd5142level0_row1\" class=\"row_heading level0 row1\" >Engenharia da Computação</th>\n",
       "                        <td id=\"T_282a3aa4_412e_11ea_ab5d_c8f733fd5142row1_col0\" class=\"data row1 col0\" >33.33%</td>\n",
       "                        <td id=\"T_282a3aa4_412e_11ea_ab5d_c8f733fd5142row1_col1\" class=\"data row1 col1\" >16.67%</td>\n",
       "                        <td id=\"T_282a3aa4_412e_11ea_ab5d_c8f733fd5142row1_col2\" class=\"data row1 col2\" >50.00%</td>\n",
       "            </tr>\n",
       "    </tbody></table>"
      ],
      "text/plain": [
       "<pandas.io.formats.style.Styler at 0xb0ea108>"
      ]
     },
     "execution_count": 43,
     "metadata": {},
     "output_type": "execute_result"
    }
   ],
   "source": [
    "tab_cross_dif_jogos.apply(lambda r: r/r.sum(), axis=1).style.format(\"{:.2%}\")"
   ]
  },
  {
   "cell_type": "code",
   "execution_count": null,
   "metadata": {},
   "outputs": [],
   "source": []
  },
  {
   "cell_type": "markdown",
   "metadata": {},
   "source": [
    "---------------\n",
    "## Motivação x Expectativas"
   ]
  },
  {
   "cell_type": "markdown",
   "metadata": {},
   "source": [
    "----------\n",
    "* ### contagem absoluta"
   ]
  },
  {
   "cell_type": "code",
   "execution_count": 45,
   "metadata": {},
   "outputs": [
    {
     "data": {
      "text/html": [
       "<div>\n",
       "<style scoped>\n",
       "    .dataframe tbody tr th:only-of-type {\n",
       "        vertical-align: middle;\n",
       "    }\n",
       "\n",
       "    .dataframe tbody tr th {\n",
       "        vertical-align: top;\n",
       "    }\n",
       "\n",
       "    .dataframe thead th {\n",
       "        text-align: right;\n",
       "    }\n",
       "</style>\n",
       "<table border=\"1\" class=\"dataframe\">\n",
       "  <thead>\n",
       "    <tr style=\"text-align: right;\">\n",
       "      <th>expectativas</th>\n",
       "      <th>Capacitação e aprendizado</th>\n",
       "      <th>Expectativas positivas</th>\n",
       "      <th>Não Sabe</th>\n",
       "      <th>Participação nas atividades do curso</th>\n",
       "      <th>Pesquisa e Desenvolvimento</th>\n",
       "    </tr>\n",
       "    <tr>\n",
       "      <th>motivação para entrar</th>\n",
       "      <th></th>\n",
       "      <th></th>\n",
       "      <th></th>\n",
       "      <th></th>\n",
       "      <th></th>\n",
       "    </tr>\n",
       "  </thead>\n",
       "  <tbody>\n",
       "    <tr>\n",
       "      <th>Interesse por áreas do curso</th>\n",
       "      <td>4</td>\n",
       "      <td>4</td>\n",
       "      <td>1</td>\n",
       "      <td>1</td>\n",
       "      <td>2</td>\n",
       "    </tr>\n",
       "  </tbody>\n",
       "</table>\n",
       "</div>"
      ],
      "text/plain": [
       "expectativas                  Capacitação e aprendizado  \\\n",
       "motivação para entrar                                     \n",
       "Interesse por áreas do curso                          4   \n",
       "\n",
       "expectativas                  Expectativas positivas  Não Sabe  \\\n",
       "motivação para entrar                                            \n",
       "Interesse por áreas do curso                       4         1   \n",
       "\n",
       "expectativas                  Participação nas atividades do curso  \\\n",
       "motivação para entrar                                                \n",
       "Interesse por áreas do curso                                     1   \n",
       "\n",
       "expectativas                  Pesquisa e Desenvolvimento  \n",
       "motivação para entrar                                     \n",
       "Interesse por áreas do curso                           2  "
      ]
     },
     "execution_count": 45,
     "metadata": {},
     "output_type": "execute_result"
    }
   ],
   "source": [
    "tab_cross_motiv_exp = pd.crosstab(nov_extenso['motivação para entrar'], nov_extenso['expectativas'])\n",
    "tab_cross_motiv_exp"
   ]
  },
  {
   "cell_type": "markdown",
   "metadata": {},
   "source": [
    "----------\n",
    "* ### contagem relativa (%)"
   ]
  },
  {
   "cell_type": "code",
   "execution_count": 46,
   "metadata": {},
   "outputs": [
    {
     "data": {
      "text/html": [
       "<style  type=\"text/css\" >\n",
       "</style><table id=\"T_38fdc366_412e_11ea_b24b_c8f733fd5142\" ><thead>    <tr>        <th class=\"index_name level0\" >expectativas</th>        <th class=\"col_heading level0 col0\" >Capacitação e aprendizado</th>        <th class=\"col_heading level0 col1\" >Expectativas positivas</th>        <th class=\"col_heading level0 col2\" >Não Sabe</th>        <th class=\"col_heading level0 col3\" >Participação nas atividades do curso</th>        <th class=\"col_heading level0 col4\" >Pesquisa e Desenvolvimento</th>    </tr>    <tr>        <th class=\"index_name level0\" >motivação para entrar</th>        <th class=\"blank\" ></th>        <th class=\"blank\" ></th>        <th class=\"blank\" ></th>        <th class=\"blank\" ></th>        <th class=\"blank\" ></th>    </tr></thead><tbody>\n",
       "                <tr>\n",
       "                        <th id=\"T_38fdc366_412e_11ea_b24b_c8f733fd5142level0_row0\" class=\"row_heading level0 row0\" >Interesse por áreas do curso</th>\n",
       "                        <td id=\"T_38fdc366_412e_11ea_b24b_c8f733fd5142row0_col0\" class=\"data row0 col0\" >33.33%</td>\n",
       "                        <td id=\"T_38fdc366_412e_11ea_b24b_c8f733fd5142row0_col1\" class=\"data row0 col1\" >33.33%</td>\n",
       "                        <td id=\"T_38fdc366_412e_11ea_b24b_c8f733fd5142row0_col2\" class=\"data row0 col2\" >8.33%</td>\n",
       "                        <td id=\"T_38fdc366_412e_11ea_b24b_c8f733fd5142row0_col3\" class=\"data row0 col3\" >8.33%</td>\n",
       "                        <td id=\"T_38fdc366_412e_11ea_b24b_c8f733fd5142row0_col4\" class=\"data row0 col4\" >16.67%</td>\n",
       "            </tr>\n",
       "    </tbody></table>"
      ],
      "text/plain": [
       "<pandas.io.formats.style.Styler at 0xa3fe9c8>"
      ]
     },
     "execution_count": 46,
     "metadata": {},
     "output_type": "execute_result"
    }
   ],
   "source": [
    "tab_cross_motiv_exp.apply(lambda r: r/r.sum(), axis=1).style.format(\"{:.2%}\")"
   ]
  },
  {
   "cell_type": "markdown",
   "metadata": {},
   "source": [
    "---------------\n",
    "## Motivação x Mercado de Trabalho"
   ]
  },
  {
   "cell_type": "markdown",
   "metadata": {},
   "source": [
    "----------\n",
    "* ### contagem absoluta"
   ]
  },
  {
   "cell_type": "code",
   "execution_count": 47,
   "metadata": {},
   "outputs": [
    {
     "data": {
      "text/html": [
       "<div>\n",
       "<style scoped>\n",
       "    .dataframe tbody tr th:only-of-type {\n",
       "        vertical-align: middle;\n",
       "    }\n",
       "\n",
       "    .dataframe tbody tr th {\n",
       "        vertical-align: top;\n",
       "    }\n",
       "\n",
       "    .dataframe thead th {\n",
       "        text-align: right;\n",
       "    }\n",
       "</style>\n",
       "<table border=\"1\" class=\"dataframe\">\n",
       "  <thead>\n",
       "    <tr style=\"text-align: right;\">\n",
       "      <th>mercado de trabalho</th>\n",
       "      <th></th>\n",
       "      <th>Empregabilidade regional ruim</th>\n",
       "      <th>Expectativas positivas</th>\n",
       "      <th>Mercado de trabalho amplo</th>\n",
       "      <th>Trabalhar na área de interesse</th>\n",
       "    </tr>\n",
       "    <tr>\n",
       "      <th>motivação para entrar</th>\n",
       "      <th></th>\n",
       "      <th></th>\n",
       "      <th></th>\n",
       "      <th></th>\n",
       "      <th></th>\n",
       "    </tr>\n",
       "  </thead>\n",
       "  <tbody>\n",
       "    <tr>\n",
       "      <th>Interesse por áreas do curso</th>\n",
       "      <td>3</td>\n",
       "      <td>2</td>\n",
       "      <td>2</td>\n",
       "      <td>1</td>\n",
       "      <td>4</td>\n",
       "    </tr>\n",
       "  </tbody>\n",
       "</table>\n",
       "</div>"
      ],
      "text/plain": [
       "mercado de trabalho              Empregabilidade regional ruim  \\\n",
       "motivação para entrar                                            \n",
       "Interesse por áreas do curso  3                              2   \n",
       "\n",
       "mercado de trabalho           Expectativas positivas  \\\n",
       "motivação para entrar                                  \n",
       "Interesse por áreas do curso                       2   \n",
       "\n",
       "mercado de trabalho           Mercado de trabalho amplo  \\\n",
       "motivação para entrar                                     \n",
       "Interesse por áreas do curso                          1   \n",
       "\n",
       "mercado de trabalho           Trabalhar na área de interesse  \n",
       "motivação para entrar                                         \n",
       "Interesse por áreas do curso                               4  "
      ]
     },
     "execution_count": 47,
     "metadata": {},
     "output_type": "execute_result"
    }
   ],
   "source": [
    "tab_cross_motiv_merc = pd.crosstab(nov_extenso['motivação para entrar'], nov_extenso['mercado de trabalho'])\n",
    "tab_cross_motiv_merc"
   ]
  },
  {
   "cell_type": "markdown",
   "metadata": {},
   "source": [
    "----------\n",
    "* ### contagem relativa (%)"
   ]
  },
  {
   "cell_type": "code",
   "execution_count": 48,
   "metadata": {
    "scrolled": true
   },
   "outputs": [
    {
     "data": {
      "text/html": [
       "<style  type=\"text/css\" >\n",
       "</style><table id=\"T_42cd60be_412e_11ea_b73e_c8f733fd5142\" ><thead>    <tr>        <th class=\"index_name level0\" >mercado de trabalho</th>        <th class=\"col_heading level0 col0\" ></th>        <th class=\"col_heading level0 col1\" >Empregabilidade regional ruim</th>        <th class=\"col_heading level0 col2\" >Expectativas positivas</th>        <th class=\"col_heading level0 col3\" >Mercado de trabalho amplo</th>        <th class=\"col_heading level0 col4\" >Trabalhar na área de interesse</th>    </tr>    <tr>        <th class=\"index_name level0\" >motivação para entrar</th>        <th class=\"blank\" ></th>        <th class=\"blank\" ></th>        <th class=\"blank\" ></th>        <th class=\"blank\" ></th>        <th class=\"blank\" ></th>    </tr></thead><tbody>\n",
       "                <tr>\n",
       "                        <th id=\"T_42cd60be_412e_11ea_b73e_c8f733fd5142level0_row0\" class=\"row_heading level0 row0\" >Interesse por áreas do curso</th>\n",
       "                        <td id=\"T_42cd60be_412e_11ea_b73e_c8f733fd5142row0_col0\" class=\"data row0 col0\" >25.00%</td>\n",
       "                        <td id=\"T_42cd60be_412e_11ea_b73e_c8f733fd5142row0_col1\" class=\"data row0 col1\" >16.67%</td>\n",
       "                        <td id=\"T_42cd60be_412e_11ea_b73e_c8f733fd5142row0_col2\" class=\"data row0 col2\" >16.67%</td>\n",
       "                        <td id=\"T_42cd60be_412e_11ea_b73e_c8f733fd5142row0_col3\" class=\"data row0 col3\" >8.33%</td>\n",
       "                        <td id=\"T_42cd60be_412e_11ea_b73e_c8f733fd5142row0_col4\" class=\"data row0 col4\" >33.33%</td>\n",
       "            </tr>\n",
       "    </tbody></table>"
      ],
      "text/plain": [
       "<pandas.io.formats.style.Styler at 0xa4733c8>"
      ]
     },
     "execution_count": 48,
     "metadata": {},
     "output_type": "execute_result"
    }
   ],
   "source": [
    "tab_cross_motiv_merc.apply(lambda r: r/r.sum(), axis=1).style.format(\"{:.2%}\")"
   ]
  },
  {
   "cell_type": "markdown",
   "metadata": {},
   "source": [
    "---------------\n",
    "## Motivação x uso de jogos impacta na visão sobre o curso?"
   ]
  },
  {
   "cell_type": "markdown",
   "metadata": {},
   "source": [
    "----------\n",
    "* ### contagem absoluta"
   ]
  },
  {
   "cell_type": "code",
   "execution_count": 58,
   "metadata": {},
   "outputs": [
    {
     "data": {
      "text/html": [
       "<div>\n",
       "<style scoped>\n",
       "    .dataframe tbody tr th:only-of-type {\n",
       "        vertical-align: middle;\n",
       "    }\n",
       "\n",
       "    .dataframe tbody tr th {\n",
       "        vertical-align: top;\n",
       "    }\n",
       "\n",
       "    .dataframe thead th {\n",
       "        text-align: right;\n",
       "    }\n",
       "</style>\n",
       "<table border=\"1\" class=\"dataframe\">\n",
       "  <thead>\n",
       "    <tr style=\"text-align: right;\">\n",
       "      <th>uso de jogos impacta na visão sobre o curso?</th>\n",
       "      <th>1</th>\n",
       "      <th>2</th>\n",
       "      <th>3</th>\n",
       "      <th>4</th>\n",
       "      <th>5</th>\n",
       "    </tr>\n",
       "    <tr>\n",
       "      <th>motivação para entrar</th>\n",
       "      <th></th>\n",
       "      <th></th>\n",
       "      <th></th>\n",
       "      <th></th>\n",
       "      <th></th>\n",
       "    </tr>\n",
       "  </thead>\n",
       "  <tbody>\n",
       "    <tr>\n",
       "      <th>Empregabilidade</th>\n",
       "      <td>4</td>\n",
       "      <td>0</td>\n",
       "      <td>3</td>\n",
       "      <td>4</td>\n",
       "      <td>0</td>\n",
       "    </tr>\n",
       "    <tr>\n",
       "      <th>Influência de Terceiros</th>\n",
       "      <td>0</td>\n",
       "      <td>2</td>\n",
       "      <td>1</td>\n",
       "      <td>0</td>\n",
       "      <td>1</td>\n",
       "    </tr>\n",
       "    <tr>\n",
       "      <th>Interesse por áreas do curso</th>\n",
       "      <td>2</td>\n",
       "      <td>4</td>\n",
       "      <td>12</td>\n",
       "      <td>13</td>\n",
       "      <td>14</td>\n",
       "    </tr>\n",
       "  </tbody>\n",
       "</table>\n",
       "</div>"
      ],
      "text/plain": [
       "uso de jogos impacta na visão sobre o curso?  1  2   3   4   5\n",
       "motivação para entrar                                         \n",
       "Empregabilidade                               4  0   3   4   0\n",
       "Influência de Terceiros                       0  2   1   0   1\n",
       "Interesse por áreas do curso                  2  4  12  13  14"
      ]
     },
     "execution_count": 58,
     "metadata": {},
     "output_type": "execute_result"
    }
   ],
   "source": [
    "tab_cross_motiv_jogos = pd.crosstab(vet_separados['motivação para entrar'], vet_separados['Quanto jogos Impactam na sua visão do curso?'])\n",
    "tab_cross_motiv_jogos"
   ]
  },
  {
   "cell_type": "markdown",
   "metadata": {},
   "source": [
    "----------\n",
    "* ### contagem relativa (%)"
   ]
  },
  {
   "cell_type": "code",
   "execution_count": 59,
   "metadata": {
    "scrolled": true
   },
   "outputs": [
    {
     "data": {
      "text/html": [
       "<style  type=\"text/css\" >\n",
       "</style><table id=\"T_6110d2ba_3d53_11ea_916f_c8f733fd5142\" ><thead>    <tr>        <th class=\"index_name level0\" >uso de jogos impacta na visão sobre o curso?</th>        <th class=\"col_heading level0 col0\" >1</th>        <th class=\"col_heading level0 col1\" >2</th>        <th class=\"col_heading level0 col2\" >3</th>        <th class=\"col_heading level0 col3\" >4</th>        <th class=\"col_heading level0 col4\" >5</th>    </tr>    <tr>        <th class=\"index_name level0\" >motivação para entrar</th>        <th class=\"blank\" ></th>        <th class=\"blank\" ></th>        <th class=\"blank\" ></th>        <th class=\"blank\" ></th>        <th class=\"blank\" ></th>    </tr></thead><tbody>\n",
       "                <tr>\n",
       "                        <th id=\"T_6110d2ba_3d53_11ea_916f_c8f733fd5142level0_row0\" class=\"row_heading level0 row0\" >Empregabilidade</th>\n",
       "                        <td id=\"T_6110d2ba_3d53_11ea_916f_c8f733fd5142row0_col0\" class=\"data row0 col0\" >36.36%</td>\n",
       "                        <td id=\"T_6110d2ba_3d53_11ea_916f_c8f733fd5142row0_col1\" class=\"data row0 col1\" >0.00%</td>\n",
       "                        <td id=\"T_6110d2ba_3d53_11ea_916f_c8f733fd5142row0_col2\" class=\"data row0 col2\" >27.27%</td>\n",
       "                        <td id=\"T_6110d2ba_3d53_11ea_916f_c8f733fd5142row0_col3\" class=\"data row0 col3\" >36.36%</td>\n",
       "                        <td id=\"T_6110d2ba_3d53_11ea_916f_c8f733fd5142row0_col4\" class=\"data row0 col4\" >0.00%</td>\n",
       "            </tr>\n",
       "            <tr>\n",
       "                        <th id=\"T_6110d2ba_3d53_11ea_916f_c8f733fd5142level0_row1\" class=\"row_heading level0 row1\" >Influência de Terceiros</th>\n",
       "                        <td id=\"T_6110d2ba_3d53_11ea_916f_c8f733fd5142row1_col0\" class=\"data row1 col0\" >0.00%</td>\n",
       "                        <td id=\"T_6110d2ba_3d53_11ea_916f_c8f733fd5142row1_col1\" class=\"data row1 col1\" >50.00%</td>\n",
       "                        <td id=\"T_6110d2ba_3d53_11ea_916f_c8f733fd5142row1_col2\" class=\"data row1 col2\" >25.00%</td>\n",
       "                        <td id=\"T_6110d2ba_3d53_11ea_916f_c8f733fd5142row1_col3\" class=\"data row1 col3\" >0.00%</td>\n",
       "                        <td id=\"T_6110d2ba_3d53_11ea_916f_c8f733fd5142row1_col4\" class=\"data row1 col4\" >25.00%</td>\n",
       "            </tr>\n",
       "            <tr>\n",
       "                        <th id=\"T_6110d2ba_3d53_11ea_916f_c8f733fd5142level0_row2\" class=\"row_heading level0 row2\" >Interesse por áreas do curso</th>\n",
       "                        <td id=\"T_6110d2ba_3d53_11ea_916f_c8f733fd5142row2_col0\" class=\"data row2 col0\" >4.44%</td>\n",
       "                        <td id=\"T_6110d2ba_3d53_11ea_916f_c8f733fd5142row2_col1\" class=\"data row2 col1\" >8.89%</td>\n",
       "                        <td id=\"T_6110d2ba_3d53_11ea_916f_c8f733fd5142row2_col2\" class=\"data row2 col2\" >26.67%</td>\n",
       "                        <td id=\"T_6110d2ba_3d53_11ea_916f_c8f733fd5142row2_col3\" class=\"data row2 col3\" >28.89%</td>\n",
       "                        <td id=\"T_6110d2ba_3d53_11ea_916f_c8f733fd5142row2_col4\" class=\"data row2 col4\" >31.11%</td>\n",
       "            </tr>\n",
       "    </tbody></table>"
      ],
      "text/plain": [
       "<pandas.io.formats.style.Styler at 0xb06c688>"
      ]
     },
     "execution_count": 59,
     "metadata": {},
     "output_type": "execute_result"
    }
   ],
   "source": [
    "tab_cross_motiv_jogos.apply(lambda r: r/r.sum(), axis=1).style.format(\"{:.2%}\")"
   ]
  },
  {
   "cell_type": "markdown",
   "metadata": {},
   "source": [
    "---------------\n",
    "## Expectativas x uso de jogos impacta na visão sobre o curso?"
   ]
  },
  {
   "cell_type": "markdown",
   "metadata": {},
   "source": [
    "----------\n",
    "* ### contagem absoluta"
   ]
  },
  {
   "cell_type": "code",
   "execution_count": 69,
   "metadata": {},
   "outputs": [
    {
     "data": {
      "text/html": [
       "<div>\n",
       "<style scoped>\n",
       "    .dataframe tbody tr th:only-of-type {\n",
       "        vertical-align: middle;\n",
       "    }\n",
       "\n",
       "    .dataframe tbody tr th {\n",
       "        vertical-align: top;\n",
       "    }\n",
       "\n",
       "    .dataframe thead th {\n",
       "        text-align: right;\n",
       "    }\n",
       "</style>\n",
       "<table border=\"1\" class=\"dataframe\">\n",
       "  <thead>\n",
       "    <tr style=\"text-align: right;\">\n",
       "      <th>uso de jogos impacta na visão sobre o curso?</th>\n",
       "      <th>1</th>\n",
       "      <th>2</th>\n",
       "      <th>3</th>\n",
       "      <th>4</th>\n",
       "      <th>5</th>\n",
       "    </tr>\n",
       "    <tr>\n",
       "      <th>expectativas</th>\n",
       "      <th></th>\n",
       "      <th></th>\n",
       "      <th></th>\n",
       "      <th></th>\n",
       "      <th></th>\n",
       "    </tr>\n",
       "  </thead>\n",
       "  <tbody>\n",
       "    <tr>\n",
       "      <th>Atividades extracurriculares</th>\n",
       "      <td>0</td>\n",
       "      <td>0</td>\n",
       "      <td>0</td>\n",
       "      <td>2</td>\n",
       "      <td>0</td>\n",
       "    </tr>\n",
       "    <tr>\n",
       "      <th>Bom networking</th>\n",
       "      <td>0</td>\n",
       "      <td>0</td>\n",
       "      <td>0</td>\n",
       "      <td>0</td>\n",
       "      <td>2</td>\n",
       "    </tr>\n",
       "    <tr>\n",
       "      <th>Capacitação e aprendizado</th>\n",
       "      <td>6</td>\n",
       "      <td>5</td>\n",
       "      <td>8</td>\n",
       "      <td>7</td>\n",
       "      <td>4</td>\n",
       "    </tr>\n",
       "    <tr>\n",
       "      <th>Curso com caráter acadêmico</th>\n",
       "      <td>0</td>\n",
       "      <td>0</td>\n",
       "      <td>0</td>\n",
       "      <td>0</td>\n",
       "      <td>1</td>\n",
       "    </tr>\n",
       "    <tr>\n",
       "      <th>Curso com caráter difícil</th>\n",
       "      <td>0</td>\n",
       "      <td>1</td>\n",
       "      <td>0</td>\n",
       "      <td>0</td>\n",
       "      <td>2</td>\n",
       "    </tr>\n",
       "    <tr>\n",
       "      <th>Curso com caráter matemático</th>\n",
       "      <td>0</td>\n",
       "      <td>0</td>\n",
       "      <td>0</td>\n",
       "      <td>2</td>\n",
       "      <td>0</td>\n",
       "    </tr>\n",
       "    <tr>\n",
       "      <th>Curso com caráter menos matemático</th>\n",
       "      <td>0</td>\n",
       "      <td>0</td>\n",
       "      <td>1</td>\n",
       "      <td>0</td>\n",
       "      <td>0</td>\n",
       "    </tr>\n",
       "    <tr>\n",
       "      <th>Curso com caráter mercadológico</th>\n",
       "      <td>0</td>\n",
       "      <td>0</td>\n",
       "      <td>4</td>\n",
       "      <td>0</td>\n",
       "      <td>0</td>\n",
       "    </tr>\n",
       "    <tr>\n",
       "      <th>Curso com caráter prático</th>\n",
       "      <td>0</td>\n",
       "      <td>0</td>\n",
       "      <td>0</td>\n",
       "      <td>0</td>\n",
       "      <td>3</td>\n",
       "    </tr>\n",
       "    <tr>\n",
       "      <th>Curso com caráter voltador para programação</th>\n",
       "      <td>0</td>\n",
       "      <td>0</td>\n",
       "      <td>0</td>\n",
       "      <td>1</td>\n",
       "      <td>0</td>\n",
       "    </tr>\n",
       "    <tr>\n",
       "      <th>Expectativas medianas</th>\n",
       "      <td>0</td>\n",
       "      <td>0</td>\n",
       "      <td>0</td>\n",
       "      <td>0</td>\n",
       "      <td>1</td>\n",
       "    </tr>\n",
       "    <tr>\n",
       "      <th>Expectativas positivas</th>\n",
       "      <td>0</td>\n",
       "      <td>0</td>\n",
       "      <td>3</td>\n",
       "      <td>2</td>\n",
       "      <td>0</td>\n",
       "    </tr>\n",
       "    <tr>\n",
       "      <th>Perfil de alunos entusiasmados</th>\n",
       "      <td>0</td>\n",
       "      <td>0</td>\n",
       "      <td>0</td>\n",
       "      <td>0</td>\n",
       "      <td>2</td>\n",
       "    </tr>\n",
       "    <tr>\n",
       "      <th>Perfil majoritariamente masculino</th>\n",
       "      <td>0</td>\n",
       "      <td>0</td>\n",
       "      <td>0</td>\n",
       "      <td>2</td>\n",
       "      <td>0</td>\n",
       "    </tr>\n",
       "    <tr>\n",
       "      <th>Projetos práticos</th>\n",
       "      <td>0</td>\n",
       "      <td>0</td>\n",
       "      <td>0</td>\n",
       "      <td>1</td>\n",
       "      <td>0</td>\n",
       "    </tr>\n",
       "  </tbody>\n",
       "</table>\n",
       "</div>"
      ],
      "text/plain": [
       "uso de jogos impacta na visão sobre o curso?  1  2  3  4  5\n",
       "expectativas                                               \n",
       "Atividades extracurriculares                  0  0  0  2  0\n",
       "Bom networking                                0  0  0  0  2\n",
       "Capacitação e aprendizado                     6  5  8  7  4\n",
       "Curso com caráter acadêmico                   0  0  0  0  1\n",
       "Curso com caráter difícil                     0  1  0  0  2\n",
       "Curso com caráter matemático                  0  0  0  2  0\n",
       "Curso com caráter menos matemático            0  0  1  0  0\n",
       "Curso com caráter mercadológico               0  0  4  0  0\n",
       "Curso com caráter prático                     0  0  0  0  3\n",
       "Curso com caráter voltador para programação   0  0  0  1  0\n",
       "Expectativas medianas                         0  0  0  0  1\n",
       "Expectativas positivas                        0  0  3  2  0\n",
       "Perfil de alunos entusiasmados                0  0  0  0  2\n",
       "Perfil majoritariamente masculino             0  0  0  2  0\n",
       "Projetos práticos                             0  0  0  1  0"
      ]
     },
     "execution_count": 69,
     "metadata": {},
     "output_type": "execute_result"
    }
   ],
   "source": [
    "tab_cross_expec_jogos = pd.crosstab(vet_separados['expectativas'], vet_separados['uso de jogos impacta na visão sobre o curso?'])\n",
    "tab_cross_expec_jogos"
   ]
  },
  {
   "cell_type": "markdown",
   "metadata": {},
   "source": [
    "----------\n",
    "* ### contagem relativa (%)"
   ]
  },
  {
   "cell_type": "code",
   "execution_count": 70,
   "metadata": {
    "scrolled": true
   },
   "outputs": [
    {
     "data": {
      "text/html": [
       "<style  type=\"text/css\" >\n",
       "</style><table id=\"T_a953f1f8_3d53_11ea_8458_c8f733fd5142\" ><thead>    <tr>        <th class=\"index_name level0\" >uso de jogos impacta na visão sobre o curso?</th>        <th class=\"col_heading level0 col0\" >1</th>        <th class=\"col_heading level0 col1\" >2</th>        <th class=\"col_heading level0 col2\" >3</th>        <th class=\"col_heading level0 col3\" >4</th>        <th class=\"col_heading level0 col4\" >5</th>    </tr>    <tr>        <th class=\"index_name level0\" >expectativas</th>        <th class=\"blank\" ></th>        <th class=\"blank\" ></th>        <th class=\"blank\" ></th>        <th class=\"blank\" ></th>        <th class=\"blank\" ></th>    </tr></thead><tbody>\n",
       "                <tr>\n",
       "                        <th id=\"T_a953f1f8_3d53_11ea_8458_c8f733fd5142level0_row0\" class=\"row_heading level0 row0\" >Atividades extracurriculares</th>\n",
       "                        <td id=\"T_a953f1f8_3d53_11ea_8458_c8f733fd5142row0_col0\" class=\"data row0 col0\" >0.00%</td>\n",
       "                        <td id=\"T_a953f1f8_3d53_11ea_8458_c8f733fd5142row0_col1\" class=\"data row0 col1\" >0.00%</td>\n",
       "                        <td id=\"T_a953f1f8_3d53_11ea_8458_c8f733fd5142row0_col2\" class=\"data row0 col2\" >0.00%</td>\n",
       "                        <td id=\"T_a953f1f8_3d53_11ea_8458_c8f733fd5142row0_col3\" class=\"data row0 col3\" >100.00%</td>\n",
       "                        <td id=\"T_a953f1f8_3d53_11ea_8458_c8f733fd5142row0_col4\" class=\"data row0 col4\" >0.00%</td>\n",
       "            </tr>\n",
       "            <tr>\n",
       "                        <th id=\"T_a953f1f8_3d53_11ea_8458_c8f733fd5142level0_row1\" class=\"row_heading level0 row1\" >Bom networking</th>\n",
       "                        <td id=\"T_a953f1f8_3d53_11ea_8458_c8f733fd5142row1_col0\" class=\"data row1 col0\" >0.00%</td>\n",
       "                        <td id=\"T_a953f1f8_3d53_11ea_8458_c8f733fd5142row1_col1\" class=\"data row1 col1\" >0.00%</td>\n",
       "                        <td id=\"T_a953f1f8_3d53_11ea_8458_c8f733fd5142row1_col2\" class=\"data row1 col2\" >0.00%</td>\n",
       "                        <td id=\"T_a953f1f8_3d53_11ea_8458_c8f733fd5142row1_col3\" class=\"data row1 col3\" >0.00%</td>\n",
       "                        <td id=\"T_a953f1f8_3d53_11ea_8458_c8f733fd5142row1_col4\" class=\"data row1 col4\" >100.00%</td>\n",
       "            </tr>\n",
       "            <tr>\n",
       "                        <th id=\"T_a953f1f8_3d53_11ea_8458_c8f733fd5142level0_row2\" class=\"row_heading level0 row2\" >Capacitação e aprendizado</th>\n",
       "                        <td id=\"T_a953f1f8_3d53_11ea_8458_c8f733fd5142row2_col0\" class=\"data row2 col0\" >20.00%</td>\n",
       "                        <td id=\"T_a953f1f8_3d53_11ea_8458_c8f733fd5142row2_col1\" class=\"data row2 col1\" >16.67%</td>\n",
       "                        <td id=\"T_a953f1f8_3d53_11ea_8458_c8f733fd5142row2_col2\" class=\"data row2 col2\" >26.67%</td>\n",
       "                        <td id=\"T_a953f1f8_3d53_11ea_8458_c8f733fd5142row2_col3\" class=\"data row2 col3\" >23.33%</td>\n",
       "                        <td id=\"T_a953f1f8_3d53_11ea_8458_c8f733fd5142row2_col4\" class=\"data row2 col4\" >13.33%</td>\n",
       "            </tr>\n",
       "            <tr>\n",
       "                        <th id=\"T_a953f1f8_3d53_11ea_8458_c8f733fd5142level0_row3\" class=\"row_heading level0 row3\" >Curso com caráter acadêmico</th>\n",
       "                        <td id=\"T_a953f1f8_3d53_11ea_8458_c8f733fd5142row3_col0\" class=\"data row3 col0\" >0.00%</td>\n",
       "                        <td id=\"T_a953f1f8_3d53_11ea_8458_c8f733fd5142row3_col1\" class=\"data row3 col1\" >0.00%</td>\n",
       "                        <td id=\"T_a953f1f8_3d53_11ea_8458_c8f733fd5142row3_col2\" class=\"data row3 col2\" >0.00%</td>\n",
       "                        <td id=\"T_a953f1f8_3d53_11ea_8458_c8f733fd5142row3_col3\" class=\"data row3 col3\" >0.00%</td>\n",
       "                        <td id=\"T_a953f1f8_3d53_11ea_8458_c8f733fd5142row3_col4\" class=\"data row3 col4\" >100.00%</td>\n",
       "            </tr>\n",
       "            <tr>\n",
       "                        <th id=\"T_a953f1f8_3d53_11ea_8458_c8f733fd5142level0_row4\" class=\"row_heading level0 row4\" >Curso com caráter difícil</th>\n",
       "                        <td id=\"T_a953f1f8_3d53_11ea_8458_c8f733fd5142row4_col0\" class=\"data row4 col0\" >0.00%</td>\n",
       "                        <td id=\"T_a953f1f8_3d53_11ea_8458_c8f733fd5142row4_col1\" class=\"data row4 col1\" >33.33%</td>\n",
       "                        <td id=\"T_a953f1f8_3d53_11ea_8458_c8f733fd5142row4_col2\" class=\"data row4 col2\" >0.00%</td>\n",
       "                        <td id=\"T_a953f1f8_3d53_11ea_8458_c8f733fd5142row4_col3\" class=\"data row4 col3\" >0.00%</td>\n",
       "                        <td id=\"T_a953f1f8_3d53_11ea_8458_c8f733fd5142row4_col4\" class=\"data row4 col4\" >66.67%</td>\n",
       "            </tr>\n",
       "            <tr>\n",
       "                        <th id=\"T_a953f1f8_3d53_11ea_8458_c8f733fd5142level0_row5\" class=\"row_heading level0 row5\" >Curso com caráter matemático</th>\n",
       "                        <td id=\"T_a953f1f8_3d53_11ea_8458_c8f733fd5142row5_col0\" class=\"data row5 col0\" >0.00%</td>\n",
       "                        <td id=\"T_a953f1f8_3d53_11ea_8458_c8f733fd5142row5_col1\" class=\"data row5 col1\" >0.00%</td>\n",
       "                        <td id=\"T_a953f1f8_3d53_11ea_8458_c8f733fd5142row5_col2\" class=\"data row5 col2\" >0.00%</td>\n",
       "                        <td id=\"T_a953f1f8_3d53_11ea_8458_c8f733fd5142row5_col3\" class=\"data row5 col3\" >100.00%</td>\n",
       "                        <td id=\"T_a953f1f8_3d53_11ea_8458_c8f733fd5142row5_col4\" class=\"data row5 col4\" >0.00%</td>\n",
       "            </tr>\n",
       "            <tr>\n",
       "                        <th id=\"T_a953f1f8_3d53_11ea_8458_c8f733fd5142level0_row6\" class=\"row_heading level0 row6\" >Curso com caráter menos matemático</th>\n",
       "                        <td id=\"T_a953f1f8_3d53_11ea_8458_c8f733fd5142row6_col0\" class=\"data row6 col0\" >0.00%</td>\n",
       "                        <td id=\"T_a953f1f8_3d53_11ea_8458_c8f733fd5142row6_col1\" class=\"data row6 col1\" >0.00%</td>\n",
       "                        <td id=\"T_a953f1f8_3d53_11ea_8458_c8f733fd5142row6_col2\" class=\"data row6 col2\" >100.00%</td>\n",
       "                        <td id=\"T_a953f1f8_3d53_11ea_8458_c8f733fd5142row6_col3\" class=\"data row6 col3\" >0.00%</td>\n",
       "                        <td id=\"T_a953f1f8_3d53_11ea_8458_c8f733fd5142row6_col4\" class=\"data row6 col4\" >0.00%</td>\n",
       "            </tr>\n",
       "            <tr>\n",
       "                        <th id=\"T_a953f1f8_3d53_11ea_8458_c8f733fd5142level0_row7\" class=\"row_heading level0 row7\" >Curso com caráter mercadológico</th>\n",
       "                        <td id=\"T_a953f1f8_3d53_11ea_8458_c8f733fd5142row7_col0\" class=\"data row7 col0\" >0.00%</td>\n",
       "                        <td id=\"T_a953f1f8_3d53_11ea_8458_c8f733fd5142row7_col1\" class=\"data row7 col1\" >0.00%</td>\n",
       "                        <td id=\"T_a953f1f8_3d53_11ea_8458_c8f733fd5142row7_col2\" class=\"data row7 col2\" >100.00%</td>\n",
       "                        <td id=\"T_a953f1f8_3d53_11ea_8458_c8f733fd5142row7_col3\" class=\"data row7 col3\" >0.00%</td>\n",
       "                        <td id=\"T_a953f1f8_3d53_11ea_8458_c8f733fd5142row7_col4\" class=\"data row7 col4\" >0.00%</td>\n",
       "            </tr>\n",
       "            <tr>\n",
       "                        <th id=\"T_a953f1f8_3d53_11ea_8458_c8f733fd5142level0_row8\" class=\"row_heading level0 row8\" >Curso com caráter prático</th>\n",
       "                        <td id=\"T_a953f1f8_3d53_11ea_8458_c8f733fd5142row8_col0\" class=\"data row8 col0\" >0.00%</td>\n",
       "                        <td id=\"T_a953f1f8_3d53_11ea_8458_c8f733fd5142row8_col1\" class=\"data row8 col1\" >0.00%</td>\n",
       "                        <td id=\"T_a953f1f8_3d53_11ea_8458_c8f733fd5142row8_col2\" class=\"data row8 col2\" >0.00%</td>\n",
       "                        <td id=\"T_a953f1f8_3d53_11ea_8458_c8f733fd5142row8_col3\" class=\"data row8 col3\" >0.00%</td>\n",
       "                        <td id=\"T_a953f1f8_3d53_11ea_8458_c8f733fd5142row8_col4\" class=\"data row8 col4\" >100.00%</td>\n",
       "            </tr>\n",
       "            <tr>\n",
       "                        <th id=\"T_a953f1f8_3d53_11ea_8458_c8f733fd5142level0_row9\" class=\"row_heading level0 row9\" >Curso com caráter voltador para programação</th>\n",
       "                        <td id=\"T_a953f1f8_3d53_11ea_8458_c8f733fd5142row9_col0\" class=\"data row9 col0\" >0.00%</td>\n",
       "                        <td id=\"T_a953f1f8_3d53_11ea_8458_c8f733fd5142row9_col1\" class=\"data row9 col1\" >0.00%</td>\n",
       "                        <td id=\"T_a953f1f8_3d53_11ea_8458_c8f733fd5142row9_col2\" class=\"data row9 col2\" >0.00%</td>\n",
       "                        <td id=\"T_a953f1f8_3d53_11ea_8458_c8f733fd5142row9_col3\" class=\"data row9 col3\" >100.00%</td>\n",
       "                        <td id=\"T_a953f1f8_3d53_11ea_8458_c8f733fd5142row9_col4\" class=\"data row9 col4\" >0.00%</td>\n",
       "            </tr>\n",
       "            <tr>\n",
       "                        <th id=\"T_a953f1f8_3d53_11ea_8458_c8f733fd5142level0_row10\" class=\"row_heading level0 row10\" >Expectativas medianas</th>\n",
       "                        <td id=\"T_a953f1f8_3d53_11ea_8458_c8f733fd5142row10_col0\" class=\"data row10 col0\" >0.00%</td>\n",
       "                        <td id=\"T_a953f1f8_3d53_11ea_8458_c8f733fd5142row10_col1\" class=\"data row10 col1\" >0.00%</td>\n",
       "                        <td id=\"T_a953f1f8_3d53_11ea_8458_c8f733fd5142row10_col2\" class=\"data row10 col2\" >0.00%</td>\n",
       "                        <td id=\"T_a953f1f8_3d53_11ea_8458_c8f733fd5142row10_col3\" class=\"data row10 col3\" >0.00%</td>\n",
       "                        <td id=\"T_a953f1f8_3d53_11ea_8458_c8f733fd5142row10_col4\" class=\"data row10 col4\" >100.00%</td>\n",
       "            </tr>\n",
       "            <tr>\n",
       "                        <th id=\"T_a953f1f8_3d53_11ea_8458_c8f733fd5142level0_row11\" class=\"row_heading level0 row11\" >Expectativas positivas</th>\n",
       "                        <td id=\"T_a953f1f8_3d53_11ea_8458_c8f733fd5142row11_col0\" class=\"data row11 col0\" >0.00%</td>\n",
       "                        <td id=\"T_a953f1f8_3d53_11ea_8458_c8f733fd5142row11_col1\" class=\"data row11 col1\" >0.00%</td>\n",
       "                        <td id=\"T_a953f1f8_3d53_11ea_8458_c8f733fd5142row11_col2\" class=\"data row11 col2\" >60.00%</td>\n",
       "                        <td id=\"T_a953f1f8_3d53_11ea_8458_c8f733fd5142row11_col3\" class=\"data row11 col3\" >40.00%</td>\n",
       "                        <td id=\"T_a953f1f8_3d53_11ea_8458_c8f733fd5142row11_col4\" class=\"data row11 col4\" >0.00%</td>\n",
       "            </tr>\n",
       "            <tr>\n",
       "                        <th id=\"T_a953f1f8_3d53_11ea_8458_c8f733fd5142level0_row12\" class=\"row_heading level0 row12\" >Perfil de alunos entusiasmados</th>\n",
       "                        <td id=\"T_a953f1f8_3d53_11ea_8458_c8f733fd5142row12_col0\" class=\"data row12 col0\" >0.00%</td>\n",
       "                        <td id=\"T_a953f1f8_3d53_11ea_8458_c8f733fd5142row12_col1\" class=\"data row12 col1\" >0.00%</td>\n",
       "                        <td id=\"T_a953f1f8_3d53_11ea_8458_c8f733fd5142row12_col2\" class=\"data row12 col2\" >0.00%</td>\n",
       "                        <td id=\"T_a953f1f8_3d53_11ea_8458_c8f733fd5142row12_col3\" class=\"data row12 col3\" >0.00%</td>\n",
       "                        <td id=\"T_a953f1f8_3d53_11ea_8458_c8f733fd5142row12_col4\" class=\"data row12 col4\" >100.00%</td>\n",
       "            </tr>\n",
       "            <tr>\n",
       "                        <th id=\"T_a953f1f8_3d53_11ea_8458_c8f733fd5142level0_row13\" class=\"row_heading level0 row13\" >Perfil majoritariamente masculino</th>\n",
       "                        <td id=\"T_a953f1f8_3d53_11ea_8458_c8f733fd5142row13_col0\" class=\"data row13 col0\" >0.00%</td>\n",
       "                        <td id=\"T_a953f1f8_3d53_11ea_8458_c8f733fd5142row13_col1\" class=\"data row13 col1\" >0.00%</td>\n",
       "                        <td id=\"T_a953f1f8_3d53_11ea_8458_c8f733fd5142row13_col2\" class=\"data row13 col2\" >0.00%</td>\n",
       "                        <td id=\"T_a953f1f8_3d53_11ea_8458_c8f733fd5142row13_col3\" class=\"data row13 col3\" >100.00%</td>\n",
       "                        <td id=\"T_a953f1f8_3d53_11ea_8458_c8f733fd5142row13_col4\" class=\"data row13 col4\" >0.00%</td>\n",
       "            </tr>\n",
       "            <tr>\n",
       "                        <th id=\"T_a953f1f8_3d53_11ea_8458_c8f733fd5142level0_row14\" class=\"row_heading level0 row14\" >Projetos práticos</th>\n",
       "                        <td id=\"T_a953f1f8_3d53_11ea_8458_c8f733fd5142row14_col0\" class=\"data row14 col0\" >0.00%</td>\n",
       "                        <td id=\"T_a953f1f8_3d53_11ea_8458_c8f733fd5142row14_col1\" class=\"data row14 col1\" >0.00%</td>\n",
       "                        <td id=\"T_a953f1f8_3d53_11ea_8458_c8f733fd5142row14_col2\" class=\"data row14 col2\" >0.00%</td>\n",
       "                        <td id=\"T_a953f1f8_3d53_11ea_8458_c8f733fd5142row14_col3\" class=\"data row14 col3\" >100.00%</td>\n",
       "                        <td id=\"T_a953f1f8_3d53_11ea_8458_c8f733fd5142row14_col4\" class=\"data row14 col4\" >0.00%</td>\n",
       "            </tr>\n",
       "    </tbody></table>"
      ],
      "text/plain": [
       "<pandas.io.formats.style.Styler at 0xb07f9c8>"
      ]
     },
     "execution_count": 70,
     "metadata": {},
     "output_type": "execute_result"
    }
   ],
   "source": [
    "tab_cross_expec_jogos.apply(lambda r: r/r.sum(), axis=1).style.format(\"{:.2%}\")"
   ]
  },
  {
   "cell_type": "markdown",
   "metadata": {},
   "source": [
    "----------\n",
    "## Variáveis auxiliares\n",
    "----------"
   ]
  },
  {
   "cell_type": "code",
   "execution_count": 17,
   "metadata": {},
   "outputs": [],
   "source": [
    "# replacing the codes by the categorie names\n",
    "codesByCat = {\n",
    "    \"motivação para entrar\" : {\"IntAC\":\"Interesse por áreas do curso\",\\\n",
    "             \"Emp\": \"Empregabilidade\",\\\n",
    "             \"IntTer\":\"Influência de Terceiros\"\\\n",
    "            },\n",
    "\n",
    "    \"expectativas\" : {\n",
    "        \"CCMat\": \"Curso com caráter matemático\", \\\n",
    "        \"PAMasc\": \"Perfil majoritariamente masculino\", \\\n",
    "        \"CCDif\":\"Curso com caráter difícil\", \\\n",
    "        \"PAEnt\":\"Perfil de alunos entusiasmados\",\\\n",
    "        \"CCPrat\": \"Curso com caráter prático\", \\\n",
    "        \"CapAp\": \"Capacitação e aprendizado\", \\\n",
    "        \"EP\": \"Expectativas positivas\", \\\n",
    "        \"CCProg\": \"Curso com caráter voltador para programação\",\\\n",
    "        \"AtivExtCur\": \"Atividades extracurriculares\",\\\n",
    "        \"AtivEC\": \"Atividades extracurriculares\",\\\n",
    "        \"CCMerc\":\"Curso com caráter mercadológico\",\\\n",
    "        \"CCAcad\": \"Curso com caráter acadêmico\", \\\n",
    "        \"CCMenMat\": \"Curso com caráter menos matemático\",\\\n",
    "        \"Netw\": \"Bom networking\",\\\n",
    "        \"ProjPrat\":\"Projetos práticos\",\\\n",
    "        \"NS\":\"Não Sabe\",\\\n",
    "        \"PartAC\":\"Participação nas atividades do curso\",\\\n",
    "        \"PesqDev\":\"Pesquisa e Desenvolvimento\",\\\n",
    "        \"EM\": \"Expectativas medianas\"\\\n",
    "        },\n",
    "\n",
    "    \"mercado de trabalho\" : {\n",
    "        \"BEmp\": \"Boa empregabilidade\", \\\n",
    "        \"TrabAI\": \"Trabalhar na área de interesse\", \\\n",
    "        \"EP\":\"Expectativas positivas\", \\\n",
    "        \"N\":\"Nenhuma\",\\\n",
    "        \"DivOp\": \"Diversidade de oportunidades\", \\\n",
    "        \"EmpRR\": \"Empregabilidade regional ruim\", \\\n",
    "        \"SocRel\": \"Socialmente Relevante\", \\\n",
    "        \"MercC\": \"Mercado concorrido\",\\\n",
    "        \"EN\": \"Expectativas negativas\",\\\n",
    "        \"MercTA\": \"Mercado de trabalho amplo\",\\\n",
    "        \"DiscAM\": \"Discrepância entre academia e mercado\"\\\n",
    "        }\n",
    "}\n"
   ]
  },
  {
   "cell_type": "code",
   "execution_count": null,
   "metadata": {},
   "outputs": [],
   "source": []
  }
 ],
 "metadata": {
  "kernelspec": {
   "display_name": "Python 3",
   "language": "python",
   "name": "python3"
  },
  "language_info": {
   "codemirror_mode": {
    "name": "ipython",
    "version": 3
   },
   "file_extension": ".py",
   "mimetype": "text/x-python",
   "name": "python",
   "nbconvert_exporter": "python",
   "pygments_lexer": "ipython3",
   "version": "3.7.4"
  }
 },
 "nbformat": 4,
 "nbformat_minor": 4
}
